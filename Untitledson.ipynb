{
  "cells": [
    {
      "cell_type": "markdown",
      "metadata": {
        "id": "view-in-github",
        "colab_type": "text"
      },
      "source": [
        "<a href=\"https://colab.research.google.com/github/MuhammedDilli/-JAVA-ProgressBar-Dosya-indirme-Simulasyonu/blob/main/Untitledson.ipynb\" target=\"_parent\"><img src=\"https://colab.research.google.com/assets/colab-badge.svg\" alt=\"Open In Colab\"/></a>"
      ]
    },
    {
      "cell_type": "code",
      "execution_count": null,
      "metadata": {
        "colab": {
          "base_uri": "https://localhost:8080/"
        },
        "id": "pFtdBIQYMwbz",
        "outputId": "1c394877-e8ec-4c28-8ee1-fb82e5a9053a"
      },
      "outputs": [
        {
          "output_type": "stream",
          "name": "stdout",
          "text": [
            "Drive already mounted at /content/drive; to attempt to forcibly remount, call drive.mount(\"/content/drive\", force_remount=True).\n"
          ]
        }
      ],
      "source": [
        "from google.colab import drive\n",
        "drive.mount('/content/drive')"
      ]
    },
    {
      "cell_type": "code",
      "execution_count": null,
      "metadata": {
        "id": "ljeQvD4eM8HF"
      },
      "outputs": [],
      "source": [
        "!pip install -q datasets transformers"
      ]
    },
    {
      "cell_type": "code",
      "execution_count": null,
      "metadata": {
        "colab": {
          "base_uri": "https://localhost:8080/"
        },
        "id": "iiZMKR6zM8EV",
        "outputId": "852bdc3b-38fd-4f9d-e643-bc4f36ee9492"
      },
      "outputs": [
        {
          "output_type": "stream",
          "name": "stderr",
          "text": [
            "100%|██████████| 2355/2355 [00:50<00:00, 46.55it/s] \n"
          ]
        }
      ],
      "source": [
        "from PIL import Image\n",
        "from glob import glob\n",
        "\n",
        "from tqdm import tqdm\n",
        "\n",
        "\n",
        "images = sorted(glob('/content/drive/MyDrive/KemikBitirme/train/Fractured/*'))\n",
        "\n",
        "for image in tqdm(images):\n",
        "  img = Image.open(image).convert('RGB')\n",
        "  img.save(image)"
      ]
    },
    {
      "cell_type": "code",
      "execution_count": null,
      "metadata": {
        "colab": {
          "base_uri": "https://localhost:8080/"
        },
        "id": "1AAUh5ShM8Bt",
        "outputId": "2c4b1d8e-5cd0-49ba-bcf8-9d2c211286cc"
      },
      "outputs": [
        {
          "output_type": "stream",
          "name": "stderr",
          "text": [
            "100%|██████████| 2355/2355 [00:51<00:00, 45.63it/s] \n"
          ]
        }
      ],
      "source": [
        "from PIL import Image\n",
        "from glob import glob\n",
        "\n",
        "from tqdm import tqdm\n",
        "\n",
        "\n",
        "images = sorted(glob('/content/drive/MyDrive/KemikBitirme/train/not_Fractured/*'))\n",
        "\n",
        "for image in tqdm(images):\n",
        "  img = Image.open(image).convert('RGB')\n",
        "  img.save(image)\n"
      ]
    },
    {
      "cell_type": "code",
      "execution_count": null,
      "metadata": {
        "colab": {
          "base_uri": "https://localhost:8080/",
          "height": 548,
          "referenced_widgets": [
            "5560d35217d54a26abccafa1146fa6e9",
            "d336a431641e45f2a6981d4b7dfdedbf",
            "e943298847ca46eb8c2194cc3ef9dd8a",
            "25bc9fd43c6e4a9185f8882ee6ca6dbc",
            "0cf8ed9747e14bf28bafcf8240815f1c",
            "5fb446edb3cf42319fa10024354c2d35",
            "f974e1e3661e4fb590feb3a8abf0f4d7",
            "c0cd090e8cbd493792dc039a2b97211c",
            "e48d6a28673f4a83addc86e69664638d",
            "b4d636e9c8d440babe49707b3499c5e2",
            "29af2859bee743fcaab6f8471b842103",
            "f5daa76b8f2c49c194f99f6a01ed62fc",
            "ca1c64dc336046f9a6e6cc4d8a0cf465",
            "b5d2ecc4d744452082fb9cf20ee3581b",
            "f1052f551bc2402bb2f0faa956e476c2",
            "46f3221432e342efb8194be1bb2e03a0",
            "727af21fe9e94c69a5fa62aa23fd99eb",
            "fcfcf7d50c834bce8f2b2ab5b7360523",
            "042066a8567545efa3341bbf7b307c72",
            "063ac75952024eb3b50c2602280e0f66",
            "ac9bf68419ac4602b7e0a52cbadcb79c",
            "4179e7e89fd841929538dc825939bc96",
            "05777f3e156a49dabe1380dda97fa6f1",
            "09dbb5d987b34fb7b7f227b392324bba",
            "21a1869c84104b28b721eafa8e8e2b5b",
            "99a70228f4aa4341b9d72c79755f2030",
            "584eb092b4894a9e8f77c1adaea500f2",
            "35ac31731f6549b69bc924499d6fc349",
            "771e2bc1f8e14bbc8d0babf0e367c854",
            "f16f3fc0c77140068aa82a4020b54cf1",
            "ce896687ea874483ba1d723545b9fb25",
            "7b175ff801644796b6653683ce0e589a",
            "ab83ce271a9c448eb852739c1736c91f",
            "6e0e8fa6690640eab1310e817cef4970",
            "5653260eb4ee4a3ca3e4e03876adb1f1",
            "f7d6e884df394368b5373f9ace1dd7c8",
            "7376d48dda0d40388d8a12cf89466e59",
            "3a58f577e1d4432db3326b24bbeaf35c",
            "edd1d4e540764412b3191b3a7b69aac4",
            "6346656a8daa483d8a9ef408e8d6d3b2",
            "6c338198a0e04ffebc8d896cbe246211",
            "c2675904c89443d2a44d894043da0669",
            "c1d135c510f94b9caad64ba39097e302",
            "bf8ce2bdf7f843159fb5f9dff4ff4c5c",
            "7fd5f6c882d7436da07e52f7bfd6f37a",
            "bb4c7c4eb2e14db28d3fb269567979f9",
            "d9d2e1a206284ab9940179c94424a79d",
            "64009e1c8a79468da73c37d9eaa0dd26",
            "09db2d7e6a6c405aaecc835a38e6fc75",
            "ea22bd14f2334f10879f3380927ad489",
            "cfee0cd440f648e19b3f8a90cf0fcf2e",
            "85d064681541401a88495ffb63aa4148",
            "3d4ef3262eec4c9ba0b51866f07480fd",
            "7cab908b146e4c77be44876fad725508",
            "8419e94b307a42c9a19809ec569b71ab",
            "f2f9674cf3e64716982460ae20b444f0",
            "4b55432cb936483eb68ce119e0870035",
            "b14431f0b0e74ba2b0888e13ea8c3f69",
            "af6a185476894ee1a009c504b696ccd2",
            "e31cbc0b4e784e46b1218bfec2d28b33",
            "5c1fb456614d4054b51d6ad29b73af50",
            "e3da80fddaf44b26b7022b5d1e0c4639",
            "fe88208f12044a1081c1c9a4e777cf93",
            "1b32055e25e7423890dc6f4c050f365f",
            "bd4d7df4e16c4731b50928e40c9b71b3",
            "d1b6dbbfbfd84f2fb1c1d5d11157bfc5",
            "d42af75de9044c428ced4980bfa505e2",
            "aeb4f8097ec34f9eac360f30f29a2611",
            "87dcea6c81a244a08dde958ba9825c59",
            "6ca1aec9fdb444219b2f63b66c316412",
            "b0448df6748a468387a1af085afaec9d",
            "55bf3ff519584e0f91a673c17eb95778",
            "08698bd73c824c8fb7c0c0d389370036",
            "2e0c8eb666164ee992c9571f80051cc5",
            "c71454f13a74426fb56ee2a7d1e7e2c8",
            "f88285b9c8e349fcbfbe3422150794b4",
            "884e2af0a0844b95a291e3b0a24347ed",
            "83bcf370d29649a184385dcc8ebd0db3",
            "abe8cb6cee3c4033b30266c84bd1c014",
            "2aaafbf386884de6bf4ca0c0732ecc1c",
            "4f8a54f1204f47c9adadf4897b5b6835",
            "f6bbe2fbd8e04188b78bac3792b30c81",
            "b6f84fe156354101a5f5018243adef81",
            "35ead204d2614a3dbe7cb07f5ae9f412",
            "6c8bd9e725f0425d9f5dd705523d218e",
            "faec26e8f5aa4fb6afde8de62edeaa9c",
            "ab15b5dc0e1944ea8588238500710654",
            "d593b685a6b3492798a1588d9afc0cbc",
            "8e331264ba4148308867d94caa46f284",
            "830096703a2442169444411c73224c00",
            "82e17e1adc704213b0843e7eec635452",
            "e3a3df16ec55435cad8b3aa4a3a5d556",
            "431f04ddcd8849b4ab8e79e61451dd41",
            "1a4653ae88794c66acf14d59918efa59",
            "4565f36d52794117886a45cc36bb4300",
            "743cc299ad71406781b5acdb8a15e5f0",
            "a33d73aba8034f1497af3be2eade5aaf",
            "12b94d567ba340e1b95b9de9c2634d17",
            "621d3c343190452dbaa8482159e47b43"
          ]
        },
        "id": "aiyBLfLpM7_N",
        "outputId": "98b8cdef-9584-44cc-994b-ce9019ba3d67"
      },
      "outputs": [
        {
          "output_type": "display_data",
          "data": {
            "text/plain": [
              "Resolving data files:   0%|          | 0/4710 [00:00<?, ?it/s]"
            ],
            "application/vnd.jupyter.widget-view+json": {
              "version_major": 2,
              "version_minor": 0,
              "model_id": "5560d35217d54a26abccafa1146fa6e9"
            }
          },
          "metadata": {}
        },
        {
          "output_type": "display_data",
          "data": {
            "text/plain": [
              "Resolving data files:   0%|          | 0/672 [00:00<?, ?it/s]"
            ],
            "application/vnd.jupyter.widget-view+json": {
              "version_major": 2,
              "version_minor": 0,
              "model_id": "f5daa76b8f2c49c194f99f6a01ed62fc"
            }
          },
          "metadata": {}
        },
        {
          "output_type": "display_data",
          "data": {
            "text/plain": [
              "Resolving data files:   0%|          | 0/1342 [00:00<?, ?it/s]"
            ],
            "application/vnd.jupyter.widget-view+json": {
              "version_major": 2,
              "version_minor": 0,
              "model_id": "05777f3e156a49dabe1380dda97fa6f1"
            }
          },
          "metadata": {}
        },
        {
          "output_type": "display_data",
          "data": {
            "text/plain": [
              "Downloading data:   0%|          | 0/4710 [00:00<?, ?files/s]"
            ],
            "application/vnd.jupyter.widget-view+json": {
              "version_major": 2,
              "version_minor": 0,
              "model_id": "6e0e8fa6690640eab1310e817cef4970"
            }
          },
          "metadata": {}
        },
        {
          "output_type": "display_data",
          "data": {
            "text/plain": [
              "Downloading data:   0%|          | 0/672 [00:00<?, ?files/s]"
            ],
            "application/vnd.jupyter.widget-view+json": {
              "version_major": 2,
              "version_minor": 0,
              "model_id": "7fd5f6c882d7436da07e52f7bfd6f37a"
            }
          },
          "metadata": {}
        },
        {
          "output_type": "display_data",
          "data": {
            "text/plain": [
              "Downloading data:   0%|          | 0/1342 [00:00<?, ?files/s]"
            ],
            "application/vnd.jupyter.widget-view+json": {
              "version_major": 2,
              "version_minor": 0,
              "model_id": "f2f9674cf3e64716982460ae20b444f0"
            }
          },
          "metadata": {}
        },
        {
          "output_type": "display_data",
          "data": {
            "text/plain": [
              "Generating train split: 0 examples [00:00, ? examples/s]"
            ],
            "application/vnd.jupyter.widget-view+json": {
              "version_major": 2,
              "version_minor": 0,
              "model_id": "d42af75de9044c428ced4980bfa505e2"
            }
          },
          "metadata": {}
        },
        {
          "output_type": "display_data",
          "data": {
            "text/plain": [
              "Generating validation split: 0 examples [00:00, ? examples/s]"
            ],
            "application/vnd.jupyter.widget-view+json": {
              "version_major": 2,
              "version_minor": 0,
              "model_id": "83bcf370d29649a184385dcc8ebd0db3"
            }
          },
          "metadata": {}
        },
        {
          "output_type": "display_data",
          "data": {
            "text/plain": [
              "Generating test split: 0 examples [00:00, ? examples/s]"
            ],
            "application/vnd.jupyter.widget-view+json": {
              "version_major": 2,
              "version_minor": 0,
              "model_id": "8e331264ba4148308867d94caa46f284"
            }
          },
          "metadata": {}
        },
        {
          "output_type": "stream",
          "name": "stdout",
          "text": [
            "DatasetDict({\n",
            "    train: Dataset({\n",
            "        features: ['image', 'label'],\n",
            "        num_rows: 4710\n",
            "    })\n",
            "    validation: Dataset({\n",
            "        features: ['image', 'label'],\n",
            "        num_rows: 672\n",
            "    })\n",
            "    test: Dataset({\n",
            "        features: ['image', 'label'],\n",
            "        num_rows: 1342\n",
            "    })\n",
            "})\n"
          ]
        }
      ],
      "source": [
        "from datasets import load_dataset\n",
        "\n",
        "# Load dataset\n",
        "dataset = load_dataset(\"/content/drive/MyDrive/KemikBitirme\")\n",
        "print(dataset)"
      ]
    },
    {
      "cell_type": "code",
      "execution_count": null,
      "metadata": {
        "colab": {
          "base_uri": "https://localhost:8080/"
        },
        "id": "nNA_WGR6M78V",
        "outputId": "46b64a80-6778-4988-92aa-9588df10473e"
      },
      "outputs": [
        {
          "output_type": "stream",
          "name": "stdout",
          "text": [
            "['Fractured', 'not_Fractured']\n"
          ]
        }
      ],
      "source": [
        "print(dataset[\"train\"].features['label'].names)"
      ]
    },
    {
      "cell_type": "code",
      "execution_count": null,
      "metadata": {
        "colab": {
          "base_uri": "https://localhost:8080/"
        },
        "id": "d8qHvoaiM751",
        "outputId": "173c7f4c-bd82-4189-8e67-f317dccaea7e"
      },
      "outputs": [
        {
          "output_type": "stream",
          "name": "stdout",
          "text": [
            "{'Fractured': 0, 'not_Fractured': 1}\n",
            "{0: 'Fractured', 1: 'not_Fractured'}\n"
          ]
        }
      ],
      "source": [
        "labels = dataset[\"train\"].features[\"label\"].names\n",
        "num_labels = len(dataset[\"train\"].features[\"label\"].names)\n",
        "label2id, id2label = dict(), dict()\n",
        "for i, label in enumerate(labels):\n",
        "    label2id[label] = i\n",
        "    id2label[i] = label\n",
        "\n",
        "print(label2id)\n",
        "print(id2label)"
      ]
    },
    {
      "cell_type": "code",
      "execution_count": null,
      "metadata": {
        "colab": {
          "base_uri": "https://localhost:8080/"
        },
        "id": "s2WTu4LtM72t",
        "outputId": "2bcb0163-7050-4240-84b5-d599236d3726"
      },
      "outputs": [
        {
          "output_type": "stream",
          "name": "stdout",
          "text": [
            "Original image size: torch.Size([1, 3, 48, 48])\n",
            "Size after projection: torch.Size([1, 768, 3, 3])\n"
          ]
        }
      ],
      "source": [
        "import torch\n",
        "import torch.nn as nn\n",
        "\n",
        "toy_img = torch.rand(1, 3, 48, 48)\n",
        "\n",
        "num_channels = 3\n",
        "hidden_size = 768\n",
        "patch_size = 16\n",
        "\n",
        "projection = nn.Conv2d(num_channels, hidden_size, kernel_size=patch_size,\n",
        "             stride=patch_size)\n",
        "\n",
        "\n",
        "out_projection = projection(toy_img)\n",
        "\n",
        "print(f'Original image size: {toy_img.size()}')\n",
        "print(f'Size after projection: {out_projection.size()}')"
      ]
    },
    {
      "cell_type": "code",
      "execution_count": null,
      "metadata": {
        "colab": {
          "base_uri": "https://localhost:8080/"
        },
        "id": "OTcVlB2_NJ1J",
        "outputId": "4eb90613-5a27-4270-f172-df495fec6abc"
      },
      "outputs": [
        {
          "output_type": "stream",
          "name": "stdout",
          "text": [
            "Patch embedding size: torch.Size([1, 9, 768])\n"
          ]
        }
      ],
      "source": [
        "\n",
        "\n",
        "patch_embeddings = out_projection.flatten(2).transpose(1, 2)\n",
        "print(f'Patch embedding size: {patch_embeddings.size()}')"
      ]
    },
    {
      "cell_type": "code",
      "execution_count": null,
      "metadata": {
        "colab": {
          "base_uri": "https://localhost:8080/"
        },
        "id": "OZYx9R9iNJvJ",
        "outputId": "1d6ccf28-dbd6-4fbf-e621-cd52ca46f28f"
      },
      "outputs": [
        {
          "output_type": "stream",
          "name": "stdout",
          "text": [
            "Patch embedding size: torch.Size([1, 10, 768])\n"
          ]
        }
      ],
      "source": [
        "batch_size = 1\n",
        "cls_token = nn.Parameter(torch.randn(1, 1, hidden_size))\n",
        "cls_tokens = cls_token.expand(batch_size, -1, -1)\n",
        "\n",
        "\n",
        "patch_embeddings = torch.cat((cls_tokens, patch_embeddings), dim=1)\n",
        "print(f'Patch embedding size: {patch_embeddings.size()}')"
      ]
    },
    {
      "cell_type": "code",
      "execution_count": null,
      "metadata": {
        "colab": {
          "base_uri": "https://localhost:8080/"
        },
        "id": "ljsIHt08NJsi",
        "outputId": "a09685d0-8363-488d-88e9-a694c5201274"
      },
      "outputs": [
        {
          "output_type": "stream",
          "name": "stdout",
          "text": [
            "Input embedding size: torch.Size([1, 10, 768])\n"
          ]
        }
      ],
      "source": [
        "\n",
        "position_embeddings = nn.Parameter(torch.randn(batch_size, 10, hidden_size))\n",
        "\n",
        "\n",
        "input_embeddings = patch_embeddings + position_embeddings\n",
        "print(f'Input embedding size: {input_embeddings.size()}')"
      ]
    },
    {
      "cell_type": "code",
      "execution_count": null,
      "metadata": {
        "colab": {
          "base_uri": "https://localhost:8080/"
        },
        "id": "hM_HaXdDNJpZ",
        "outputId": "56a9ab13-14e4-435a-d800-4c26ca7eec59"
      },
      "outputs": [
        {
          "output_type": "stream",
          "name": "stdout",
          "text": [
            " Output embedding size: torch.Size([1, 10, 768])\n"
          ]
        },
        {
          "output_type": "stream",
          "name": "stderr",
          "text": [
            "/usr/local/lib/python3.10/dist-packages/torch/nn/modules/transformer.py:306: UserWarning: enable_nested_tensor is True, but self.use_nested_tensor is False because encoder_layer.self_attn.batch_first was not True(use batch_first for better inference performance)\n",
            "  warnings.warn(f\"enable_nested_tensor is True, but self.use_nested_tensor is False because {why_not_sparsity_fast_path}\")\n"
          ]
        }
      ],
      "source": [
        "num_heads = 12\n",
        "num_layers = 12\n",
        "\n",
        "\n",
        "transformer_encoder_layer = nn.TransformerEncoderLayer(\n",
        "           d_model=hidden_size, nhead=num_heads,\n",
        "           dim_feedforward=int(hidden_size * 4),\n",
        "           dropout=0.1)\n",
        "transformer_encoder = nn.TransformerEncoder(\n",
        "           encoder_layer=transformer_encoder_layer,\n",
        "           num_layers=num_layers)\n",
        "\n",
        "\n",
        "output_embeddings = transformer_encoder(input_embeddings)\n",
        "print(f' Output embedding size: {output_embeddings.size()}')"
      ]
    },
    {
      "cell_type": "code",
      "execution_count": null,
      "metadata": {
        "colab": {
          "base_uri": "https://localhost:8080/"
        },
        "id": "HebXydBeNPZ3",
        "outputId": "00f211fd-b642-47cd-b840-8420c00de494"
      },
      "outputs": [
        {
          "output_type": "stream",
          "name": "stderr",
          "text": [
            "/usr/local/lib/python3.10/dist-packages/huggingface_hub/utils/_token.py:89: UserWarning: \n",
            "The secret `HF_TOKEN` does not exist in your Colab secrets.\n",
            "To authenticate with the Hugging Face Hub, create a token in your settings tab (https://huggingface.co/settings/tokens), set it as secret in your Google Colab and restart your session.\n",
            "You will be able to reuse this secret in all of your notebooks.\n",
            "Please note that authentication is recommended but still optional to access public models or datasets.\n",
            "  warnings.warn(\n",
            "Some weights of the model checkpoint at google/vit-base-patch16-224-in21k were not used when initializing ViTModel: ['pooler.dense.bias', 'pooler.dense.weight']\n",
            "- This IS expected if you are initializing ViTModel from the checkpoint of a model trained on another task or with another architecture (e.g. initializing a BertForSequenceClassification model from a BertForPreTraining model).\n",
            "- This IS NOT expected if you are initializing ViTModel from the checkpoint of a model that you expect to be exactly identical (initializing a BertForSequenceClassification model from a BertForSequenceClassification model).\n"
          ]
        },
        {
          "output_type": "stream",
          "name": "stdout",
          "text": [
            "BaseModelOutputWithPooling(last_hidden_state=tensor([[[ 0.0402, -0.2567,  0.0403,  ...,  0.1825,  0.0385, -0.3929],\n",
            "         [ 0.1211,  0.0069,  0.0436,  ..., -0.0829,  0.1633, -0.3166],\n",
            "         [-0.0958, -0.3127,  0.0527,  ...,  0.0594,  0.1434, -0.3544],\n",
            "         ...,\n",
            "         [ 0.1622, -0.0274, -0.0774,  ..., -0.1006,  0.0885, -0.4182],\n",
            "         [ 0.0176, -0.2274, -0.0016,  ...,  0.1159,  0.0871, -0.4728],\n",
            "         [ 0.1159, -0.1667,  0.0110,  ...,  0.0172,  0.0844, -0.2388]]],\n",
            "       grad_fn=<NativeLayerNormBackward0>), pooler_output=None, hidden_states=None, attentions=None)\n",
            "Ouput embedding size: torch.Size([1, 197, 768])\n"
          ]
        }
      ],
      "source": [
        "from transformers import ViTModel\n",
        "\n",
        "\n",
        "model_checkpoint = 'google/vit-base-patch16-224-in21k'\n",
        "model = ViTModel.from_pretrained(model_checkpoint, add_pooling_layer=False)\n",
        "\n",
        "\n",
        "input_img = torch.rand(batch_size, num_channels, 224, 224)\n",
        "\n",
        "\n",
        "output_embedding = model(input_img)\n",
        "print(output_embedding)\n",
        "print(f\"Ouput embedding size: {output_embedding['last_hidden_state'].size()}\")"
      ]
    },
    {
      "cell_type": "code",
      "execution_count": null,
      "metadata": {
        "colab": {
          "base_uri": "https://localhost:8080/"
        },
        "id": "PwfHVTm-NPWv",
        "outputId": "ab0bb580-d56b-42bc-bf43-10650f0aa00f"
      },
      "outputs": [
        {
          "output_type": "stream",
          "name": "stdout",
          "text": [
            "Output embedding size: torch.Size([1, 2])\n"
          ]
        }
      ],
      "source": [
        "num_labels = 2\n",
        "\n",
        "\n",
        "classifier = nn.Linear(hidden_size, num_labels)\n",
        "\n",
        "\n",
        "output_classification = classifier(output_embedding['last_hidden_state'][:, 0, :])\n",
        "print(f\"Output embedding size: {output_classification.size()}\")"
      ]
    },
    {
      "cell_type": "code",
      "execution_count": null,
      "metadata": {
        "colab": {
          "base_uri": "https://localhost:8080/",
          "height": 1000
        },
        "id": "OK6Yn6PKNPT_",
        "outputId": "bb094c34-b5e6-41bd-e57a-62bd249e82d6"
      },
      "outputs": [
        {
          "name": "stderr",
          "output_type": "stream",
          "text": [
            "Some weights of the model checkpoint at google/vit-base-patch16-224-in21k were not used when initializing ViTModel: ['pooler.dense.bias', 'pooler.dense.weight']\n",
            "- This IS expected if you are initializing ViTModel from the checkpoint of a model trained on another task or with another architecture (e.g. initializing a BertForSequenceClassification model from a BertForPreTraining model).\n",
            "- This IS NOT expected if you are initializing ViTModel from the checkpoint of a model that you expect to be exactly identical (initializing a BertForSequenceClassification model from a BertForSequenceClassification model).\n",
            "100%|██████████| 148/148 [01:26<00:00,  1.71it/s]\n",
            "100%|██████████| 21/21 [07:53<00:00, 22.54s/it]\n"
          ]
        },
        {
          "name": "stdout",
          "output_type": "stream",
          "text": [
            "Epoch: 1 | Train Loss: 0.028 | Train Accuracy: 0.715 | Val Loss: 0.019 | Val Accuracy: 0.768\n"
          ]
        },
        {
          "name": "stderr",
          "output_type": "stream",
          "text": [
            "100%|██████████| 148/148 [01:09<00:00,  2.12it/s]\n",
            "100%|██████████| 21/21 [00:06<00:00,  3.39it/s]\n"
          ]
        },
        {
          "name": "stdout",
          "output_type": "stream",
          "text": [
            "Epoch: 2 | Train Loss: 0.013 | Train Accuracy: 0.849 | Val Loss: 0.014 | Val Accuracy: 0.814\n"
          ]
        },
        {
          "name": "stderr",
          "output_type": "stream",
          "text": [
            "100%|██████████| 148/148 [01:10<00:00,  2.11it/s]\n",
            "100%|██████████| 21/21 [00:06<00:00,  3.31it/s]\n"
          ]
        },
        {
          "name": "stdout",
          "output_type": "stream",
          "text": [
            "Epoch: 3 | Train Loss: 0.010 | Train Accuracy: 0.869 | Val Loss: 0.018 | Val Accuracy: 0.716\n"
          ]
        },
        {
          "name": "stderr",
          "output_type": "stream",
          "text": [
            "100%|██████████| 148/148 [01:09<00:00,  2.12it/s]\n",
            "100%|██████████| 21/21 [00:06<00:00,  3.38it/s]\n"
          ]
        },
        {
          "name": "stdout",
          "output_type": "stream",
          "text": [
            "Epoch: 4 | Train Loss: 0.008 | Train Accuracy: 0.892 | Val Loss: 0.021 | Val Accuracy: 0.759\n"
          ]
        },
        {
          "name": "stderr",
          "output_type": "stream",
          "text": [
            "100%|██████████| 148/148 [01:09<00:00,  2.12it/s]\n",
            "100%|██████████| 21/21 [00:06<00:00,  3.49it/s]\n"
          ]
        },
        {
          "name": "stdout",
          "output_type": "stream",
          "text": [
            "Epoch: 5 | Train Loss: 0.008 | Train Accuracy: 0.901 | Val Loss: 0.020 | Val Accuracy: 0.741\n"
          ]
        },
        {
          "name": "stderr",
          "output_type": "stream",
          "text": [
            "100%|██████████| 148/148 [01:09<00:00,  2.12it/s]\n",
            "100%|██████████| 21/21 [00:06<00:00,  3.30it/s]\n"
          ]
        },
        {
          "name": "stdout",
          "output_type": "stream",
          "text": [
            "Epoch: 6 | Train Loss: 0.007 | Train Accuracy: 0.910 | Val Loss: 0.021 | Val Accuracy: 0.771\n"
          ]
        },
        {
          "name": "stderr",
          "output_type": "stream",
          "text": [
            "100%|██████████| 148/148 [01:09<00:00,  2.12it/s]\n",
            "100%|██████████| 21/21 [00:06<00:00,  3.46it/s]\n"
          ]
        },
        {
          "name": "stdout",
          "output_type": "stream",
          "text": [
            "Epoch: 7 | Train Loss: 0.006 | Train Accuracy: 0.923 | Val Loss: 0.027 | Val Accuracy: 0.740\n"
          ]
        },
        {
          "name": "stderr",
          "output_type": "stream",
          "text": [
            "100%|██████████| 148/148 [01:10<00:00,  2.11it/s]\n",
            "100%|██████████| 21/21 [00:06<00:00,  3.39it/s]\n"
          ]
        },
        {
          "name": "stdout",
          "output_type": "stream",
          "text": [
            "Epoch: 8 | Train Loss: 0.006 | Train Accuracy: 0.924 | Val Loss: 0.023 | Val Accuracy: 0.754\n"
          ]
        },
        {
          "name": "stderr",
          "output_type": "stream",
          "text": [
            "100%|██████████| 148/148 [01:09<00:00,  2.14it/s]\n",
            "100%|██████████| 21/21 [00:06<00:00,  3.31it/s]\n"
          ]
        },
        {
          "name": "stdout",
          "output_type": "stream",
          "text": [
            "Epoch: 9 | Train Loss: 0.006 | Train Accuracy: 0.921 | Val Loss: 0.025 | Val Accuracy: 0.656\n"
          ]
        },
        {
          "name": "stderr",
          "output_type": "stream",
          "text": [
            "100%|██████████| 148/148 [01:09<00:00,  2.12it/s]\n",
            "100%|██████████| 21/21 [00:05<00:00,  3.54it/s]\n"
          ]
        },
        {
          "name": "stdout",
          "output_type": "stream",
          "text": [
            "Epoch: 10 | Train Loss: 0.006 | Train Accuracy: 0.925 | Val Loss: 0.020 | Val Accuracy: 0.749\n"
          ]
        },
        {
          "data": {
            "image/png": "[encoded data removed]",
            "text/plain": [
              "<Figure size 1200x600 with 2 Axes>"
            ]
          },
          "metadata": {},
          "output_type": "display_data"
        }
      ],
      "source": [
        "import numpy as np\n",
        "import torch\n",
        "import cv2\n",
        "import torch.nn as nn\n",
        "from transformers import ViTModel, ViTConfig\n",
        "from torchvision import transforms\n",
        "from torch.optim import Adam\n",
        "from torch.utils.data import DataLoader\n",
        "from tqdm import tqdm\n",
        "import matplotlib.pyplot as plt\n",
        "\n",
        "model_checkpoint = 'google/vit-base-patch16-224-in21k'\n",
        "\n",
        "class ImageDataset(torch.utils.data.Dataset):\n",
        "    def __init__(self, input_data, train=True):\n",
        "        self.input_data = input_data\n",
        "        self.train = train\n",
        "        if self.train:\n",
        "            self.transform = transforms.Compose([\n",
        "                transforms.RandomResizedCrop(224),\n",
        "                transforms.RandomHorizontalFlip(),\n",
        "                transforms.ToTensor(),\n",
        "                transforms.Normalize(mean=[0.5, 0.5, 0.5], std=[0.5, 0.5, 0.5])\n",
        "            ])\n",
        "        else:\n",
        "            self.transform = transforms.Compose([\n",
        "                transforms.Resize((224,   224), antialias=True),\n",
        "                transforms.ToTensor(),\n",
        "                transforms.Normalize(mean=[0.5, 0.5, 0.5], std=[0.5, 0.5, 0.5])\n",
        "            ])\n",
        "\n",
        "    def __len__(self):\n",
        "        return len(self.input_data)\n",
        "\n",
        "    def get_images(self, idx):\n",
        "        return self.transform(self.input_data[idx]['image'])\n",
        "\n",
        "    def get_labels(self, idx):\n",
        "        return self.input_data[idx]['label']\n",
        "\n",
        "    def __getitem__(self, idx):\n",
        "        train_images = self.get_images(idx)\n",
        "        train_labels = self.get_labels(idx)\n",
        "        return train_images, train_labels\n",
        "\n",
        "class ViT(nn.Module):\n",
        "    def __init__(self, config=ViTConfig(), num_labels=20, model_checkpoint='google/vit-base-patch16-224-in21k'):\n",
        "        super(ViT, self).__init__()\n",
        "        self.vit = ViTModel.from_pretrained(model_checkpoint, add_pooling_layer=False)\n",
        "        self.classifier = nn.Linear(config.hidden_size, num_labels)\n",
        "        self.dropout = nn.Dropout(0.5)  # Adding dropout with probability 0.5\n",
        "\n",
        "    def forward(self, x):\n",
        "        x = self.vit(x)['last_hidden_state']\n",
        "        x = self.dropout(x)  # Applying dropout\n",
        "        output = self.classifier(x[:, 0, :])\n",
        "        return output\n",
        "\n",
        "def model_train(train_data, val_data, epochs, learning_rate, bs):\n",
        "    use_cuda = torch.cuda.is_available()\n",
        "    device = torch.device(\"cuda\" if use_cuda else \"cpu\")\n",
        "\n",
        "    model = ViT().to(device)\n",
        "    criterion = nn.CrossEntropyLoss().to(device)\n",
        "    optimizer = Adam(model.parameters(), lr=learning_rate, weight_decay=1e-4)  # Adding weight decay\n",
        "\n",
        "    train_dataset = ImageDataset(train_data, train=True)\n",
        "    val_dataset = ImageDataset(val_data, train=False)\n",
        "    train_dataloader = DataLoader(train_dataset, num_workers=1, batch_size=bs, shuffle=True)\n",
        "    val_dataloader = DataLoader(val_dataset, num_workers=1, batch_size=bs, shuffle=False)\n",
        "\n",
        "    train_losses, val_losses = [], []\n",
        "    train_accuracies, val_accuracies = [], []\n",
        "\n",
        "    for i in range(epochs):\n",
        "        total_acc_train = 0\n",
        "        total_loss_train = 0.0\n",
        "        model.train()\n",
        "\n",
        "        for train_image, train_label in tqdm(train_dataloader):\n",
        "            train_image, train_label = train_image.to(device), train_label.to(device)\n",
        "            output = model(train_image)\n",
        "            loss = criterion(output, train_label)\n",
        "            acc = (output.argmax(dim=1) == train_label).sum().item()\n",
        "            total_acc_train += acc\n",
        "            total_loss_train += loss.item()\n",
        "            optimizer.zero_grad()\n",
        "            loss.backward()\n",
        "            optimizer.step()\n",
        "\n",
        "        avg_loss_train = total_loss_train / len(train_dataset)\n",
        "        avg_acc_train = total_acc_train / len(train_dataset)\n",
        "\n",
        "        total_acc_val = 0\n",
        "        total_loss_val = 0.0\n",
        "        model.eval()\n",
        "\n",
        "        with torch.no_grad():\n",
        "            for val_image, val_label in tqdm(val_dataloader):\n",
        "                val_image, val_label = val_image.to(device), val_label.to(device)\n",
        "                output = model(val_image)\n",
        "                loss = criterion(output, val_label)\n",
        "                acc = (output.argmax(dim=1) == val_label).sum().item()\n",
        "                total_acc_val += acc\n",
        "                total_loss_val += loss.item()\n",
        "\n",
        "        avg_loss_val = total_loss_val / len(val_dataset)\n",
        "        avg_acc_val = total_acc_val / len(val_dataset)\n",
        "\n",
        "        train_losses.append(avg_loss_train)\n",
        "        val_losses.append(avg_loss_val)\n",
        "        train_accuracies.append(avg_acc_train)\n",
        "        val_accuracies.append(avg_acc_val)\n",
        "\n",
        "        print(f'Epoch: {i + 1} | Train Loss: {avg_loss_train:.3f} | Train Accuracy: {avg_acc_train:.3f} | Val Loss: {avg_loss_val:.3f} | Val Accuracy: {avg_acc_val:.3f}')\n",
        "\n",
        "    # Plotting the results\n",
        "    epochs_range = range(1, epochs + 1)\n",
        "    plt.figure(figsize=(12, 6))\n",
        "\n",
        "    plt.subplot(1, 2, 1)\n",
        "    plt.plot(epochs_range, train_losses, label='Train Loss')\n",
        "    plt.plot(epochs_range, val_losses, label='Val Loss')\n",
        "    plt.xlabel('Epochs')\n",
        "    plt.ylabel('Loss')\n",
        "    plt.title('Loss over Epochs')\n",
        "    plt.legend()\n",
        "\n",
        "    plt.subplot(1, 2, 2)\n",
        "    plt.plot(epochs_range, train_accuracies, label='Train Accuracy')\n",
        "    plt.plot(epochs_range, val_accuracies, label='Val Accuracy')\n",
        "    plt.xlabel('Epochs')\n",
        "    plt.ylabel('Accuracy')\n",
        "    plt.title('Accuracy over Epochs')\n",
        "    plt.legend()\n",
        "\n",
        "    plt.show()\n",
        "\n",
        "    return model\n",
        "\n",
        "EPOCHS = 10\n",
        "LEARNING_RATE = 1e-4\n",
        "BATCH_SIZE = 32\n",
        "\n",
        "train_data = dataset['train']\n",
        "val_data = dataset['validation']\n",
        "\n",
        "trained_model = model_train(train_data, val_data, EPOCHS, LEARNING_RATE, BATCH_SIZE)\n"
      ]
    },
    {
      "cell_type": "code",
      "execution_count": null,
      "metadata": {
        "colab": {
          "base_uri": "https://localhost:8080/",
          "height": 1000
        },
        "id": "Tw1FOv6gY4AW",
        "outputId": "8a5a0525-8209-43f2-cd9a-de050ec14f11"
      },
      "outputs": [
        {
          "name": "stderr",
          "output_type": "stream",
          "text": [
            "Some weights of the model checkpoint at google/vit-base-patch16-224-in21k were not used when initializing ViTModel: ['pooler.dense.bias', 'pooler.dense.weight']\n",
            "- This IS expected if you are initializing ViTModel from the checkpoint of a model trained on another task or with another architecture (e.g. initializing a BertForSequenceClassification model from a BertForPreTraining model).\n",
            "- This IS NOT expected if you are initializing ViTModel from the checkpoint of a model that you expect to be exactly identical (initializing a BertForSequenceClassification model from a BertForSequenceClassification model).\n",
            "100%|██████████| 148/148 [01:10<00:00,  2.11it/s]\n",
            "100%|██████████| 21/21 [00:06<00:00,  3.49it/s]\n"
          ]
        },
        {
          "name": "stdout",
          "output_type": "stream",
          "text": [
            "Epoch: 1 | Train Loss: 0.028 | Train Accuracy: 0.720 | Val Loss: 0.026 | Val Accuracy: 0.631\n"
          ]
        },
        {
          "name": "stderr",
          "output_type": "stream",
          "text": [
            "100%|██████████| 148/148 [01:10<00:00,  2.11it/s]\n",
            "100%|██████████| 21/21 [00:06<00:00,  3.38it/s]\n"
          ]
        },
        {
          "name": "stdout",
          "output_type": "stream",
          "text": [
            "Epoch: 2 | Train Loss: 0.013 | Train Accuracy: 0.840 | Val Loss: 0.020 | Val Accuracy: 0.723\n"
          ]
        },
        {
          "name": "stderr",
          "output_type": "stream",
          "text": [
            "100%|██████████| 148/148 [01:10<00:00,  2.09it/s]\n",
            "100%|██████████| 21/21 [00:06<00:00,  3.25it/s]\n"
          ]
        },
        {
          "name": "stdout",
          "output_type": "stream",
          "text": [
            "Epoch: 3 | Train Loss: 0.010 | Train Accuracy: 0.864 | Val Loss: 0.020 | Val Accuracy: 0.783\n"
          ]
        },
        {
          "name": "stderr",
          "output_type": "stream",
          "text": [
            "100%|██████████| 148/148 [01:10<00:00,  2.09it/s]\n",
            "100%|██████████| 21/21 [00:06<00:00,  3.47it/s]\n"
          ]
        },
        {
          "name": "stdout",
          "output_type": "stream",
          "text": [
            "Epoch: 4 | Train Loss: 0.010 | Train Accuracy: 0.877 | Val Loss: 0.017 | Val Accuracy: 0.789\n"
          ]
        },
        {
          "name": "stderr",
          "output_type": "stream",
          "text": [
            "100%|██████████| 148/148 [01:09<00:00,  2.11it/s]\n",
            "100%|██████████| 21/21 [00:05<00:00,  3.51it/s]\n"
          ]
        },
        {
          "name": "stdout",
          "output_type": "stream",
          "text": [
            "Epoch: 5 | Train Loss: 0.009 | Train Accuracy: 0.886 | Val Loss: 0.022 | Val Accuracy: 0.766\n"
          ]
        },
        {
          "name": "stderr",
          "output_type": "stream",
          "text": [
            "100%|██████████| 148/148 [01:10<00:00,  2.10it/s]\n",
            "100%|██████████| 21/21 [00:06<00:00,  3.34it/s]\n"
          ]
        },
        {
          "name": "stdout",
          "output_type": "stream",
          "text": [
            "Epoch: 6 | Train Loss: 0.008 | Train Accuracy: 0.897 | Val Loss: 0.023 | Val Accuracy: 0.711\n"
          ]
        },
        {
          "name": "stderr",
          "output_type": "stream",
          "text": [
            "100%|██████████| 148/148 [01:10<00:00,  2.09it/s]\n",
            "100%|██████████| 21/21 [00:06<00:00,  3.24it/s]\n"
          ]
        },
        {
          "name": "stdout",
          "output_type": "stream",
          "text": [
            "Epoch: 7 | Train Loss: 0.007 | Train Accuracy: 0.915 | Val Loss: 0.025 | Val Accuracy: 0.704\n"
          ]
        },
        {
          "name": "stderr",
          "output_type": "stream",
          "text": [
            "100%|██████████| 148/148 [01:10<00:00,  2.10it/s]\n",
            "100%|██████████| 21/21 [00:06<00:00,  3.40it/s]\n"
          ]
        },
        {
          "name": "stdout",
          "output_type": "stream",
          "text": [
            "Epoch: 8 | Train Loss: 0.007 | Train Accuracy: 0.908 | Val Loss: 0.027 | Val Accuracy: 0.702\n"
          ]
        },
        {
          "name": "stderr",
          "output_type": "stream",
          "text": [
            "100%|██████████| 148/148 [01:09<00:00,  2.12it/s]\n",
            "100%|██████████| 21/21 [00:06<00:00,  3.32it/s]\n"
          ]
        },
        {
          "name": "stdout",
          "output_type": "stream",
          "text": [
            "Epoch: 9 | Train Loss: 0.006 | Train Accuracy: 0.915 | Val Loss: 0.025 | Val Accuracy: 0.735\n"
          ]
        },
        {
          "name": "stderr",
          "output_type": "stream",
          "text": [
            "100%|██████████| 148/148 [01:09<00:00,  2.12it/s]\n",
            "100%|██████████| 21/21 [00:06<00:00,  3.44it/s]\n"
          ]
        },
        {
          "name": "stdout",
          "output_type": "stream",
          "text": [
            "Epoch: 10 | Train Loss: 0.006 | Train Accuracy: 0.916 | Val Loss: 0.020 | Val Accuracy: 0.765\n"
          ]
        },
        {
          "data": {
            "image/png": "[encoded data removed]",
            "text/plain": [
              "<Figure size 1200x600 with 2 Axes>"
            ]
          },
          "metadata": {},
          "output_type": "display_data"
        }
      ],
      "source": [
        "import numpy as np\n",
        "import torch\n",
        "import cv2\n",
        "import torch.nn as nn\n",
        "from transformers import ViTModel, ViTConfig\n",
        "from torchvision import transforms\n",
        "from torch.optim import Adam\n",
        "from torch.utils.data import DataLoader\n",
        "from tqdm import tqdm\n",
        "import matplotlib.pyplot as plt\n",
        "\n",
        "model_checkpoint = 'google/vit-base-patch16-224-in21k'\n",
        "\n",
        "class ImageDataset(torch.utils.data.Dataset):\n",
        "    def __init__(self, input_data, train=True):\n",
        "        self.input_data = input_data\n",
        "        self.train = train\n",
        "        if self.train:\n",
        "            self.transform = transforms.Compose([\n",
        "                transforms.RandomResizedCrop(224),\n",
        "                transforms.RandomHorizontalFlip(),\n",
        "                transforms.ToTensor(),\n",
        "                transforms.Normalize(mean=[0.5, 0.5, 0.5], std=[0.5, 0.5, 0.5])\n",
        "            ])\n",
        "        else:\n",
        "            self.transform = transforms.Compose([\n",
        "                transforms.Resize((224,   224), antialias=True),\n",
        "                transforms.ToTensor(),\n",
        "                transforms.Normalize(mean=[0.5, 0.5, 0.5], std=[0.5, 0.5, 0.5])\n",
        "            ])\n",
        "\n",
        "    def __len__(self):\n",
        "        return len(self.input_data)\n",
        "\n",
        "    def get_images(self, idx):\n",
        "        return self.transform(self.input_data[idx]['image'])\n",
        "\n",
        "    def get_labels(self, idx):\n",
        "        return self.input_data[idx]['label']\n",
        "\n",
        "    def __getitem__(self, idx):\n",
        "        train_images = self.get_images(idx)\n",
        "        train_labels = self.get_labels(idx)\n",
        "        return train_images, train_labels\n",
        "\n",
        "class ViT(nn.Module):\n",
        "    def __init__(self, config=ViTConfig(), num_labels=20, model_checkpoint='google/vit-base-patch16-224-in21k'):\n",
        "        super(ViT, self).__init__()\n",
        "        self.vit = ViTModel.from_pretrained(model_checkpoint, add_pooling_layer=False)\n",
        "        self.classifier = nn.Linear(config.hidden_size, num_labels)\n",
        "        self.dropout = nn.Dropout(0.5)  # Adding dropout with probability 0.5\n",
        "\n",
        "    def forward(self, x):\n",
        "        x = self.vit(x)['last_hidden_state']\n",
        "        x = self.dropout(x)  # Applying dropout\n",
        "        output = self.classifier(x[:, 0, :])\n",
        "        return output\n",
        "\n",
        "def model_train(train_data, val_data, epochs, learning_rate, bs):\n",
        "    use_cuda = torch.cuda.is_available()\n",
        "    device = torch.device(\"cuda\" if use_cuda else \"cpu\")\n",
        "\n",
        "    model = ViT().to(device)\n",
        "    criterion = nn.CrossEntropyLoss().to(device)\n",
        "    optimizer = Adam(model.parameters(), lr=learning_rate, weight_decay=1e-4)  # Adding weight decay\n",
        "\n",
        "    train_dataset = ImageDataset(train_data, train=True)\n",
        "    val_dataset = ImageDataset(val_data, train=False)\n",
        "    train_dataloader = DataLoader(train_dataset, num_workers=1, batch_size=bs, shuffle=True)\n",
        "    val_dataloader = DataLoader(val_dataset, num_workers=1, batch_size=bs, shuffle=False)\n",
        "\n",
        "    train_losses, val_losses = [], []\n",
        "    train_accuracies, val_accuracies = [], []\n",
        "\n",
        "    for i in range(epochs):\n",
        "        total_acc_train = 0\n",
        "        total_loss_train = 0.0\n",
        "        model.train()\n",
        "\n",
        "        for train_image, train_label in tqdm(train_dataloader):\n",
        "            train_image, train_label = train_image.to(device), train_label.to(device)\n",
        "            output = model(train_image)\n",
        "            loss = criterion(output, train_label)\n",
        "            acc = (output.argmax(dim=1) == train_label).sum().item()\n",
        "            total_acc_train += acc\n",
        "            total_loss_train += loss.item()\n",
        "            optimizer.zero_grad()\n",
        "            loss.backward()\n",
        "            optimizer.step()\n",
        "\n",
        "        avg_loss_train = total_loss_train / len(train_dataset)\n",
        "        avg_acc_train = total_acc_train / len(train_dataset)\n",
        "\n",
        "        total_acc_val = 0\n",
        "        total_loss_val = 0.0\n",
        "        model.eval()\n",
        "\n",
        "        with torch.no_grad():\n",
        "            for val_image, val_label in tqdm(val_dataloader):\n",
        "                val_image, val_label = val_image.to(device), val_label.to(device)\n",
        "                output = model(val_image)\n",
        "                loss = criterion(output, val_label)\n",
        "                acc = (output.argmax(dim=1) == val_label).sum().item()\n",
        "                total_acc_val += acc\n",
        "                total_loss_val += loss.item()\n",
        "\n",
        "        avg_loss_val = total_loss_val / len(val_dataset)\n",
        "        avg_acc_val = total_acc_val / len(val_dataset)\n",
        "\n",
        "        train_losses.append(avg_loss_train)\n",
        "        val_losses.append(avg_loss_val)\n",
        "        train_accuracies.append(avg_acc_train)\n",
        "        val_accuracies.append(avg_acc_val)\n",
        "\n",
        "        print(f'Epoch: {i + 1} | Train Loss: {avg_loss_train:.3f} | Train Accuracy: {avg_acc_train:.3f} | Val Loss: {avg_loss_val:.3f} | Val Accuracy: {avg_acc_val:.3f}')\n",
        "\n",
        "    # Plotting the results\n",
        "    epochs_range = range(1, epochs + 1)\n",
        "    plt.figure(figsize=(12, 6))\n",
        "\n",
        "    plt.subplot(1, 2, 1)\n",
        "    plt.plot(epochs_range, train_losses, label='Train Loss')\n",
        "    plt.plot(epochs_range, val_losses, label='Val Loss')\n",
        "    plt.xlabel('Epochs')\n",
        "    plt.ylabel('Loss')\n",
        "    plt.title('Loss over Epochs')\n",
        "    plt.legend()\n",
        "\n",
        "    plt.subplot(1, 2, 2)\n",
        "    plt.plot(epochs_range, train_accuracies, label='Train Accuracy')\n",
        "    plt.plot(epochs_range, val_accuracies, label='Val Accuracy')\n",
        "    plt.xlabel('Epochs')\n",
        "    plt.ylabel('Accuracy')\n",
        "    plt.title('Accuracy over Epochs')\n",
        "    plt.legend()\n",
        "\n",
        "    plt.show()\n",
        "\n",
        "    return model\n",
        "\n",
        "EPOCHS = 10\n",
        "LEARNING_RATE = 1e-4\n",
        "BATCH_SIZE = 32\n",
        "\n",
        "train_data = dataset['train']\n",
        "val_data = dataset['validation']\n",
        "\n",
        "trained_model = model_train(train_data, val_data, EPOCHS, LEARNING_RATE, BATCH_SIZE)"
      ]
    },
    {
      "cell_type": "code",
      "execution_count": null,
      "metadata": {
        "colab": {
          "base_uri": "https://localhost:8080/",
          "height": 1000
        },
        "id": "uYqaY8Nkcn6C",
        "outputId": "6e35413d-0cc0-45d2-d18d-f6f71545ed89"
      },
      "outputs": [
        {
          "name": "stderr",
          "output_type": "stream",
          "text": [
            "Some weights of the model checkpoint at google/vit-base-patch16-224-in21k were not used when initializing ViTModel: ['pooler.dense.bias', 'pooler.dense.weight']\n",
            "- This IS expected if you are initializing ViTModel from the checkpoint of a model trained on another task or with another architecture (e.g. initializing a BertForSequenceClassification model from a BertForPreTraining model).\n",
            "- This IS NOT expected if you are initializing ViTModel from the checkpoint of a model that you expect to be exactly identical (initializing a BertForSequenceClassification model from a BertForSequenceClassification model).\n",
            "/usr/local/lib/python3.10/dist-packages/torch/optim/lr_scheduler.py:28: UserWarning: The verbose parameter is deprecated. Please use get_last_lr() to access the learning rate.\n",
            "  warnings.warn(\"The verbose parameter is deprecated. Please use get_last_lr() \"\n",
            "100%|██████████| 148/148 [01:19<00:00,  1.87it/s]\n",
            "100%|██████████| 21/21 [00:06<00:00,  3.46it/s]\n"
          ]
        },
        {
          "name": "stdout",
          "output_type": "stream",
          "text": [
            "Epoch: 1 | Train Loss: 0.027 | Train Accuracy: 0.700 | Val Loss: 0.024 | Val Accuracy: 0.649\n"
          ]
        },
        {
          "name": "stderr",
          "output_type": "stream",
          "text": [
            "100%|██████████| 148/148 [01:17<00:00,  1.92it/s]\n",
            "100%|██████████| 21/21 [00:06<00:00,  3.27it/s]\n"
          ]
        },
        {
          "name": "stdout",
          "output_type": "stream",
          "text": [
            "Epoch: 2 | Train Loss: 0.015 | Train Accuracy: 0.810 | Val Loss: 0.017 | Val Accuracy: 0.749\n"
          ]
        },
        {
          "name": "stderr",
          "output_type": "stream",
          "text": [
            "100%|██████████| 148/148 [01:16<00:00,  1.92it/s]\n",
            "100%|██████████| 21/21 [00:06<00:00,  3.31it/s]\n"
          ]
        },
        {
          "name": "stdout",
          "output_type": "stream",
          "text": [
            "Epoch: 3 | Train Loss: 0.012 | Train Accuracy: 0.833 | Val Loss: 0.025 | Val Accuracy: 0.629\n"
          ]
        },
        {
          "name": "stderr",
          "output_type": "stream",
          "text": [
            "100%|██████████| 148/148 [01:15<00:00,  1.97it/s]\n",
            "100%|██████████| 21/21 [00:06<00:00,  3.35it/s]\n"
          ]
        },
        {
          "name": "stdout",
          "output_type": "stream",
          "text": [
            "Epoch: 4 | Train Loss: 0.011 | Train Accuracy: 0.846 | Val Loss: 0.015 | Val Accuracy: 0.774\n"
          ]
        },
        {
          "name": "stderr",
          "output_type": "stream",
          "text": [
            "100%|██████████| 148/148 [01:16<00:00,  1.94it/s]\n",
            "100%|██████████| 21/21 [00:06<00:00,  3.46it/s]\n"
          ]
        },
        {
          "name": "stdout",
          "output_type": "stream",
          "text": [
            "Epoch: 5 | Train Loss: 0.010 | Train Accuracy: 0.860 | Val Loss: 0.016 | Val Accuracy: 0.778\n"
          ]
        },
        {
          "name": "stderr",
          "output_type": "stream",
          "text": [
            "100%|██████████| 148/148 [01:16<00:00,  1.94it/s]\n",
            "100%|██████████| 21/21 [00:06<00:00,  3.43it/s]\n"
          ]
        },
        {
          "name": "stdout",
          "output_type": "stream",
          "text": [
            "Epoch: 6 | Train Loss: 0.010 | Train Accuracy: 0.863 | Val Loss: 0.020 | Val Accuracy: 0.746\n"
          ]
        },
        {
          "name": "stderr",
          "output_type": "stream",
          "text": [
            "100%|██████████| 148/148 [01:17<00:00,  1.92it/s]\n",
            "100%|██████████| 21/21 [00:06<00:00,  3.31it/s]\n"
          ]
        },
        {
          "name": "stdout",
          "output_type": "stream",
          "text": [
            "Epoch: 7 | Train Loss: 0.009 | Train Accuracy: 0.879 | Val Loss: 0.014 | Val Accuracy: 0.807\n"
          ]
        },
        {
          "name": "stderr",
          "output_type": "stream",
          "text": [
            "100%|██████████| 148/148 [01:16<00:00,  1.94it/s]\n",
            "100%|██████████| 21/21 [00:06<00:00,  3.40it/s]\n"
          ]
        },
        {
          "name": "stdout",
          "output_type": "stream",
          "text": [
            "Epoch: 8 | Train Loss: 0.009 | Train Accuracy: 0.885 | Val Loss: 0.018 | Val Accuracy: 0.741\n"
          ]
        },
        {
          "name": "stderr",
          "output_type": "stream",
          "text": [
            "100%|██████████| 148/148 [01:16<00:00,  1.94it/s]\n",
            "100%|██████████| 21/21 [00:06<00:00,  3.38it/s]\n"
          ]
        },
        {
          "name": "stdout",
          "output_type": "stream",
          "text": [
            "Epoch: 9 | Train Loss: 0.008 | Train Accuracy: 0.894 | Val Loss: 0.021 | Val Accuracy: 0.743\n"
          ]
        },
        {
          "name": "stderr",
          "output_type": "stream",
          "text": [
            "100%|██████████| 148/148 [01:17<00:00,  1.91it/s]\n",
            "100%|██████████| 21/21 [00:06<00:00,  3.41it/s]\n"
          ]
        },
        {
          "name": "stdout",
          "output_type": "stream",
          "text": [
            "Epoch: 10 | Train Loss: 0.008 | Train Accuracy: 0.891 | Val Loss: 0.031 | Val Accuracy: 0.692\n"
          ]
        },
        {
          "data": {
            "image/png": "[encoded data removed]",
            "text/plain": [
              "<Figure size 1200x600 with 2 Axes>"
            ]
          },
          "metadata": {},
          "output_type": "display_data"
        }
      ],
      "source": [
        "import numpy as np\n",
        "import torch\n",
        "import cv2\n",
        "import torch.nn as nn\n",
        "from transformers import ViTModel, ViTConfig\n",
        "from torchvision import transforms\n",
        "from torch.optim import Adam\n",
        "from torch.utils.data import DataLoader\n",
        "from torch.optim.lr_scheduler import ReduceLROnPlateau\n",
        "from tqdm import tqdm\n",
        "import matplotlib.pyplot as plt\n",
        "\n",
        "model_checkpoint = 'google/vit-base-patch16-224-in21k'\n",
        "\n",
        "class ImageDataset(torch.utils.data.Dataset):\n",
        "    def __init__(self, input_data, train=True):\n",
        "        self.input_data = input_data\n",
        "        self.train = train\n",
        "        if self.train:\n",
        "            self.transform = transforms.Compose([\n",
        "                transforms.RandomResizedCrop(224),\n",
        "                transforms.RandomHorizontalFlip(),\n",
        "                transforms.RandomRotation(20),\n",
        "                transforms.ColorJitter(brightness=0.2, contrast=0.2, saturation=0.2, hue=0.2),\n",
        "                transforms.ToTensor(),\n",
        "                transforms.Normalize(mean=[0.5, 0.5, 0.5], std=[0.5, 0.5, 0.5])\n",
        "            ])\n",
        "        else:\n",
        "            self.transform = transforms.Compose([\n",
        "                transforms.Resize((224, 224), antialias=True),\n",
        "                transforms.ToTensor(),\n",
        "                transforms.Normalize(mean=[0.5, 0.5, 0.5], std=[0.5, 0.5, 0.5])\n",
        "            ])\n",
        "\n",
        "    def __len__(self):\n",
        "        return len(self.input_data)\n",
        "\n",
        "    def get_images(self, idx):\n",
        "        return self.transform(self.input_data[idx]['image'])\n",
        "\n",
        "    def get_labels(self, idx):\n",
        "        return self.input_data[idx]['label']\n",
        "\n",
        "    def __getitem__(self, idx):\n",
        "        train_images = self.get_images(idx)\n",
        "        train_labels = self.get_labels(idx)\n",
        "        return train_images, train_labels\n",
        "\n",
        "class ViT(nn.Module):\n",
        "    def __init__(self, config=ViTConfig(), num_labels=20, model_checkpoint='google/vit-base-patch16-224-in21k'):\n",
        "        super(ViT, self).__init__()\n",
        "        self.vit = ViTModel.from_pretrained(model_checkpoint, add_pooling_layer=False)\n",
        "        self.classifier = nn.Linear(config.hidden_size, num_labels)\n",
        "        self.dropout = nn.Dropout(0.7)  # Adjusted dropout rate\n",
        "\n",
        "    def forward(self, x):\n",
        "        x = self.vit(x)['last_hidden_state']\n",
        "        x = self.dropout(x)\n",
        "        output = self.classifier(x[:, 0, :])\n",
        "        return output\n",
        "\n",
        "def model_train(train_data, val_data, epochs, learning_rate, bs):\n",
        "    use_cuda = torch.cuda.is_available()\n",
        "    device = torch.device(\"cuda\" if use_cuda else \"cpu\")\n",
        "\n",
        "    model = ViT().to(device)\n",
        "    criterion = nn.CrossEntropyLoss().to(device)\n",
        "    optimizer = Adam(model.parameters(), lr=learning_rate, weight_decay=1e-4)\n",
        "    scheduler = ReduceLROnPlateau(optimizer, mode='min', factor=0.2, patience=3, verbose=True)  # Learning rate scheduler\n",
        "\n",
        "    train_dataset = ImageDataset(train_data, train=True)\n",
        "    val_dataset = ImageDataset(val_data, train=False)\n",
        "    train_dataloader = DataLoader(train_dataset, num_workers=1, batch_size=bs, shuffle=True)\n",
        "    val_dataloader = DataLoader(val_dataset, num_workers=1, batch_size=bs, shuffle=False)\n",
        "\n",
        "    train_losses, val_losses = [], []\n",
        "    train_accuracies, val_accuracies = [], []\n",
        "\n",
        "    for epoch in range(epochs):\n",
        "        total_acc_train = 0\n",
        "        total_loss_train = 0.0\n",
        "        model.train()\n",
        "\n",
        "        for train_image, train_label in tqdm(train_dataloader):\n",
        "            train_image, train_label = train_image.to(device), train_label.to(device)\n",
        "            output = model(train_image)\n",
        "            loss = criterion(output, train_label)\n",
        "            acc = (output.argmax(dim=1) == train_label).sum().item()\n",
        "            total_acc_train += acc\n",
        "            total_loss_train += loss.item()\n",
        "            optimizer.zero_grad()\n",
        "            loss.backward()\n",
        "            optimizer.step()\n",
        "\n",
        "        avg_loss_train = total_loss_train / len(train_dataset)\n",
        "        avg_acc_train = total_acc_train / len(train_dataset)\n",
        "\n",
        "        total_acc_val = 0\n",
        "        total_loss_val = 0.0\n",
        "        model.eval()\n",
        "\n",
        "        with torch.no_grad():\n",
        "            for val_image, val_label in tqdm(val_dataloader):\n",
        "                val_image, val_label = val_image.to(device), val_label.to(device)\n",
        "                output = model(val_image)\n",
        "                loss = criterion(output, val_label)\n",
        "                acc = (output.argmax(dim=1) == val_label).sum().item()\n",
        "                total_acc_val += acc\n",
        "                total_loss_val += loss.item()\n",
        "\n",
        "        avg_loss_val = total_loss_val / len(val_dataset)\n",
        "        avg_acc_val = total_acc_val / len(val_dataset)\n",
        "\n",
        "        train_losses.append(avg_loss_train)\n",
        "        val_losses.append(avg_loss_val)\n",
        "        train_accuracies.append(avg_acc_train)\n",
        "        val_accuracies.append(avg_acc_val)\n",
        "\n",
        "        print(f'Epoch: {epoch + 1} | Train Loss: {avg_loss_train:.3f} | Train Accuracy: {avg_acc_train:.3f} | Val Loss: {avg_loss_val:.3f} | Val Accuracy: {avg_acc_val:.3f}')\n",
        "\n",
        "        # Learning rate scheduling\n",
        "        scheduler.step(avg_loss_val)\n",
        "\n",
        "    # Plotting the results\n",
        "    epochs_range = range(1, epochs + 1)\n",
        "    plt.figure(figsize=(12, 6))\n",
        "\n",
        "    plt.subplot(1, 2, 1)\n",
        "    plt.plot(epochs_range, train_losses, label='Train Loss')\n",
        "    plt.plot(epochs_range, val_losses, label='Val Loss')\n",
        "    plt.xlabel('Epochs')\n",
        "    plt.ylabel('Loss')\n",
        "    plt.title('Loss over Epochs')\n",
        "    plt.legend()\n",
        "\n",
        "    plt.subplot(1, 2, 2)\n",
        "    plt.plot(epochs_range, train_accuracies, label='Train Accuracy')\n",
        "    plt.plot(epochs_range, val_accuracies, label='Val Accuracy')\n",
        "    plt.xlabel('Epochs')\n",
        "    plt.ylabel('Accuracy')\n",
        "    plt.title('Accuracy over Epochs')\n",
        "    plt.legend()\n",
        "\n",
        "    plt.show()\n",
        "\n",
        "    return model\n",
        "\n",
        "EPOCHS = 10\n",
        "LEARNING_RATE = 1e-4\n",
        "BATCH_SIZE = 32\n",
        "\n",
        "train_data = dataset['train']\n",
        "val_data = dataset['validation']\n",
        "\n",
        "trained_model = model_train(train_data, val_data, EPOCHS, LEARNING_RATE, BATCH_SIZE)\n"
      ]
    },
    {
      "cell_type": "code",
      "execution_count": null,
      "metadata": {
        "colab": {
          "base_uri": "https://localhost:8080/",
          "height": 1000
        },
        "id": "pwId1aFpcnbp",
        "outputId": "eae7893c-57c8-4bc8-a6a8-c53fc8f2a8b6"
      },
      "outputs": [
        {
          "name": "stderr",
          "output_type": "stream",
          "text": [
            "Some weights of the model checkpoint at google/vit-base-patch16-224-in21k were not used when initializing ViTModel: ['pooler.dense.bias', 'pooler.dense.weight']\n",
            "- This IS expected if you are initializing ViTModel from the checkpoint of a model trained on another task or with another architecture (e.g. initializing a BertForSequenceClassification model from a BertForPreTraining model).\n",
            "- This IS NOT expected if you are initializing ViTModel from the checkpoint of a model that you expect to be exactly identical (initializing a BertForSequenceClassification model from a BertForSequenceClassification model).\n",
            "100%|██████████| 148/148 [01:15<00:00,  1.95it/s]\n",
            "100%|██████████| 21/21 [00:06<00:00,  3.23it/s]\n"
          ]
        },
        {
          "name": "stdout",
          "output_type": "stream",
          "text": [
            "Epoch: 1 | Train Loss: 0.091 | Train Accuracy: 0.159 | Val Loss: 0.083 | Val Accuracy: 0.589\n"
          ]
        },
        {
          "name": "stderr",
          "output_type": "stream",
          "text": [
            "100%|██████████| 148/148 [01:17<00:00,  1.92it/s]\n",
            "100%|██████████| 21/21 [00:06<00:00,  3.17it/s]\n"
          ]
        },
        {
          "name": "stdout",
          "output_type": "stream",
          "text": [
            "Epoch: 2 | Train Loss: 0.070 | Train Accuracy: 0.606 | Val Loss: 0.072 | Val Accuracy: 0.629\n"
          ]
        },
        {
          "name": "stderr",
          "output_type": "stream",
          "text": [
            "100%|██████████| 148/148 [01:18<00:00,  1.88it/s]\n",
            "100%|██████████| 21/21 [00:06<00:00,  3.33it/s]\n"
          ]
        },
        {
          "name": "stdout",
          "output_type": "stream",
          "text": [
            "Epoch: 3 | Train Loss: 0.055 | Train Accuracy: 0.754 | Val Loss: 0.065 | Val Accuracy: 0.729\n"
          ]
        },
        {
          "name": "stderr",
          "output_type": "stream",
          "text": [
            "100%|██████████| 148/148 [01:17<00:00,  1.91it/s]\n",
            "100%|██████████| 21/21 [00:06<00:00,  3.41it/s]\n"
          ]
        },
        {
          "name": "stdout",
          "output_type": "stream",
          "text": [
            "Epoch: 4 | Train Loss: 0.048 | Train Accuracy: 0.813 | Val Loss: 0.075 | Val Accuracy: 0.641\n"
          ]
        },
        {
          "name": "stderr",
          "output_type": "stream",
          "text": [
            "100%|██████████| 148/148 [01:16<00:00,  1.93it/s]\n",
            "100%|██████████| 21/21 [00:06<00:00,  3.36it/s]\n"
          ]
        },
        {
          "name": "stdout",
          "output_type": "stream",
          "text": [
            "Epoch: 5 | Train Loss: 0.042 | Train Accuracy: 0.837 | Val Loss: 0.073 | Val Accuracy: 0.674\n"
          ]
        },
        {
          "name": "stderr",
          "output_type": "stream",
          "text": [
            "100%|██████████| 148/148 [01:16<00:00,  1.94it/s]\n",
            "100%|██████████| 21/21 [00:06<00:00,  3.43it/s]\n"
          ]
        },
        {
          "name": "stdout",
          "output_type": "stream",
          "text": [
            "Epoch: 6 | Train Loss: 0.038 | Train Accuracy: 0.858 | Val Loss: 0.060 | Val Accuracy: 0.751\n"
          ]
        },
        {
          "name": "stderr",
          "output_type": "stream",
          "text": [
            "100%|██████████| 148/148 [01:15<00:00,  1.96it/s]\n",
            "100%|██████████| 21/21 [00:06<00:00,  3.41it/s]\n"
          ]
        },
        {
          "name": "stdout",
          "output_type": "stream",
          "text": [
            "Epoch: 7 | Train Loss: 0.035 | Train Accuracy: 0.872 | Val Loss: 0.056 | Val Accuracy: 0.740\n"
          ]
        },
        {
          "name": "stderr",
          "output_type": "stream",
          "text": [
            "100%|██████████| 148/148 [01:17<00:00,  1.92it/s]\n",
            "100%|██████████| 21/21 [00:06<00:00,  3.41it/s]\n"
          ]
        },
        {
          "name": "stdout",
          "output_type": "stream",
          "text": [
            "Epoch: 8 | Train Loss: 0.031 | Train Accuracy: 0.889 | Val Loss: 0.060 | Val Accuracy: 0.741\n"
          ]
        },
        {
          "name": "stderr",
          "output_type": "stream",
          "text": [
            "100%|██████████| 148/148 [01:17<00:00,  1.92it/s]\n",
            "100%|██████████| 21/21 [00:06<00:00,  3.23it/s]\n"
          ]
        },
        {
          "name": "stdout",
          "output_type": "stream",
          "text": [
            "Epoch: 9 | Train Loss: 0.028 | Train Accuracy: 0.893 | Val Loss: 0.080 | Val Accuracy: 0.689\n"
          ]
        },
        {
          "name": "stderr",
          "output_type": "stream",
          "text": [
            "100%|██████████| 148/148 [01:15<00:00,  1.95it/s]\n",
            "100%|██████████| 21/21 [00:06<00:00,  3.32it/s]\n"
          ]
        },
        {
          "name": "stdout",
          "output_type": "stream",
          "text": [
            "Epoch: 10 | Train Loss: 0.026 | Train Accuracy: 0.893 | Val Loss: 0.050 | Val Accuracy: 0.753\n"
          ]
        },
        {
          "data": {
            "image/png": "[encoded data removed]",
            "text/plain": [
              "<Figure size 1200x600 with 2 Axes>"
            ]
          },
          "metadata": {},
          "output_type": "display_data"
        }
      ],
      "source": [
        "import numpy as np\n",
        "import torch\n",
        "import cv2\n",
        "import torch.nn as nn\n",
        "from transformers import ViTModel, ViTConfig\n",
        "from torchvision import transforms\n",
        "from torch.optim import Adam\n",
        "from torch.utils.data import DataLoader\n",
        "from torch.optim.lr_scheduler import ReduceLROnPlateau\n",
        "from tqdm import tqdm\n",
        "import matplotlib.pyplot as plt\n",
        "\n",
        "model_checkpoint = 'google/vit-base-patch16-224-in21k'\n",
        "\n",
        "class ImageDataset(torch.utils.data.Dataset):\n",
        "    def __init__(self, input_data, train=True):\n",
        "        self.input_data = input_data\n",
        "        self.train = train\n",
        "        if self.train:\n",
        "            self.transform = transforms.Compose([\n",
        "                transforms.RandomResizedCrop(224),\n",
        "                transforms.RandomHorizontalFlip(),\n",
        "                transforms.RandomRotation(20),\n",
        "                transforms.ColorJitter(brightness=0.2, contrast=0.2, saturation=0.2, hue=0.2),\n",
        "                transforms.ToTensor(),\n",
        "                transforms.Normalize(mean=[0.5, 0.5, 0.5], std=[0.5, 0.5, 0.5])\n",
        "            ])\n",
        "        else:\n",
        "            self.transform = transforms.Compose([\n",
        "                transforms.Resize((224, 224), antialias=True),\n",
        "                transforms.ToTensor(),\n",
        "                transforms.Normalize(mean=[0.5, 0.5, 0.5], std=[0.5, 0.5, 0.5])\n",
        "            ])\n",
        "\n",
        "    def __len__(self):\n",
        "        return len(self.input_data)\n",
        "\n",
        "    def get_images(self, idx):\n",
        "        return self.transform(self.input_data[idx]['image'])\n",
        "\n",
        "    def get_labels(self, idx):\n",
        "        return self.input_data[idx]['label']\n",
        "\n",
        "    def __getitem__(self, idx):\n",
        "        train_images = self.get_images(idx)\n",
        "        train_labels = self.get_labels(idx)\n",
        "        return train_images, train_labels\n",
        "\n",
        "class ViT(nn.Module):\n",
        "    def __init__(self, config=ViTConfig(), num_labels=20, model_checkpoint='google/vit-base-patch16-224-in21k'):\n",
        "        super(ViT, self).__init__()\n",
        "        self.vit = ViTModel.from_pretrained(model_checkpoint, add_pooling_layer=False)\n",
        "        self.dropout = nn.Dropout(0.8)  # Adjusted dropout rate\n",
        "        self.batch_norm = nn.BatchNorm1d(config.hidden_size)\n",
        "        self.classifier = nn.Linear(config.hidden_size, num_labels)\n",
        "\n",
        "    def forward(self, x):\n",
        "        x = self.vit(x)['last_hidden_state']\n",
        "        x = self.dropout(x)\n",
        "        x = self.batch_norm(x[:, 0, :])\n",
        "        output = self.classifier(x)\n",
        "        return output\n",
        "\n",
        "def model_train(train_data, val_data, epochs, learning_rate, bs, patience=5):\n",
        "    use_cuda = torch.cuda.is_available()\n",
        "    device = torch.device(\"cuda\" if use_cuda else \"cpu\")\n",
        "\n",
        "    model = ViT().to(device)\n",
        "    criterion = nn.CrossEntropyLoss().to(device)\n",
        "    optimizer = Adam(model.parameters(), lr=learning_rate, weight_decay=1e-4)\n",
        "    scheduler = ReduceLROnPlateau(optimizer, mode='min', factor=0.2, patience=3, verbose=True)\n",
        "\n",
        "    train_dataset = ImageDataset(train_data, train=True)\n",
        "    val_dataset = ImageDataset(val_data, train=False)\n",
        "    train_dataloader = DataLoader(train_dataset, num_workers=1, batch_size=bs, shuffle=True)\n",
        "    val_dataloader = DataLoader(val_dataset, num_workers=1, batch_size=bs, shuffle=False)\n",
        "\n",
        "    train_losses, val_losses = [], []\n",
        "    train_accuracies, val_accuracies = [], []\n",
        "\n",
        "    best_val_loss = float('inf')\n",
        "    patience_counter = 0\n",
        "\n",
        "    for epoch in range(epochs):\n",
        "        total_acc_train = 0\n",
        "        total_loss_train = 0.0\n",
        "        model.train()\n",
        "\n",
        "        for train_image, train_label in tqdm(train_dataloader):\n",
        "            train_image, train_label = train_image.to(device), train_label.to(device)\n",
        "            output = model(train_image)\n",
        "            loss = criterion(output, train_label)\n",
        "            acc = (output.argmax(dim=1) == train_label).sum().item()\n",
        "            total_acc_train += acc\n",
        "            total_loss_train += loss.item()\n",
        "            optimizer.zero_grad()\n",
        "            loss.backward()\n",
        "            optimizer.step()\n",
        "\n",
        "        avg_loss_train = total_loss_train / len(train_dataset)\n",
        "        avg_acc_train = total_acc_train / len(train_dataset)\n",
        "\n",
        "        total_acc_val = 0\n",
        "        total_loss_val = 0.0\n",
        "        model.eval()\n",
        "\n",
        "        with torch.no_grad():\n",
        "            for val_image, val_label in tqdm(val_dataloader):\n",
        "                val_image, val_label = val_image.to(device), val_label.to(device)\n",
        "                output = model(val_image)\n",
        "                loss = criterion(output, val_label)\n",
        "                acc = (output.argmax(dim=1) == val_label).sum().item()\n",
        "                total_acc_val += acc\n",
        "                total_loss_val += loss.item()\n",
        "\n",
        "        avg_loss_val = total_loss_val / len(val_dataset)\n",
        "        avg_acc_val = total_acc_val / len(val_dataset)\n",
        "\n",
        "        train_losses.append(avg_loss_train)\n",
        "        val_losses.append(avg_loss_val)\n",
        "        train_accuracies.append(avg_acc_train)\n",
        "        val_accuracies.append(avg_acc_val)\n",
        "\n",
        "        print(f'Epoch: {epoch + 1} | Train Loss: {avg_loss_train:.3f} | Train Accuracy: {avg_acc_train:.3f} | Val Loss: {avg_loss_val:.3f} | Val Accuracy: {avg_acc_val:.3f}')\n",
        "\n",
        "        # Learning rate scheduling\n",
        "        scheduler.step(avg_loss_val)\n",
        "\n",
        "        # Early stopping\n",
        "        if avg_loss_val < best_val_loss:\n",
        "            best_val_loss = avg_loss_val\n",
        "            patience_counter = 0\n",
        "            torch.save(model.state_dict(), 'best_model.pt')\n",
        "        else:\n",
        "            patience_counter += 1\n",
        "\n",
        "        if patience_counter >= patience:\n",
        "            print(\"Early stopping triggered\")\n",
        "            break\n",
        "\n",
        "    # Load the best model\n",
        "    model.load_state_dict(torch.load('best_model.pt'))\n",
        "\n",
        "    # Plotting the results\n",
        "    epochs_range = range(1, len(train_losses) + 1)\n",
        "    plt.figure(figsize=(12, 6))\n",
        "\n",
        "    plt.subplot(1, 2, 1)\n",
        "    plt.plot(epochs_range, train_losses, label='Train Loss')\n",
        "    plt.plot(epochs_range, val_losses, label='Val Loss')\n",
        "    plt.xlabel('Epochs')\n",
        "    plt.ylabel('Loss')\n",
        "    plt.title('Loss over Epochs')\n",
        "    plt.legend()\n",
        "\n",
        "    plt.subplot(1, 2, 2)\n",
        "    plt.plot(epochs_range, train_accuracies, label='Train Accuracy')\n",
        "    plt.plot(epochs_range, val_accuracies, label='Val Accuracy')\n",
        "    plt.xlabel('Epochs')\n",
        "    plt.ylabel('Accuracy')\n",
        "    plt.title('Accuracy over Epochs')\n",
        "    plt.legend()\n",
        "\n",
        "    plt.show()\n",
        "\n",
        "    return model\n",
        "\n",
        "EPOCHS = 10\n",
        "LEARNING_RATE = 1e-5\n",
        "BATCH_SIZE = 32\n",
        "\n",
        "train_data = dataset['train']\n",
        "val_data = dataset['validation']\n",
        "\n",
        "trained_model = model_train(train_data, val_data, EPOCHS, LEARNING_RATE, BATCH_SIZE)"
      ]
    },
    {
      "cell_type": "code",
      "source": [
        "import numpy as np\n",
        "import torch\n",
        "import cv2\n",
        "import torch.nn as nn\n",
        "from transformers import ViTModel, ViTConfig\n",
        "from torchvision import transforms\n",
        "from torch.optim import Adam\n",
        "from torch.utils.data import DataLoader\n",
        "from torch.optim.lr_scheduler import ReduceLROnPlateau\n",
        "from tqdm import tqdm\n",
        "import matplotlib.pyplot as plt\n",
        "\n",
        "model_checkpoint = 'google/vit-base-patch16-224-in21k'\n",
        "\n",
        "class ImageDataset(torch.utils.data.Dataset):\n",
        "    def __init__(self, input_data, train=True):\n",
        "        self.input_data = input_data\n",
        "        self.train = train\n",
        "        if self.train:\n",
        "            self.transform = transforms.Compose([\n",
        "                transforms.RandomResizedCrop(224),\n",
        "                transforms.RandomHorizontalFlip(),\n",
        "                transforms.RandomRotation(20),\n",
        "                transforms.ColorJitter(brightness=0.2, contrast=0.2, saturation=0.2, hue=0.2),\n",
        "                transforms.ToTensor(),\n",
        "                transforms.Normalize(mean=[0.5, 0.5, 0.5], std=[0.5, 0.5, 0.5])\n",
        "            ])\n",
        "        else:\n",
        "            self.transform = transforms.Compose([\n",
        "                transforms.Resize((224, 224), antialias=True),\n",
        "                transforms.ToTensor(),\n",
        "                transforms.Normalize(mean=[0.5, 0.5, 0.5], std=[0.5, 0.5, 0.5])\n",
        "            ])\n",
        "\n",
        "    def __len__(self):\n",
        "        return len(self.input_data)\n",
        "\n",
        "    def get_images(self, idx):\n",
        "        return self.transform(self.input_data[idx]['image'])\n",
        "\n",
        "    def get_labels(self, idx):\n",
        "        return self.input_data[idx]['label']\n",
        "\n",
        "    def __getitem__(self, idx):\n",
        "        train_images = self.get_images(idx)\n",
        "        train_labels = self.get_labels(idx)\n",
        "        return train_images, train_labels\n",
        "\n",
        "class ViT(nn.Module):\n",
        "    def __init__(self, config=ViTConfig(), num_labels=20, model_checkpoint='google/vit-base-patch16-224-in21k'):\n",
        "        super(ViT, self).__init__()\n",
        "        self.vit = ViTModel.from_pretrained(model_checkpoint, add_pooling_layer=False)\n",
        "        self.dropout = nn.Dropout(0.8)  # Adjusted dropout rate\n",
        "        self.batch_norm = nn.BatchNorm1d(config.hidden_size)\n",
        "        self.classifier = nn.Linear(config.hidden_size, num_labels)\n",
        "\n",
        "    def forward(self, x):\n",
        "        x = self.vit(x)['last_hidden_state']\n",
        "        x = self.dropout(x)\n",
        "        x = self.batch_norm(x[:, 0, :])\n",
        "        output = self.classifier(x)\n",
        "        return output\n",
        "\n",
        "def model_train(train_data, val_data, epochs, learning_rate, bs, patience=5):\n",
        "    use_cuda = torch.cuda.is_available()\n",
        "    device = torch.device(\"cuda\" if use_cuda else \"cpu\")\n",
        "\n",
        "    model = ViT().to(device)\n",
        "    criterion = nn.CrossEntropyLoss().to(device)\n",
        "    optimizer = Adam(model.parameters(), lr=learning_rate, weight_decay=1e-4)\n",
        "    scheduler = ReduceLROnPlateau(optimizer, mode='min', factor=0.2, patience=3, verbose=True)\n",
        "\n",
        "    train_dataset = ImageDataset(train_data, train=True)\n",
        "    val_dataset = ImageDataset(val_data, train=False)\n",
        "    train_dataloader = DataLoader(train_dataset, num_workers=1, batch_size=bs, shuffle=True)\n",
        "    val_dataloader = DataLoader(val_dataset, num_workers=1, batch_size=bs, shuffle=False)\n",
        "\n",
        "    train_losses, val_losses = [], []\n",
        "    train_accuracies, val_accuracies = [], []\n",
        "\n",
        "    best_val_loss = float('inf')\n",
        "    patience_counter = 0\n",
        "\n",
        "    for epoch in range(epochs):\n",
        "        total_acc_train = 0\n",
        "        total_loss_train = 0.0\n",
        "        model.train()\n",
        "\n",
        "        for train_image, train_label in tqdm(train_dataloader):\n",
        "            train_image, train_label = train_image.to(device), train_label.to(device)\n",
        "            output = model(train_image)\n",
        "            loss = criterion(output, train_label)\n",
        "            acc = (output.argmax(dim=1) == train_label).sum().item()\n",
        "            total_acc_train += acc\n",
        "            total_loss_train += loss.item()\n",
        "            optimizer.zero_grad()\n",
        "            loss.backward()\n",
        "            optimizer.step()\n",
        "\n",
        "        avg_loss_train = total_loss_train / len(train_dataset)\n",
        "        avg_acc_train = total_acc_train / len(train_dataset)\n",
        "\n",
        "        total_acc_val = 0\n",
        "        total_loss_val = 0.0\n",
        "        model.eval()\n",
        "\n",
        "        with torch.no_grad():\n",
        "            for val_image, val_label in tqdm(val_dataloader):\n",
        "                val_image, val_label = val_image.to(device), val_label.to(device)\n",
        "                output = model(val_image)\n",
        "                loss = criterion(output, val_label)\n",
        "                acc = (output.argmax(dim=1) == val_label).sum().item()\n",
        "                total_acc_val += acc\n",
        "                total_loss_val += loss.item()\n",
        "\n",
        "        avg_loss_val = total_loss_val / len(val_dataset)\n",
        "        avg_acc_val = total_acc_val / len(val_dataset)\n",
        "\n",
        "        train_losses.append(avg_loss_train)\n",
        "        val_losses.append(avg_loss_val)\n",
        "        train_accuracies.append(avg_acc_train)\n",
        "        val_accuracies.append(avg_acc_val)\n",
        "\n",
        "        print(f'Epoch: {epoch + 1} | Train Loss: {avg_loss_train:.3f} | Train Accuracy: {avg_acc_train:.3f} | Val Loss: {avg_loss_val:.3f} | Val Accuracy: {avg_acc_val:.3f}')\n",
        "\n",
        "        # Learning rate scheduling\n",
        "        scheduler.step(avg_loss_val)\n",
        "\n",
        "        # Early stopping\n",
        "        if avg_loss_val < best_val_loss:\n",
        "            best_val_loss = avg_loss_val\n",
        "            patience_counter = 0\n",
        "            torch.save(model.state_dict(), 'best_model.pt')\n",
        "        else:\n",
        "            patience_counter += 1\n",
        "\n",
        "        if patience_counter >= patience:\n",
        "            print(\"Early stopping triggered\")\n",
        "            break\n",
        "\n",
        "    # Load the best model\n",
        "    model.load_state_dict(torch.load('best_model.pt'))\n",
        "\n",
        "    # Plotting the results\n",
        "    epochs_range = range(1, len(train_losses) + 1)\n",
        "    plt.figure(figsize=(12, 6))\n",
        "\n",
        "    plt.subplot(1, 2, 1)\n",
        "    plt.plot(epochs_range, train_losses, label='Train Loss')\n",
        "    plt.plot(epochs_range, val_losses, label='Val Loss')\n",
        "    plt.xlabel('Epochs')\n",
        "    plt.ylabel('Loss')\n",
        "    plt.title('Loss over Epochs')\n",
        "    plt.legend()\n",
        "\n",
        "    plt.subplot(1, 2, 2)\n",
        "    plt.plot(epochs_range, train_accuracies, label='Train Accuracy')\n",
        "    plt.plot(epochs_range, val_accuracies, label='Val Accuracy')\n",
        "    plt.xlabel('Epochs')\n",
        "    plt.ylabel('Accuracy')\n",
        "    plt.title('Accuracy over Epochs')\n",
        "    plt.legend()\n",
        "\n",
        "    plt.show()\n",
        "\n",
        "    return model\n",
        "\n",
        "EPOCHS = 10\n",
        "LEARNING_RATE = 1e-4\n",
        "BATCH_SIZE = 64\n",
        "\n",
        "train_data = dataset['train']\n",
        "val_data = dataset['validation']\n",
        "\n",
        "trained_model = model_train(train_data, val_data, EPOCHS, LEARNING_RATE, BATCH_SIZE)"
      ],
      "metadata": {
        "colab": {
          "base_uri": "https://localhost:8080/",
          "height": 1000
        },
        "id": "a-T87XKJ0y_h",
        "outputId": "05708975-7eaf-4f35-9da8-2b222ddb4782"
      },
      "execution_count": null,
      "outputs": [
        {
          "output_type": "stream",
          "name": "stderr",
          "text": [
            "Some weights of the model checkpoint at google/vit-base-patch16-224-in21k were not used when initializing ViTModel: ['pooler.dense.bias', 'pooler.dense.weight']\n",
            "- This IS expected if you are initializing ViTModel from the checkpoint of a model trained on another task or with another architecture (e.g. initializing a BertForSequenceClassification model from a BertForPreTraining model).\n",
            "- This IS NOT expected if you are initializing ViTModel from the checkpoint of a model that you expect to be exactly identical (initializing a BertForSequenceClassification model from a BertForSequenceClassification model).\n",
            "/usr/local/lib/python3.10/dist-packages/torch/optim/lr_scheduler.py:28: UserWarning: The verbose parameter is deprecated. Please use get_last_lr() to access the learning rate.\n",
            "  warnings.warn(\"The verbose parameter is deprecated. Please use get_last_lr() \"\n",
            "100%|██████████| 74/74 [01:19<00:00,  1.07s/it]\n",
            "100%|██████████| 11/11 [00:06<00:00,  1.78it/s]\n"
          ]
        },
        {
          "output_type": "stream",
          "name": "stdout",
          "text": [
            "Epoch: 1 | Train Loss: 0.036 | Train Accuracy: 0.535 | Val Loss: 0.033 | Val Accuracy: 0.737\n"
          ]
        },
        {
          "output_type": "stream",
          "name": "stderr",
          "text": [
            "100%|██████████| 74/74 [01:21<00:00,  1.10s/it]\n",
            "100%|██████████| 11/11 [00:06<00:00,  1.76it/s]\n"
          ]
        },
        {
          "output_type": "stream",
          "name": "stdout",
          "text": [
            "Epoch: 2 | Train Loss: 0.019 | Train Accuracy: 0.817 | Val Loss: 0.028 | Val Accuracy: 0.763\n"
          ]
        },
        {
          "output_type": "stream",
          "name": "stderr",
          "text": [
            "100%|██████████| 74/74 [01:20<00:00,  1.09s/it]\n",
            "100%|██████████| 11/11 [00:06<00:00,  1.76it/s]\n"
          ]
        },
        {
          "output_type": "stream",
          "name": "stdout",
          "text": [
            "Epoch: 3 | Train Loss: 0.014 | Train Accuracy: 0.842 | Val Loss: 0.023 | Val Accuracy: 0.787\n"
          ]
        },
        {
          "output_type": "stream",
          "name": "stderr",
          "text": [
            "100%|██████████| 74/74 [01:21<00:00,  1.11s/it]\n",
            "100%|██████████| 11/11 [00:06<00:00,  1.71it/s]\n"
          ]
        },
        {
          "output_type": "stream",
          "name": "stdout",
          "text": [
            "Epoch: 4 | Train Loss: 0.012 | Train Accuracy: 0.846 | Val Loss: 0.036 | Val Accuracy: 0.760\n"
          ]
        },
        {
          "output_type": "stream",
          "name": "stderr",
          "text": [
            "100%|██████████| 74/74 [01:20<00:00,  1.09s/it]\n",
            "100%|██████████| 11/11 [00:06<00:00,  1.79it/s]\n"
          ]
        },
        {
          "output_type": "stream",
          "name": "stdout",
          "text": [
            "Epoch: 5 | Train Loss: 0.011 | Train Accuracy: 0.856 | Val Loss: 0.038 | Val Accuracy: 0.688\n"
          ]
        },
        {
          "output_type": "stream",
          "name": "stderr",
          "text": [
            "100%|██████████| 74/74 [01:18<00:00,  1.06s/it]\n",
            "100%|██████████| 11/11 [00:06<00:00,  1.77it/s]\n"
          ]
        },
        {
          "output_type": "stream",
          "name": "stdout",
          "text": [
            "Epoch: 6 | Train Loss: 0.009 | Train Accuracy: 0.870 | Val Loss: 0.035 | Val Accuracy: 0.720\n"
          ]
        },
        {
          "output_type": "stream",
          "name": "stderr",
          "text": [
            "100%|██████████| 74/74 [01:19<00:00,  1.07s/it]\n",
            "100%|██████████| 11/11 [00:06<00:00,  1.75it/s]\n"
          ]
        },
        {
          "output_type": "stream",
          "name": "stdout",
          "text": [
            "Epoch: 7 | Train Loss: 0.008 | Train Accuracy: 0.867 | Val Loss: 0.028 | Val Accuracy: 0.725\n"
          ]
        },
        {
          "output_type": "stream",
          "name": "stderr",
          "text": [
            "100%|██████████| 74/74 [01:21<00:00,  1.10s/it]\n",
            "100%|██████████| 11/11 [00:06<00:00,  1.74it/s]\n"
          ]
        },
        {
          "output_type": "stream",
          "name": "stdout",
          "text": [
            "Epoch: 8 | Train Loss: 0.006 | Train Accuracy: 0.888 | Val Loss: 0.030 | Val Accuracy: 0.751\n",
            "Early stopping triggered\n"
          ]
        },
        {
          "output_type": "display_data",
          "data": {
            "text/plain": [
              "<Figure size 1200x600 with 2 Axes>"
            ],
            "image/png": "[encoded data removed]"
          },
          "metadata": {}
        }
      ]
    },
    {
      "cell_type": "code",
      "execution_count": null,
      "metadata": {
        "id": "yXe94LSMdox3",
        "colab": {
          "base_uri": "https://localhost:8080/",
          "height": 1000
        },
        "outputId": "e4c38f54-73c0-484a-ffb7-6fb2421ba87c"
      },
      "outputs": [
        {
          "output_type": "stream",
          "name": "stderr",
          "text": [
            "Some weights of the model checkpoint at google/vit-base-patch16-224-in21k were not used when initializing ViTModel: ['pooler.dense.bias', 'pooler.dense.weight']\n",
            "- This IS expected if you are initializing ViTModel from the checkpoint of a model trained on another task or with another architecture (e.g. initializing a BertForSequenceClassification model from a BertForPreTraining model).\n",
            "- This IS NOT expected if you are initializing ViTModel from the checkpoint of a model that you expect to be exactly identical (initializing a BertForSequenceClassification model from a BertForSequenceClassification model).\n",
            "100%|██████████| 74/74 [01:16<00:00,  1.03s/it]\n",
            "100%|██████████| 11/11 [00:06<00:00,  1.76it/s]\n"
          ]
        },
        {
          "output_type": "stream",
          "name": "stdout",
          "text": [
            "Epoch: 1 | Train Loss: 0.045 | Train Accuracy: 0.194 | Val Loss: 0.043 | Val Accuracy: 0.580\n"
          ]
        },
        {
          "output_type": "stream",
          "name": "stderr",
          "text": [
            "100%|██████████| 74/74 [01:17<00:00,  1.05s/it]\n",
            "100%|██████████| 11/11 [00:06<00:00,  1.69it/s]\n"
          ]
        },
        {
          "output_type": "stream",
          "name": "stdout",
          "text": [
            "Epoch: 2 | Train Loss: 0.034 | Train Accuracy: 0.611 | Val Loss: 0.034 | Val Accuracy: 0.757\n"
          ]
        },
        {
          "output_type": "stream",
          "name": "stderr",
          "text": [
            "100%|██████████| 74/74 [01:16<00:00,  1.03s/it]\n",
            "100%|██████████| 11/11 [00:06<00:00,  1.74it/s]\n"
          ]
        },
        {
          "output_type": "stream",
          "name": "stdout",
          "text": [
            "Epoch: 3 | Train Loss: 0.026 | Train Accuracy: 0.778 | Val Loss: 0.032 | Val Accuracy: 0.772\n"
          ]
        },
        {
          "output_type": "stream",
          "name": "stderr",
          "text": [
            "100%|██████████| 74/74 [01:15<00:00,  1.03s/it]\n",
            "100%|██████████| 11/11 [00:06<00:00,  1.79it/s]\n"
          ]
        },
        {
          "output_type": "stream",
          "name": "stdout",
          "text": [
            "Epoch: 4 | Train Loss: 0.022 | Train Accuracy: 0.819 | Val Loss: 0.034 | Val Accuracy: 0.710\n"
          ]
        },
        {
          "output_type": "stream",
          "name": "stderr",
          "text": [
            "100%|██████████| 74/74 [01:15<00:00,  1.02s/it]\n",
            "100%|██████████| 11/11 [00:06<00:00,  1.76it/s]\n"
          ]
        },
        {
          "output_type": "stream",
          "name": "stdout",
          "text": [
            "Epoch: 5 | Train Loss: 0.019 | Train Accuracy: 0.848 | Val Loss: 0.027 | Val Accuracy: 0.781\n"
          ]
        },
        {
          "output_type": "stream",
          "name": "stderr",
          "text": [
            "100%|██████████| 74/74 [01:16<00:00,  1.03s/it]\n",
            "100%|██████████| 11/11 [00:06<00:00,  1.79it/s]\n"
          ]
        },
        {
          "output_type": "stream",
          "name": "stdout",
          "text": [
            "Epoch: 6 | Train Loss: 0.016 | Train Accuracy: 0.886 | Val Loss: 0.028 | Val Accuracy: 0.781\n"
          ]
        },
        {
          "output_type": "stream",
          "name": "stderr",
          "text": [
            "100%|██████████| 74/74 [01:17<00:00,  1.04s/it]\n",
            "100%|██████████| 11/11 [00:06<00:00,  1.74it/s]\n"
          ]
        },
        {
          "output_type": "stream",
          "name": "stdout",
          "text": [
            "Epoch: 7 | Train Loss: 0.015 | Train Accuracy: 0.879 | Val Loss: 0.026 | Val Accuracy: 0.772\n"
          ]
        },
        {
          "output_type": "stream",
          "name": "stderr",
          "text": [
            "100%|██████████| 74/74 [01:16<00:00,  1.04s/it]\n",
            "100%|██████████| 11/11 [00:06<00:00,  1.75it/s]\n"
          ]
        },
        {
          "output_type": "stream",
          "name": "stdout",
          "text": [
            "Epoch: 8 | Train Loss: 0.013 | Train Accuracy: 0.895 | Val Loss: 0.025 | Val Accuracy: 0.802\n"
          ]
        },
        {
          "output_type": "stream",
          "name": "stderr",
          "text": [
            "100%|██████████| 74/74 [01:16<00:00,  1.04s/it]\n",
            "100%|██████████| 11/11 [00:06<00:00,  1.79it/s]\n"
          ]
        },
        {
          "output_type": "stream",
          "name": "stdout",
          "text": [
            "Epoch: 9 | Train Loss: 0.012 | Train Accuracy: 0.891 | Val Loss: 0.023 | Val Accuracy: 0.784\n"
          ]
        },
        {
          "output_type": "stream",
          "name": "stderr",
          "text": [
            "100%|██████████| 74/74 [01:17<00:00,  1.05s/it]\n",
            "100%|██████████| 11/11 [00:06<00:00,  1.74it/s]\n"
          ]
        },
        {
          "output_type": "stream",
          "name": "stdout",
          "text": [
            "Epoch: 10 | Train Loss: 0.011 | Train Accuracy: 0.904 | Val Loss: 0.027 | Val Accuracy: 0.810\n"
          ]
        },
        {
          "output_type": "display_data",
          "data": {
            "text/plain": [
              "<Figure size 1200x600 with 2 Axes>"
            ],
            "image/png": "[encoded data removed]"
          },
          "metadata": {}
        }
      ],
      "source": [
        "import numpy as np\n",
        "import torch\n",
        "import cv2\n",
        "import torch.nn as nn\n",
        "from transformers import ViTModel, ViTConfig\n",
        "from torchvision import transforms\n",
        "from torch.optim import Adam\n",
        "from torch.utils.data import DataLoader\n",
        "from torch.optim.lr_scheduler import ReduceLROnPlateau\n",
        "from tqdm import tqdm\n",
        "import matplotlib.pyplot as plt\n",
        "\n",
        "model_checkpoint = 'google/vit-base-patch16-224-in21k'\n",
        "\n",
        "class ImageDataset(torch.utils.data.Dataset):\n",
        "    def __init__(self, input_data, train=True):\n",
        "        self.input_data = input_data\n",
        "        self.train = train\n",
        "        if self.train:\n",
        "            self.transform = transforms.Compose([\n",
        "                transforms.RandomResizedCrop(224),\n",
        "                transforms.RandomHorizontalFlip(),\n",
        "                transforms.RandomRotation(20),\n",
        "                transforms.ColorJitter(brightness=0.2, contrast=0.2, saturation=0.2, hue=0.2),\n",
        "                transforms.ToTensor(),\n",
        "                transforms.Normalize(mean=[0.5, 0.5, 0.5], std=[0.5, 0.5, 0.5])\n",
        "            ])\n",
        "        else:\n",
        "            self.transform = transforms.Compose([\n",
        "                transforms.Resize((224, 224), antialias=True),\n",
        "                transforms.ToTensor(),\n",
        "                transforms.Normalize(mean=[0.5, 0.5, 0.5], std=[0.5, 0.5, 0.5])\n",
        "            ])\n",
        "\n",
        "    def __len__(self):\n",
        "        return len(self.input_data)\n",
        "\n",
        "    def get_images(self, idx):\n",
        "        return self.transform(self.input_data[idx]['image'])\n",
        "\n",
        "    def get_labels(self, idx):\n",
        "        return self.input_data[idx]['label']\n",
        "\n",
        "    def __getitem__(self, idx):\n",
        "        train_images = self.get_images(idx)\n",
        "        train_labels = self.get_labels(idx)\n",
        "        return train_images, train_labels\n",
        "\n",
        "class ViT(nn.Module):\n",
        "    def __init__(self, config=ViTConfig(), num_labels=20, model_checkpoint='google/vit-base-patch16-224-in21k'):\n",
        "        super(ViT, self).__init__()\n",
        "        self.vit = ViTModel.from_pretrained(model_checkpoint, add_pooling_layer=False)\n",
        "        self.dropout = nn.Dropout(0.7)  # Adjusted dropout rate\n",
        "        self.batch_norm = nn.BatchNorm1d(config.hidden_size)\n",
        "        self.classifier = nn.Linear(config.hidden_size, num_labels)\n",
        "\n",
        "    def forward(self, x):\n",
        "        x = self.vit(x)['last_hidden_state']\n",
        "        x = self.dropout(x)\n",
        "        x = self.batch_norm(x[:, 0, :])\n",
        "        output = self.classifier(x)\n",
        "        return output\n",
        "\n",
        "def model_train(train_data, val_data, epochs, learning_rate, bs, patience=5):\n",
        "    use_cuda = torch.cuda.is_available()\n",
        "    device = torch.device(\"cuda\" if use_cuda else \"cpu\")\n",
        "\n",
        "    model = ViT().to(device)\n",
        "    criterion = nn.CrossEntropyLoss().to(device)\n",
        "    optimizer = Adam(model.parameters(), lr=learning_rate, weight_decay=1e-4)\n",
        "    scheduler = ReduceLROnPlateau(optimizer, mode='min', factor=0.2, patience=3, verbose=True)\n",
        "\n",
        "    train_dataset = ImageDataset(train_data, train=True)\n",
        "    val_dataset = ImageDataset(val_data, train=False)\n",
        "    train_dataloader = DataLoader(train_dataset, num_workers=1, batch_size=bs, shuffle=True)\n",
        "    val_dataloader = DataLoader(val_dataset, num_workers=1, batch_size=bs, shuffle=False)\n",
        "\n",
        "    train_losses, val_losses = [], []\n",
        "    train_accuracies, val_accuracies = [], []\n",
        "\n",
        "    best_val_loss = float('inf')\n",
        "    patience_counter = 0\n",
        "\n",
        "    for epoch in range(epochs):\n",
        "        total_acc_train = 0\n",
        "        total_loss_train = 0.0\n",
        "        model.train()\n",
        "\n",
        "        for train_image, train_label in tqdm(train_dataloader):\n",
        "            train_image, train_label = train_image.to(device), train_label.to(device)\n",
        "            output = model(train_image)\n",
        "            loss = criterion(output, train_label)\n",
        "            acc = (output.argmax(dim=1) == train_label).sum().item()\n",
        "            total_acc_train += acc\n",
        "            total_loss_train += loss.item()\n",
        "            optimizer.zero_grad()\n",
        "            loss.backward()\n",
        "            optimizer.step()\n",
        "\n",
        "        avg_loss_train = total_loss_train / len(train_dataset)\n",
        "        avg_acc_train = total_acc_train / len(train_dataset)\n",
        "\n",
        "        total_acc_val = 0\n",
        "        total_loss_val = 0.0\n",
        "        model.eval()\n",
        "\n",
        "        with torch.no_grad():\n",
        "            for val_image, val_label in tqdm(val_dataloader):\n",
        "                val_image, val_label = val_image.to(device), val_label.to(device)\n",
        "                output = model(val_image)\n",
        "                loss = criterion(output, val_label)\n",
        "                acc = (output.argmax(dim=1) == val_label).sum().item()\n",
        "                total_acc_val += acc\n",
        "                total_loss_val += loss.item()\n",
        "\n",
        "        avg_loss_val = total_loss_val / len(val_dataset)\n",
        "        avg_acc_val = total_acc_val / len(val_dataset)\n",
        "\n",
        "        train_losses.append(avg_loss_train)\n",
        "        val_losses.append(avg_loss_val)\n",
        "        train_accuracies.append(avg_acc_train)\n",
        "        val_accuracies.append(avg_acc_val)\n",
        "\n",
        "        print(f'Epoch: {epoch + 1} | Train Loss: {avg_loss_train:.3f} | Train Accuracy: {avg_acc_train:.3f} | Val Loss: {avg_loss_val:.3f} | Val Accuracy: {avg_acc_val:.3f}')\n",
        "\n",
        "        # Learning rate scheduling\n",
        "        scheduler.step(avg_loss_val)\n",
        "\n",
        "        # Early stopping\n",
        "        if avg_loss_val < best_val_loss:\n",
        "            best_val_loss = avg_loss_val\n",
        "            patience_counter = 0\n",
        "            torch.save(model.state_dict(), 'best_model.pt')\n",
        "        else:\n",
        "            patience_counter += 1\n",
        "\n",
        "        if patience_counter >= patience:\n",
        "            print(\"Early stopping triggered\")\n",
        "            break\n",
        "\n",
        "    # Load the best model\n",
        "    model.load_state_dict(torch.load('best_model.pt'))\n",
        "\n",
        "    # Plotting the results\n",
        "    epochs_range = range(1, len(train_losses) + 1)\n",
        "    plt.figure(figsize=(12, 6))\n",
        "\n",
        "    plt.subplot(1, 2, 1)\n",
        "    plt.plot(epochs_range, train_losses, label='Train Loss')\n",
        "    plt.plot(epochs_range, val_losses, label='Val Loss')\n",
        "    plt.xlabel('Epochs')\n",
        "    plt.ylabel('Loss')\n",
        "    plt.title('Loss over Epochs')\n",
        "    plt.legend()\n",
        "\n",
        "    plt.subplot(1, 2, 2)\n",
        "    plt.plot(epochs_range, train_accuracies, label='Train Accuracy')\n",
        "    plt.plot(epochs_range, val_accuracies, label='Val Accuracy')\n",
        "    plt.xlabel('Epochs')\n",
        "    plt.ylabel('Accuracy')\n",
        "    plt.title('Accuracy over Epochs')\n",
        "    plt.legend()\n",
        "\n",
        "    plt.show()\n",
        "\n",
        "    return model\n",
        "\n",
        "EPOCHS = 10\n",
        "LEARNING_RATE = 1e-5\n",
        "BATCH_SIZE = 64\n",
        "\n",
        "train_data = dataset['train']\n",
        "val_data = dataset['validation']\n",
        "\n",
        "trained_model = model_train(train_data, val_data, EPOCHS, LEARNING_RATE, BATCH_SIZE)"
      ]
    },
    {
      "cell_type": "code",
      "execution_count": null,
      "metadata": {
        "id": "nJ5GP3Lldouo"
      },
      "outputs": [],
      "source": []
    },
    {
      "cell_type": "code",
      "execution_count": null,
      "metadata": {
        "id": "tMWhzSR1doq_"
      },
      "outputs": [],
      "source": []
    },
    {
      "cell_type": "code",
      "execution_count": null,
      "metadata": {
        "id": "vnAYLQmodonm"
      },
      "outputs": [],
      "source": []
    },
    {
      "cell_type": "code",
      "execution_count": null,
      "metadata": {
        "id": "OnT3tjGHdogP"
      },
      "outputs": [],
      "source": []
    },
    {
      "cell_type": "code",
      "source": [],
      "metadata": {
        "id": "NaGttEo95osQ"
      },
      "execution_count": null,
      "outputs": []
    }
  ],
  "metadata": {
    "accelerator": "GPU",
    "colab": {
      "gpuType": "L4",
      "machine_shape": "hm",
      "provenance": [],
      "authorship_tag": "ABX9TyO5tBOZhojBKKHN3jVa9jnv",
      "include_colab_link": true
    },
    "kernelspec": {
      "display_name": "Python 3",
      "name": "python3"
    },
    "language_info": {
      "name": "python"
    },
    "widgets": {
      "application/vnd.jupyter.widget-state+json": {
        "5560d35217d54a26abccafa1146fa6e9": {
          "model_module": "@jupyter-widgets/controls",
          "model_name": "HBoxModel",
          "model_module_version": "1.5.0",
          "state": {
            "_dom_classes": [],
            "_model_module": "@jupyter-widgets/controls",
            "_model_module_version": "1.5.0",
            "_model_name": "HBoxModel",
            "_view_count": null,
            "_view_module": "@jupyter-widgets/controls",
            "_view_module_version": "1.5.0",
            "_view_name": "HBoxView",
            "box_style": "",
            "children": [
              "IPY_MODEL_d336a431641e45f2a6981d4b7dfdedbf",
              "IPY_MODEL_e943298847ca46eb8c2194cc3ef9dd8a",
              "IPY_MODEL_25bc9fd43c6e4a9185f8882ee6ca6dbc"
            ],
            "layout": "IPY_MODEL_0cf8ed9747e14bf28bafcf8240815f1c"
          }
        },
        "d336a431641e45f2a6981d4b7dfdedbf": {
          "model_module": "@jupyter-widgets/controls",
          "model_name": "HTMLModel",
          "model_module_version": "1.5.0",
          "state": {
            "_dom_classes": [],
            "_model_module": "@jupyter-widgets/controls",
            "_model_module_version": "1.5.0",
            "_model_name": "HTMLModel",
            "_view_count": null,
            "_view_module": "@jupyter-widgets/controls",
            "_view_module_version": "1.5.0",
            "_view_name": "HTMLView",
            "description": "",
            "description_tooltip": null,
            "layout": "IPY_MODEL_5fb446edb3cf42319fa10024354c2d35",
            "placeholder": "​",
            "style": "IPY_MODEL_f974e1e3661e4fb590feb3a8abf0f4d7",
            "value": "Resolving data files: 100%"
          }
        },
        "e943298847ca46eb8c2194cc3ef9dd8a": {
          "model_module": "@jupyter-widgets/controls",
          "model_name": "FloatProgressModel",
          "model_module_version": "1.5.0",
          "state": {
            "_dom_classes": [],
            "_model_module": "@jupyter-widgets/controls",
            "_model_module_version": "1.5.0",
            "_model_name": "FloatProgressModel",
            "_view_count": null,
            "_view_module": "@jupyter-widgets/controls",
            "_view_module_version": "1.5.0",
            "_view_name": "ProgressView",
            "bar_style": "success",
            "description": "",
            "description_tooltip": null,
            "layout": "IPY_MODEL_c0cd090e8cbd493792dc039a2b97211c",
            "max": 4710,
            "min": 0,
            "orientation": "horizontal",
            "style": "IPY_MODEL_e48d6a28673f4a83addc86e69664638d",
            "value": 4710
          }
        },
        "25bc9fd43c6e4a9185f8882ee6ca6dbc": {
          "model_module": "@jupyter-widgets/controls",
          "model_name": "HTMLModel",
          "model_module_version": "1.5.0",
          "state": {
            "_dom_classes": [],
            "_model_module": "@jupyter-widgets/controls",
            "_model_module_version": "1.5.0",
            "_model_name": "HTMLModel",
            "_view_count": null,
            "_view_module": "@jupyter-widgets/controls",
            "_view_module_version": "1.5.0",
            "_view_name": "HTMLView",
            "description": "",
            "description_tooltip": null,
            "layout": "IPY_MODEL_b4d636e9c8d440babe49707b3499c5e2",
            "placeholder": "​",
            "style": "IPY_MODEL_29af2859bee743fcaab6f8471b842103",
            "value": " 4710/4710 [00:00&lt;00:00, 23988.11it/s]"
          }
        },
        "0cf8ed9747e14bf28bafcf8240815f1c": {
          "model_module": "@jupyter-widgets/base",
          "model_name": "LayoutModel",
          "model_module_version": "1.2.0",
          "state": {
            "_model_module": "@jupyter-widgets/base",
            "_model_module_version": "1.2.0",
            "_model_name": "LayoutModel",
            "_view_count": null,
            "_view_module": "@jupyter-widgets/base",
            "_view_module_version": "1.2.0",
            "_view_name": "LayoutView",
            "align_content": null,
            "align_items": null,
            "align_self": null,
            "border": null,
            "bottom": null,
            "display": null,
            "flex": null,
            "flex_flow": null,
            "grid_area": null,
            "grid_auto_columns": null,
            "grid_auto_flow": null,
            "grid_auto_rows": null,
            "grid_column": null,
            "grid_gap": null,
            "grid_row": null,
            "grid_template_areas": null,
            "grid_template_columns": null,
            "grid_template_rows": null,
            "height": null,
            "justify_content": null,
            "justify_items": null,
            "left": null,
            "margin": null,
            "max_height": null,
            "max_width": null,
            "min_height": null,
            "min_width": null,
            "object_fit": null,
            "object_position": null,
            "order": null,
            "overflow": null,
            "overflow_x": null,
            "overflow_y": null,
            "padding": null,
            "right": null,
            "top": null,
            "visibility": null,
            "width": null
          }
        },
        "5fb446edb3cf42319fa10024354c2d35": {
          "model_module": "@jupyter-widgets/base",
          "model_name": "LayoutModel",
          "model_module_version": "1.2.0",
          "state": {
            "_model_module": "@jupyter-widgets/base",
            "_model_module_version": "1.2.0",
            "_model_name": "LayoutModel",
            "_view_count": null,
            "_view_module": "@jupyter-widgets/base",
            "_view_module_version": "1.2.0",
            "_view_name": "LayoutView",
            "align_content": null,
            "align_items": null,
            "align_self": null,
            "border": null,
            "bottom": null,
            "display": null,
            "flex": null,
            "flex_flow": null,
            "grid_area": null,
            "grid_auto_columns": null,
            "grid_auto_flow": null,
            "grid_auto_rows": null,
            "grid_column": null,
            "grid_gap": null,
            "grid_row": null,
            "grid_template_areas": null,
            "grid_template_columns": null,
            "grid_template_rows": null,
            "height": null,
            "justify_content": null,
            "justify_items": null,
            "left": null,
            "margin": null,
            "max_height": null,
            "max_width": null,
            "min_height": null,
            "min_width": null,
            "object_fit": null,
            "object_position": null,
            "order": null,
            "overflow": null,
            "overflow_x": null,
            "overflow_y": null,
            "padding": null,
            "right": null,
            "top": null,
            "visibility": null,
            "width": null
          }
        },
        "f974e1e3661e4fb590feb3a8abf0f4d7": {
          "model_module": "@jupyter-widgets/controls",
          "model_name": "DescriptionStyleModel",
          "model_module_version": "1.5.0",
          "state": {
            "_model_module": "@jupyter-widgets/controls",
            "_model_module_version": "1.5.0",
            "_model_name": "DescriptionStyleModel",
            "_view_count": null,
            "_view_module": "@jupyter-widgets/base",
            "_view_module_version": "1.2.0",
            "_view_name": "StyleView",
            "description_width": ""
          }
        },
        "c0cd090e8cbd493792dc039a2b97211c": {
          "model_module": "@jupyter-widgets/base",
          "model_name": "LayoutModel",
          "model_module_version": "1.2.0",
          "state": {
            "_model_module": "@jupyter-widgets/base",
            "_model_module_version": "1.2.0",
            "_model_name": "LayoutModel",
            "_view_count": null,
            "_view_module": "@jupyter-widgets/base",
            "_view_module_version": "1.2.0",
            "_view_name": "LayoutView",
            "align_content": null,
            "align_items": null,
            "align_self": null,
            "border": null,
            "bottom": null,
            "display": null,
            "flex": null,
            "flex_flow": null,
            "grid_area": null,
            "grid_auto_columns": null,
            "grid_auto_flow": null,
            "grid_auto_rows": null,
            "grid_column": null,
            "grid_gap": null,
            "grid_row": null,
            "grid_template_areas": null,
            "grid_template_columns": null,
            "grid_template_rows": null,
            "height": null,
            "justify_content": null,
            "justify_items": null,
            "left": null,
            "margin": null,
            "max_height": null,
            "max_width": null,
            "min_height": null,
            "min_width": null,
            "object_fit": null,
            "object_position": null,
            "order": null,
            "overflow": null,
            "overflow_x": null,
            "overflow_y": null,
            "padding": null,
            "right": null,
            "top": null,
            "visibility": null,
            "width": null
          }
        },
        "e48d6a28673f4a83addc86e69664638d": {
          "model_module": "@jupyter-widgets/controls",
          "model_name": "ProgressStyleModel",
          "model_module_version": "1.5.0",
          "state": {
            "_model_module": "@jupyter-widgets/controls",
            "_model_module_version": "1.5.0",
            "_model_name": "ProgressStyleModel",
            "_view_count": null,
            "_view_module": "@jupyter-widgets/base",
            "_view_module_version": "1.2.0",
            "_view_name": "StyleView",
            "bar_color": null,
            "description_width": ""
          }
        },
        "b4d636e9c8d440babe49707b3499c5e2": {
          "model_module": "@jupyter-widgets/base",
          "model_name": "LayoutModel",
          "model_module_version": "1.2.0",
          "state": {
            "_model_module": "@jupyter-widgets/base",
            "_model_module_version": "1.2.0",
            "_model_name": "LayoutModel",
            "_view_count": null,
            "_view_module": "@jupyter-widgets/base",
            "_view_module_version": "1.2.0",
            "_view_name": "LayoutView",
            "align_content": null,
            "align_items": null,
            "align_self": null,
            "border": null,
            "bottom": null,
            "display": null,
            "flex": null,
            "flex_flow": null,
            "grid_area": null,
            "grid_auto_columns": null,
            "grid_auto_flow": null,
            "grid_auto_rows": null,
            "grid_column": null,
            "grid_gap": null,
            "grid_row": null,
            "grid_template_areas": null,
            "grid_template_columns": null,
            "grid_template_rows": null,
            "height": null,
            "justify_content": null,
            "justify_items": null,
            "left": null,
            "margin": null,
            "max_height": null,
            "max_width": null,
            "min_height": null,
            "min_width": null,
            "object_fit": null,
            "object_position": null,
            "order": null,
            "overflow": null,
            "overflow_x": null,
            "overflow_y": null,
            "padding": null,
            "right": null,
            "top": null,
            "visibility": null,
            "width": null
          }
        },
        "29af2859bee743fcaab6f8471b842103": {
          "model_module": "@jupyter-widgets/controls",
          "model_name": "DescriptionStyleModel",
          "model_module_version": "1.5.0",
          "state": {
            "_model_module": "@jupyter-widgets/controls",
            "_model_module_version": "1.5.0",
            "_model_name": "DescriptionStyleModel",
            "_view_count": null,
            "_view_module": "@jupyter-widgets/base",
            "_view_module_version": "1.2.0",
            "_view_name": "StyleView",
            "description_width": ""
          }
        },
        "f5daa76b8f2c49c194f99f6a01ed62fc": {
          "model_module": "@jupyter-widgets/controls",
          "model_name": "HBoxModel",
          "model_module_version": "1.5.0",
          "state": {
            "_dom_classes": [],
            "_model_module": "@jupyter-widgets/controls",
            "_model_module_version": "1.5.0",
            "_model_name": "HBoxModel",
            "_view_count": null,
            "_view_module": "@jupyter-widgets/controls",
            "_view_module_version": "1.5.0",
            "_view_name": "HBoxView",
            "box_style": "",
            "children": [
              "IPY_MODEL_ca1c64dc336046f9a6e6cc4d8a0cf465",
              "IPY_MODEL_b5d2ecc4d744452082fb9cf20ee3581b",
              "IPY_MODEL_f1052f551bc2402bb2f0faa956e476c2"
            ],
            "layout": "IPY_MODEL_46f3221432e342efb8194be1bb2e03a0"
          }
        },
        "ca1c64dc336046f9a6e6cc4d8a0cf465": {
          "model_module": "@jupyter-widgets/controls",
          "model_name": "HTMLModel",
          "model_module_version": "1.5.0",
          "state": {
            "_dom_classes": [],
            "_model_module": "@jupyter-widgets/controls",
            "_model_module_version": "1.5.0",
            "_model_name": "HTMLModel",
            "_view_count": null,
            "_view_module": "@jupyter-widgets/controls",
            "_view_module_version": "1.5.0",
            "_view_name": "HTMLView",
            "description": "",
            "description_tooltip": null,
            "layout": "IPY_MODEL_727af21fe9e94c69a5fa62aa23fd99eb",
            "placeholder": "​",
            "style": "IPY_MODEL_fcfcf7d50c834bce8f2b2ab5b7360523",
            "value": "Resolving data files: 100%"
          }
        },
        "b5d2ecc4d744452082fb9cf20ee3581b": {
          "model_module": "@jupyter-widgets/controls",
          "model_name": "FloatProgressModel",
          "model_module_version": "1.5.0",
          "state": {
            "_dom_classes": [],
            "_model_module": "@jupyter-widgets/controls",
            "_model_module_version": "1.5.0",
            "_model_name": "FloatProgressModel",
            "_view_count": null,
            "_view_module": "@jupyter-widgets/controls",
            "_view_module_version": "1.5.0",
            "_view_name": "ProgressView",
            "bar_style": "success",
            "description": "",
            "description_tooltip": null,
            "layout": "IPY_MODEL_042066a8567545efa3341bbf7b307c72",
            "max": 672,
            "min": 0,
            "orientation": "horizontal",
            "style": "IPY_MODEL_063ac75952024eb3b50c2602280e0f66",
            "value": 672
          }
        },
        "f1052f551bc2402bb2f0faa956e476c2": {
          "model_module": "@jupyter-widgets/controls",
          "model_name": "HTMLModel",
          "model_module_version": "1.5.0",
          "state": {
            "_dom_classes": [],
            "_model_module": "@jupyter-widgets/controls",
            "_model_module_version": "1.5.0",
            "_model_name": "HTMLModel",
            "_view_count": null,
            "_view_module": "@jupyter-widgets/controls",
            "_view_module_version": "1.5.0",
            "_view_name": "HTMLView",
            "description": "",
            "description_tooltip": null,
            "layout": "IPY_MODEL_ac9bf68419ac4602b7e0a52cbadcb79c",
            "placeholder": "​",
            "style": "IPY_MODEL_4179e7e89fd841929538dc825939bc96",
            "value": " 672/672 [00:00&lt;00:00, 8572.27it/s]"
          }
        },
        "46f3221432e342efb8194be1bb2e03a0": {
          "model_module": "@jupyter-widgets/base",
          "model_name": "LayoutModel",
          "model_module_version": "1.2.0",
          "state": {
            "_model_module": "@jupyter-widgets/base",
            "_model_module_version": "1.2.0",
            "_model_name": "LayoutModel",
            "_view_count": null,
            "_view_module": "@jupyter-widgets/base",
            "_view_module_version": "1.2.0",
            "_view_name": "LayoutView",
            "align_content": null,
            "align_items": null,
            "align_self": null,
            "border": null,
            "bottom": null,
            "display": null,
            "flex": null,
            "flex_flow": null,
            "grid_area": null,
            "grid_auto_columns": null,
            "grid_auto_flow": null,
            "grid_auto_rows": null,
            "grid_column": null,
            "grid_gap": null,
            "grid_row": null,
            "grid_template_areas": null,
            "grid_template_columns": null,
            "grid_template_rows": null,
            "height": null,
            "justify_content": null,
            "justify_items": null,
            "left": null,
            "margin": null,
            "max_height": null,
            "max_width": null,
            "min_height": null,
            "min_width": null,
            "object_fit": null,
            "object_position": null,
            "order": null,
            "overflow": null,
            "overflow_x": null,
            "overflow_y": null,
            "padding": null,
            "right": null,
            "top": null,
            "visibility": null,
            "width": null
          }
        },
        "727af21fe9e94c69a5fa62aa23fd99eb": {
          "model_module": "@jupyter-widgets/base",
          "model_name": "LayoutModel",
          "model_module_version": "1.2.0",
          "state": {
            "_model_module": "@jupyter-widgets/base",
            "_model_module_version": "1.2.0",
            "_model_name": "LayoutModel",
            "_view_count": null,
            "_view_module": "@jupyter-widgets/base",
            "_view_module_version": "1.2.0",
            "_view_name": "LayoutView",
            "align_content": null,
            "align_items": null,
            "align_self": null,
            "border": null,
            "bottom": null,
            "display": null,
            "flex": null,
            "flex_flow": null,
            "grid_area": null,
            "grid_auto_columns": null,
            "grid_auto_flow": null,
            "grid_auto_rows": null,
            "grid_column": null,
            "grid_gap": null,
            "grid_row": null,
            "grid_template_areas": null,
            "grid_template_columns": null,
            "grid_template_rows": null,
            "height": null,
            "justify_content": null,
            "justify_items": null,
            "left": null,
            "margin": null,
            "max_height": null,
            "max_width": null,
            "min_height": null,
            "min_width": null,
            "object_fit": null,
            "object_position": null,
            "order": null,
            "overflow": null,
            "overflow_x": null,
            "overflow_y": null,
            "padding": null,
            "right": null,
            "top": null,
            "visibility": null,
            "width": null
          }
        },
        "fcfcf7d50c834bce8f2b2ab5b7360523": {
          "model_module": "@jupyter-widgets/controls",
          "model_name": "DescriptionStyleModel",
          "model_module_version": "1.5.0",
          "state": {
            "_model_module": "@jupyter-widgets/controls",
            "_model_module_version": "1.5.0",
            "_model_name": "DescriptionStyleModel",
            "_view_count": null,
            "_view_module": "@jupyter-widgets/base",
            "_view_module_version": "1.2.0",
            "_view_name": "StyleView",
            "description_width": ""
          }
        },
        "042066a8567545efa3341bbf7b307c72": {
          "model_module": "@jupyter-widgets/base",
          "model_name": "LayoutModel",
          "model_module_version": "1.2.0",
          "state": {
            "_model_module": "@jupyter-widgets/base",
            "_model_module_version": "1.2.0",
            "_model_name": "LayoutModel",
            "_view_count": null,
            "_view_module": "@jupyter-widgets/base",
            "_view_module_version": "1.2.0",
            "_view_name": "LayoutView",
            "align_content": null,
            "align_items": null,
            "align_self": null,
            "border": null,
            "bottom": null,
            "display": null,
            "flex": null,
            "flex_flow": null,
            "grid_area": null,
            "grid_auto_columns": null,
            "grid_auto_flow": null,
            "grid_auto_rows": null,
            "grid_column": null,
            "grid_gap": null,
            "grid_row": null,
            "grid_template_areas": null,
            "grid_template_columns": null,
            "grid_template_rows": null,
            "height": null,
            "justify_content": null,
            "justify_items": null,
            "left": null,
            "margin": null,
            "max_height": null,
            "max_width": null,
            "min_height": null,
            "min_width": null,
            "object_fit": null,
            "object_position": null,
            "order": null,
            "overflow": null,
            "overflow_x": null,
            "overflow_y": null,
            "padding": null,
            "right": null,
            "top": null,
            "visibility": null,
            "width": null
          }
        },
        "063ac75952024eb3b50c2602280e0f66": {
          "model_module": "@jupyter-widgets/controls",
          "model_name": "ProgressStyleModel",
          "model_module_version": "1.5.0",
          "state": {
            "_model_module": "@jupyter-widgets/controls",
            "_model_module_version": "1.5.0",
            "_model_name": "ProgressStyleModel",
            "_view_count": null,
            "_view_module": "@jupyter-widgets/base",
            "_view_module_version": "1.2.0",
            "_view_name": "StyleView",
            "bar_color": null,
            "description_width": ""
          }
        },
        "ac9bf68419ac4602b7e0a52cbadcb79c": {
          "model_module": "@jupyter-widgets/base",
          "model_name": "LayoutModel",
          "model_module_version": "1.2.0",
          "state": {
            "_model_module": "@jupyter-widgets/base",
            "_model_module_version": "1.2.0",
            "_model_name": "LayoutModel",
            "_view_count": null,
            "_view_module": "@jupyter-widgets/base",
            "_view_module_version": "1.2.0",
            "_view_name": "LayoutView",
            "align_content": null,
            "align_items": null,
            "align_self": null,
            "border": null,
            "bottom": null,
            "display": null,
            "flex": null,
            "flex_flow": null,
            "grid_area": null,
            "grid_auto_columns": null,
            "grid_auto_flow": null,
            "grid_auto_rows": null,
            "grid_column": null,
            "grid_gap": null,
            "grid_row": null,
            "grid_template_areas": null,
            "grid_template_columns": null,
            "grid_template_rows": null,
            "height": null,
            "justify_content": null,
            "justify_items": null,
            "left": null,
            "margin": null,
            "max_height": null,
            "max_width": null,
            "min_height": null,
            "min_width": null,
            "object_fit": null,
            "object_position": null,
            "order": null,
            "overflow": null,
            "overflow_x": null,
            "overflow_y": null,
            "padding": null,
            "right": null,
            "top": null,
            "visibility": null,
            "width": null
          }
        },
        "4179e7e89fd841929538dc825939bc96": {
          "model_module": "@jupyter-widgets/controls",
          "model_name": "DescriptionStyleModel",
          "model_module_version": "1.5.0",
          "state": {
            "_model_module": "@jupyter-widgets/controls",
            "_model_module_version": "1.5.0",
            "_model_name": "DescriptionStyleModel",
            "_view_count": null,
            "_view_module": "@jupyter-widgets/base",
            "_view_module_version": "1.2.0",
            "_view_name": "StyleView",
            "description_width": ""
          }
        },
        "05777f3e156a49dabe1380dda97fa6f1": {
          "model_module": "@jupyter-widgets/controls",
          "model_name": "HBoxModel",
          "model_module_version": "1.5.0",
          "state": {
            "_dom_classes": [],
            "_model_module": "@jupyter-widgets/controls",
            "_model_module_version": "1.5.0",
            "_model_name": "HBoxModel",
            "_view_count": null,
            "_view_module": "@jupyter-widgets/controls",
            "_view_module_version": "1.5.0",
            "_view_name": "HBoxView",
            "box_style": "",
            "children": [
              "IPY_MODEL_09dbb5d987b34fb7b7f227b392324bba",
              "IPY_MODEL_21a1869c84104b28b721eafa8e8e2b5b",
              "IPY_MODEL_99a70228f4aa4341b9d72c79755f2030"
            ],
            "layout": "IPY_MODEL_584eb092b4894a9e8f77c1adaea500f2"
          }
        },
        "09dbb5d987b34fb7b7f227b392324bba": {
          "model_module": "@jupyter-widgets/controls",
          "model_name": "HTMLModel",
          "model_module_version": "1.5.0",
          "state": {
            "_dom_classes": [],
            "_model_module": "@jupyter-widgets/controls",
            "_model_module_version": "1.5.0",
            "_model_name": "HTMLModel",
            "_view_count": null,
            "_view_module": "@jupyter-widgets/controls",
            "_view_module_version": "1.5.0",
            "_view_name": "HTMLView",
            "description": "",
            "description_tooltip": null,
            "layout": "IPY_MODEL_35ac31731f6549b69bc924499d6fc349",
            "placeholder": "​",
            "style": "IPY_MODEL_771e2bc1f8e14bbc8d0babf0e367c854",
            "value": "Resolving data files: 100%"
          }
        },
        "21a1869c84104b28b721eafa8e8e2b5b": {
          "model_module": "@jupyter-widgets/controls",
          "model_name": "FloatProgressModel",
          "model_module_version": "1.5.0",
          "state": {
            "_dom_classes": [],
            "_model_module": "@jupyter-widgets/controls",
            "_model_module_version": "1.5.0",
            "_model_name": "FloatProgressModel",
            "_view_count": null,
            "_view_module": "@jupyter-widgets/controls",
            "_view_module_version": "1.5.0",
            "_view_name": "ProgressView",
            "bar_style": "success",
            "description": "",
            "description_tooltip": null,
            "layout": "IPY_MODEL_f16f3fc0c77140068aa82a4020b54cf1",
            "max": 1342,
            "min": 0,
            "orientation": "horizontal",
            "style": "IPY_MODEL_ce896687ea874483ba1d723545b9fb25",
            "value": 1342
          }
        },
        "99a70228f4aa4341b9d72c79755f2030": {
          "model_module": "@jupyter-widgets/controls",
          "model_name": "HTMLModel",
          "model_module_version": "1.5.0",
          "state": {
            "_dom_classes": [],
            "_model_module": "@jupyter-widgets/controls",
            "_model_module_version": "1.5.0",
            "_model_name": "HTMLModel",
            "_view_count": null,
            "_view_module": "@jupyter-widgets/controls",
            "_view_module_version": "1.5.0",
            "_view_name": "HTMLView",
            "description": "",
            "description_tooltip": null,
            "layout": "IPY_MODEL_7b175ff801644796b6653683ce0e589a",
            "placeholder": "​",
            "style": "IPY_MODEL_ab83ce271a9c448eb852739c1736c91f",
            "value": " 1342/1342 [00:00&lt;00:00, 8374.32it/s]"
          }
        },
        "584eb092b4894a9e8f77c1adaea500f2": {
          "model_module": "@jupyter-widgets/base",
          "model_name": "LayoutModel",
          "model_module_version": "1.2.0",
          "state": {
            "_model_module": "@jupyter-widgets/base",
            "_model_module_version": "1.2.0",
            "_model_name": "LayoutModel",
            "_view_count": null,
            "_view_module": "@jupyter-widgets/base",
            "_view_module_version": "1.2.0",
            "_view_name": "LayoutView",
            "align_content": null,
            "align_items": null,
            "align_self": null,
            "border": null,
            "bottom": null,
            "display": null,
            "flex": null,
            "flex_flow": null,
            "grid_area": null,
            "grid_auto_columns": null,
            "grid_auto_flow": null,
            "grid_auto_rows": null,
            "grid_column": null,
            "grid_gap": null,
            "grid_row": null,
            "grid_template_areas": null,
            "grid_template_columns": null,
            "grid_template_rows": null,
            "height": null,
            "justify_content": null,
            "justify_items": null,
            "left": null,
            "margin": null,
            "max_height": null,
            "max_width": null,
            "min_height": null,
            "min_width": null,
            "object_fit": null,
            "object_position": null,
            "order": null,
            "overflow": null,
            "overflow_x": null,
            "overflow_y": null,
            "padding": null,
            "right": null,
            "top": null,
            "visibility": null,
            "width": null
          }
        },
        "35ac31731f6549b69bc924499d6fc349": {
          "model_module": "@jupyter-widgets/base",
          "model_name": "LayoutModel",
          "model_module_version": "1.2.0",
          "state": {
            "_model_module": "@jupyter-widgets/base",
            "_model_module_version": "1.2.0",
            "_model_name": "LayoutModel",
            "_view_count": null,
            "_view_module": "@jupyter-widgets/base",
            "_view_module_version": "1.2.0",
            "_view_name": "LayoutView",
            "align_content": null,
            "align_items": null,
            "align_self": null,
            "border": null,
            "bottom": null,
            "display": null,
            "flex": null,
            "flex_flow": null,
            "grid_area": null,
            "grid_auto_columns": null,
            "grid_auto_flow": null,
            "grid_auto_rows": null,
            "grid_column": null,
            "grid_gap": null,
            "grid_row": null,
            "grid_template_areas": null,
            "grid_template_columns": null,
            "grid_template_rows": null,
            "height": null,
            "justify_content": null,
            "justify_items": null,
            "left": null,
            "margin": null,
            "max_height": null,
            "max_width": null,
            "min_height": null,
            "min_width": null,
            "object_fit": null,
            "object_position": null,
            "order": null,
            "overflow": null,
            "overflow_x": null,
            "overflow_y": null,
            "padding": null,
            "right": null,
            "top": null,
            "visibility": null,
            "width": null
          }
        },
        "771e2bc1f8e14bbc8d0babf0e367c854": {
          "model_module": "@jupyter-widgets/controls",
          "model_name": "DescriptionStyleModel",
          "model_module_version": "1.5.0",
          "state": {
            "_model_module": "@jupyter-widgets/controls",
            "_model_module_version": "1.5.0",
            "_model_name": "DescriptionStyleModel",
            "_view_count": null,
            "_view_module": "@jupyter-widgets/base",
            "_view_module_version": "1.2.0",
            "_view_name": "StyleView",
            "description_width": ""
          }
        },
        "f16f3fc0c77140068aa82a4020b54cf1": {
          "model_module": "@jupyter-widgets/base",
          "model_name": "LayoutModel",
          "model_module_version": "1.2.0",
          "state": {
            "_model_module": "@jupyter-widgets/base",
            "_model_module_version": "1.2.0",
            "_model_name": "LayoutModel",
            "_view_count": null,
            "_view_module": "@jupyter-widgets/base",
            "_view_module_version": "1.2.0",
            "_view_name": "LayoutView",
            "align_content": null,
            "align_items": null,
            "align_self": null,
            "border": null,
            "bottom": null,
            "display": null,
            "flex": null,
            "flex_flow": null,
            "grid_area": null,
            "grid_auto_columns": null,
            "grid_auto_flow": null,
            "grid_auto_rows": null,
            "grid_column": null,
            "grid_gap": null,
            "grid_row": null,
            "grid_template_areas": null,
            "grid_template_columns": null,
            "grid_template_rows": null,
            "height": null,
            "justify_content": null,
            "justify_items": null,
            "left": null,
            "margin": null,
            "max_height": null,
            "max_width": null,
            "min_height": null,
            "min_width": null,
            "object_fit": null,
            "object_position": null,
            "order": null,
            "overflow": null,
            "overflow_x": null,
            "overflow_y": null,
            "padding": null,
            "right": null,
            "top": null,
            "visibility": null,
            "width": null
          }
        },
        "ce896687ea874483ba1d723545b9fb25": {
          "model_module": "@jupyter-widgets/controls",
          "model_name": "ProgressStyleModel",
          "model_module_version": "1.5.0",
          "state": {
            "_model_module": "@jupyter-widgets/controls",
            "_model_module_version": "1.5.0",
            "_model_name": "ProgressStyleModel",
            "_view_count": null,
            "_view_module": "@jupyter-widgets/base",
            "_view_module_version": "1.2.0",
            "_view_name": "StyleView",
            "bar_color": null,
            "description_width": ""
          }
        },
        "7b175ff801644796b6653683ce0e589a": {
          "model_module": "@jupyter-widgets/base",
          "model_name": "LayoutModel",
          "model_module_version": "1.2.0",
          "state": {
            "_model_module": "@jupyter-widgets/base",
            "_model_module_version": "1.2.0",
            "_model_name": "LayoutModel",
            "_view_count": null,
            "_view_module": "@jupyter-widgets/base",
            "_view_module_version": "1.2.0",
            "_view_name": "LayoutView",
            "align_content": null,
            "align_items": null,
            "align_self": null,
            "border": null,
            "bottom": null,
            "display": null,
            "flex": null,
            "flex_flow": null,
            "grid_area": null,
            "grid_auto_columns": null,
            "grid_auto_flow": null,
            "grid_auto_rows": null,
            "grid_column": null,
            "grid_gap": null,
            "grid_row": null,
            "grid_template_areas": null,
            "grid_template_columns": null,
            "grid_template_rows": null,
            "height": null,
            "justify_content": null,
            "justify_items": null,
            "left": null,
            "margin": null,
            "max_height": null,
            "max_width": null,
            "min_height": null,
            "min_width": null,
            "object_fit": null,
            "object_position": null,
            "order": null,
            "overflow": null,
            "overflow_x": null,
            "overflow_y": null,
            "padding": null,
            "right": null,
            "top": null,
            "visibility": null,
            "width": null
          }
        },
        "ab83ce271a9c448eb852739c1736c91f": {
          "model_module": "@jupyter-widgets/controls",
          "model_name": "DescriptionStyleModel",
          "model_module_version": "1.5.0",
          "state": {
            "_model_module": "@jupyter-widgets/controls",
            "_model_module_version": "1.5.0",
            "_model_name": "DescriptionStyleModel",
            "_view_count": null,
            "_view_module": "@jupyter-widgets/base",
            "_view_module_version": "1.2.0",
            "_view_name": "StyleView",
            "description_width": ""
          }
        },
        "6e0e8fa6690640eab1310e817cef4970": {
          "model_module": "@jupyter-widgets/controls",
          "model_name": "HBoxModel",
          "model_module_version": "1.5.0",
          "state": {
            "_dom_classes": [],
            "_model_module": "@jupyter-widgets/controls",
            "_model_module_version": "1.5.0",
            "_model_name": "HBoxModel",
            "_view_count": null,
            "_view_module": "@jupyter-widgets/controls",
            "_view_module_version": "1.5.0",
            "_view_name": "HBoxView",
            "box_style": "",
            "children": [
              "IPY_MODEL_5653260eb4ee4a3ca3e4e03876adb1f1",
              "IPY_MODEL_f7d6e884df394368b5373f9ace1dd7c8",
              "IPY_MODEL_7376d48dda0d40388d8a12cf89466e59"
            ],
            "layout": "IPY_MODEL_3a58f577e1d4432db3326b24bbeaf35c"
          }
        },
        "5653260eb4ee4a3ca3e4e03876adb1f1": {
          "model_module": "@jupyter-widgets/controls",
          "model_name": "HTMLModel",
          "model_module_version": "1.5.0",
          "state": {
            "_dom_classes": [],
            "_model_module": "@jupyter-widgets/controls",
            "_model_module_version": "1.5.0",
            "_model_name": "HTMLModel",
            "_view_count": null,
            "_view_module": "@jupyter-widgets/controls",
            "_view_module_version": "1.5.0",
            "_view_name": "HTMLView",
            "description": "",
            "description_tooltip": null,
            "layout": "IPY_MODEL_edd1d4e540764412b3191b3a7b69aac4",
            "placeholder": "​",
            "style": "IPY_MODEL_6346656a8daa483d8a9ef408e8d6d3b2",
            "value": "Downloading data: 100%"
          }
        },
        "f7d6e884df394368b5373f9ace1dd7c8": {
          "model_module": "@jupyter-widgets/controls",
          "model_name": "FloatProgressModel",
          "model_module_version": "1.5.0",
          "state": {
            "_dom_classes": [],
            "_model_module": "@jupyter-widgets/controls",
            "_model_module_version": "1.5.0",
            "_model_name": "FloatProgressModel",
            "_view_count": null,
            "_view_module": "@jupyter-widgets/controls",
            "_view_module_version": "1.5.0",
            "_view_name": "ProgressView",
            "bar_style": "success",
            "description": "",
            "description_tooltip": null,
            "layout": "IPY_MODEL_6c338198a0e04ffebc8d896cbe246211",
            "max": 4710,
            "min": 0,
            "orientation": "horizontal",
            "style": "IPY_MODEL_c2675904c89443d2a44d894043da0669",
            "value": 4710
          }
        },
        "7376d48dda0d40388d8a12cf89466e59": {
          "model_module": "@jupyter-widgets/controls",
          "model_name": "HTMLModel",
          "model_module_version": "1.5.0",
          "state": {
            "_dom_classes": [],
            "_model_module": "@jupyter-widgets/controls",
            "_model_module_version": "1.5.0",
            "_model_name": "HTMLModel",
            "_view_count": null,
            "_view_module": "@jupyter-widgets/controls",
            "_view_module_version": "1.5.0",
            "_view_name": "HTMLView",
            "description": "",
            "description_tooltip": null,
            "layout": "IPY_MODEL_c1d135c510f94b9caad64ba39097e302",
            "placeholder": "​",
            "style": "IPY_MODEL_bf8ce2bdf7f843159fb5f9dff4ff4c5c",
            "value": " 4710/4710 [00:00&lt;00:00, 12376.35files/s]"
          }
        },
        "3a58f577e1d4432db3326b24bbeaf35c": {
          "model_module": "@jupyter-widgets/base",
          "model_name": "LayoutModel",
          "model_module_version": "1.2.0",
          "state": {
            "_model_module": "@jupyter-widgets/base",
            "_model_module_version": "1.2.0",
            "_model_name": "LayoutModel",
            "_view_count": null,
            "_view_module": "@jupyter-widgets/base",
            "_view_module_version": "1.2.0",
            "_view_name": "LayoutView",
            "align_content": null,
            "align_items": null,
            "align_self": null,
            "border": null,
            "bottom": null,
            "display": null,
            "flex": null,
            "flex_flow": null,
            "grid_area": null,
            "grid_auto_columns": null,
            "grid_auto_flow": null,
            "grid_auto_rows": null,
            "grid_column": null,
            "grid_gap": null,
            "grid_row": null,
            "grid_template_areas": null,
            "grid_template_columns": null,
            "grid_template_rows": null,
            "height": null,
            "justify_content": null,
            "justify_items": null,
            "left": null,
            "margin": null,
            "max_height": null,
            "max_width": null,
            "min_height": null,
            "min_width": null,
            "object_fit": null,
            "object_position": null,
            "order": null,
            "overflow": null,
            "overflow_x": null,
            "overflow_y": null,
            "padding": null,
            "right": null,
            "top": null,
            "visibility": null,
            "width": null
          }
        },
        "edd1d4e540764412b3191b3a7b69aac4": {
          "model_module": "@jupyter-widgets/base",
          "model_name": "LayoutModel",
          "model_module_version": "1.2.0",
          "state": {
            "_model_module": "@jupyter-widgets/base",
            "_model_module_version": "1.2.0",
            "_model_name": "LayoutModel",
            "_view_count": null,
            "_view_module": "@jupyter-widgets/base",
            "_view_module_version": "1.2.0",
            "_view_name": "LayoutView",
            "align_content": null,
            "align_items": null,
            "align_self": null,
            "border": null,
            "bottom": null,
            "display": null,
            "flex": null,
            "flex_flow": null,
            "grid_area": null,
            "grid_auto_columns": null,
            "grid_auto_flow": null,
            "grid_auto_rows": null,
            "grid_column": null,
            "grid_gap": null,
            "grid_row": null,
            "grid_template_areas": null,
            "grid_template_columns": null,
            "grid_template_rows": null,
            "height": null,
            "justify_content": null,
            "justify_items": null,
            "left": null,
            "margin": null,
            "max_height": null,
            "max_width": null,
            "min_height": null,
            "min_width": null,
            "object_fit": null,
            "object_position": null,
            "order": null,
            "overflow": null,
            "overflow_x": null,
            "overflow_y": null,
            "padding": null,
            "right": null,
            "top": null,
            "visibility": null,
            "width": null
          }
        },
        "6346656a8daa483d8a9ef408e8d6d3b2": {
          "model_module": "@jupyter-widgets/controls",
          "model_name": "DescriptionStyleModel",
          "model_module_version": "1.5.0",
          "state": {
            "_model_module": "@jupyter-widgets/controls",
            "_model_module_version": "1.5.0",
            "_model_name": "DescriptionStyleModel",
            "_view_count": null,
            "_view_module": "@jupyter-widgets/base",
            "_view_module_version": "1.2.0",
            "_view_name": "StyleView",
            "description_width": ""
          }
        },
        "6c338198a0e04ffebc8d896cbe246211": {
          "model_module": "@jupyter-widgets/base",
          "model_name": "LayoutModel",
          "model_module_version": "1.2.0",
          "state": {
            "_model_module": "@jupyter-widgets/base",
            "_model_module_version": "1.2.0",
            "_model_name": "LayoutModel",
            "_view_count": null,
            "_view_module": "@jupyter-widgets/base",
            "_view_module_version": "1.2.0",
            "_view_name": "LayoutView",
            "align_content": null,
            "align_items": null,
            "align_self": null,
            "border": null,
            "bottom": null,
            "display": null,
            "flex": null,
            "flex_flow": null,
            "grid_area": null,
            "grid_auto_columns": null,
            "grid_auto_flow": null,
            "grid_auto_rows": null,
            "grid_column": null,
            "grid_gap": null,
            "grid_row": null,
            "grid_template_areas": null,
            "grid_template_columns": null,
            "grid_template_rows": null,
            "height": null,
            "justify_content": null,
            "justify_items": null,
            "left": null,
            "margin": null,
            "max_height": null,
            "max_width": null,
            "min_height": null,
            "min_width": null,
            "object_fit": null,
            "object_position": null,
            "order": null,
            "overflow": null,
            "overflow_x": null,
            "overflow_y": null,
            "padding": null,
            "right": null,
            "top": null,
            "visibility": null,
            "width": null
          }
        },
        "c2675904c89443d2a44d894043da0669": {
          "model_module": "@jupyter-widgets/controls",
          "model_name": "ProgressStyleModel",
          "model_module_version": "1.5.0",
          "state": {
            "_model_module": "@jupyter-widgets/controls",
            "_model_module_version": "1.5.0",
            "_model_name": "ProgressStyleModel",
            "_view_count": null,
            "_view_module": "@jupyter-widgets/base",
            "_view_module_version": "1.2.0",
            "_view_name": "StyleView",
            "bar_color": null,
            "description_width": ""
          }
        },
        "c1d135c510f94b9caad64ba39097e302": {
          "model_module": "@jupyter-widgets/base",
          "model_name": "LayoutModel",
          "model_module_version": "1.2.0",
          "state": {
            "_model_module": "@jupyter-widgets/base",
            "_model_module_version": "1.2.0",
            "_model_name": "LayoutModel",
            "_view_count": null,
            "_view_module": "@jupyter-widgets/base",
            "_view_module_version": "1.2.0",
            "_view_name": "LayoutView",
            "align_content": null,
            "align_items": null,
            "align_self": null,
            "border": null,
            "bottom": null,
            "display": null,
            "flex": null,
            "flex_flow": null,
            "grid_area": null,
            "grid_auto_columns": null,
            "grid_auto_flow": null,
            "grid_auto_rows": null,
            "grid_column": null,
            "grid_gap": null,
            "grid_row": null,
            "grid_template_areas": null,
            "grid_template_columns": null,
            "grid_template_rows": null,
            "height": null,
            "justify_content": null,
            "justify_items": null,
            "left": null,
            "margin": null,
            "max_height": null,
            "max_width": null,
            "min_height": null,
            "min_width": null,
            "object_fit": null,
            "object_position": null,
            "order": null,
            "overflow": null,
            "overflow_x": null,
            "overflow_y": null,
            "padding": null,
            "right": null,
            "top": null,
            "visibility": null,
            "width": null
          }
        },
        "bf8ce2bdf7f843159fb5f9dff4ff4c5c": {
          "model_module": "@jupyter-widgets/controls",
          "model_name": "DescriptionStyleModel",
          "model_module_version": "1.5.0",
          "state": {
            "_model_module": "@jupyter-widgets/controls",
            "_model_module_version": "1.5.0",
            "_model_name": "DescriptionStyleModel",
            "_view_count": null,
            "_view_module": "@jupyter-widgets/base",
            "_view_module_version": "1.2.0",
            "_view_name": "StyleView",
            "description_width": ""
          }
        },
        "7fd5f6c882d7436da07e52f7bfd6f37a": {
          "model_module": "@jupyter-widgets/controls",
          "model_name": "HBoxModel",
          "model_module_version": "1.5.0",
          "state": {
            "_dom_classes": [],
            "_model_module": "@jupyter-widgets/controls",
            "_model_module_version": "1.5.0",
            "_model_name": "HBoxModel",
            "_view_count": null,
            "_view_module": "@jupyter-widgets/controls",
            "_view_module_version": "1.5.0",
            "_view_name": "HBoxView",
            "box_style": "",
            "children": [
              "IPY_MODEL_bb4c7c4eb2e14db28d3fb269567979f9",
              "IPY_MODEL_d9d2e1a206284ab9940179c94424a79d",
              "IPY_MODEL_64009e1c8a79468da73c37d9eaa0dd26"
            ],
            "layout": "IPY_MODEL_09db2d7e6a6c405aaecc835a38e6fc75"
          }
        },
        "bb4c7c4eb2e14db28d3fb269567979f9": {
          "model_module": "@jupyter-widgets/controls",
          "model_name": "HTMLModel",
          "model_module_version": "1.5.0",
          "state": {
            "_dom_classes": [],
            "_model_module": "@jupyter-widgets/controls",
            "_model_module_version": "1.5.0",
            "_model_name": "HTMLModel",
            "_view_count": null,
            "_view_module": "@jupyter-widgets/controls",
            "_view_module_version": "1.5.0",
            "_view_name": "HTMLView",
            "description": "",
            "description_tooltip": null,
            "layout": "IPY_MODEL_ea22bd14f2334f10879f3380927ad489",
            "placeholder": "​",
            "style": "IPY_MODEL_cfee0cd440f648e19b3f8a90cf0fcf2e",
            "value": "Downloading data: 100%"
          }
        },
        "d9d2e1a206284ab9940179c94424a79d": {
          "model_module": "@jupyter-widgets/controls",
          "model_name": "FloatProgressModel",
          "model_module_version": "1.5.0",
          "state": {
            "_dom_classes": [],
            "_model_module": "@jupyter-widgets/controls",
            "_model_module_version": "1.5.0",
            "_model_name": "FloatProgressModel",
            "_view_count": null,
            "_view_module": "@jupyter-widgets/controls",
            "_view_module_version": "1.5.0",
            "_view_name": "ProgressView",
            "bar_style": "success",
            "description": "",
            "description_tooltip": null,
            "layout": "IPY_MODEL_85d064681541401a88495ffb63aa4148",
            "max": 672,
            "min": 0,
            "orientation": "horizontal",
            "style": "IPY_MODEL_3d4ef3262eec4c9ba0b51866f07480fd",
            "value": 672
          }
        },
        "64009e1c8a79468da73c37d9eaa0dd26": {
          "model_module": "@jupyter-widgets/controls",
          "model_name": "HTMLModel",
          "model_module_version": "1.5.0",
          "state": {
            "_dom_classes": [],
            "_model_module": "@jupyter-widgets/controls",
            "_model_module_version": "1.5.0",
            "_model_name": "HTMLModel",
            "_view_count": null,
            "_view_module": "@jupyter-widgets/controls",
            "_view_module_version": "1.5.0",
            "_view_name": "HTMLView",
            "description": "",
            "description_tooltip": null,
            "layout": "IPY_MODEL_7cab908b146e4c77be44876fad725508",
            "placeholder": "​",
            "style": "IPY_MODEL_8419e94b307a42c9a19809ec569b71ab",
            "value": " 672/672 [00:00&lt;00:00, 7604.65files/s]"
          }
        },
        "09db2d7e6a6c405aaecc835a38e6fc75": {
          "model_module": "@jupyter-widgets/base",
          "model_name": "LayoutModel",
          "model_module_version": "1.2.0",
          "state": {
            "_model_module": "@jupyter-widgets/base",
            "_model_module_version": "1.2.0",
            "_model_name": "LayoutModel",
            "_view_count": null,
            "_view_module": "@jupyter-widgets/base",
            "_view_module_version": "1.2.0",
            "_view_name": "LayoutView",
            "align_content": null,
            "align_items": null,
            "align_self": null,
            "border": null,
            "bottom": null,
            "display": null,
            "flex": null,
            "flex_flow": null,
            "grid_area": null,
            "grid_auto_columns": null,
            "grid_auto_flow": null,
            "grid_auto_rows": null,
            "grid_column": null,
            "grid_gap": null,
            "grid_row": null,
            "grid_template_areas": null,
            "grid_template_columns": null,
            "grid_template_rows": null,
            "height": null,
            "justify_content": null,
            "justify_items": null,
            "left": null,
            "margin": null,
            "max_height": null,
            "max_width": null,
            "min_height": null,
            "min_width": null,
            "object_fit": null,
            "object_position": null,
            "order": null,
            "overflow": null,
            "overflow_x": null,
            "overflow_y": null,
            "padding": null,
            "right": null,
            "top": null,
            "visibility": null,
            "width": null
          }
        },
        "ea22bd14f2334f10879f3380927ad489": {
          "model_module": "@jupyter-widgets/base",
          "model_name": "LayoutModel",
          "model_module_version": "1.2.0",
          "state": {
            "_model_module": "@jupyter-widgets/base",
            "_model_module_version": "1.2.0",
            "_model_name": "LayoutModel",
            "_view_count": null,
            "_view_module": "@jupyter-widgets/base",
            "_view_module_version": "1.2.0",
            "_view_name": "LayoutView",
            "align_content": null,
            "align_items": null,
            "align_self": null,
            "border": null,
            "bottom": null,
            "display": null,
            "flex": null,
            "flex_flow": null,
            "grid_area": null,
            "grid_auto_columns": null,
            "grid_auto_flow": null,
            "grid_auto_rows": null,
            "grid_column": null,
            "grid_gap": null,
            "grid_row": null,
            "grid_template_areas": null,
            "grid_template_columns": null,
            "grid_template_rows": null,
            "height": null,
            "justify_content": null,
            "justify_items": null,
            "left": null,
            "margin": null,
            "max_height": null,
            "max_width": null,
            "min_height": null,
            "min_width": null,
            "object_fit": null,
            "object_position": null,
            "order": null,
            "overflow": null,
            "overflow_x": null,
            "overflow_y": null,
            "padding": null,
            "right": null,
            "top": null,
            "visibility": null,
            "width": null
          }
        },
        "cfee0cd440f648e19b3f8a90cf0fcf2e": {
          "model_module": "@jupyter-widgets/controls",
          "model_name": "DescriptionStyleModel",
          "model_module_version": "1.5.0",
          "state": {
            "_model_module": "@jupyter-widgets/controls",
            "_model_module_version": "1.5.0",
            "_model_name": "DescriptionStyleModel",
            "_view_count": null,
            "_view_module": "@jupyter-widgets/base",
            "_view_module_version": "1.2.0",
            "_view_name": "StyleView",
            "description_width": ""
          }
        },
        "85d064681541401a88495ffb63aa4148": {
          "model_module": "@jupyter-widgets/base",
          "model_name": "LayoutModel",
          "model_module_version": "1.2.0",
          "state": {
            "_model_module": "@jupyter-widgets/base",
            "_model_module_version": "1.2.0",
            "_model_name": "LayoutModel",
            "_view_count": null,
            "_view_module": "@jupyter-widgets/base",
            "_view_module_version": "1.2.0",
            "_view_name": "LayoutView",
            "align_content": null,
            "align_items": null,
            "align_self": null,
            "border": null,
            "bottom": null,
            "display": null,
            "flex": null,
            "flex_flow": null,
            "grid_area": null,
            "grid_auto_columns": null,
            "grid_auto_flow": null,
            "grid_auto_rows": null,
            "grid_column": null,
            "grid_gap": null,
            "grid_row": null,
            "grid_template_areas": null,
            "grid_template_columns": null,
            "grid_template_rows": null,
            "height": null,
            "justify_content": null,
            "justify_items": null,
            "left": null,
            "margin": null,
            "max_height": null,
            "max_width": null,
            "min_height": null,
            "min_width": null,
            "object_fit": null,
            "object_position": null,
            "order": null,
            "overflow": null,
            "overflow_x": null,
            "overflow_y": null,
            "padding": null,
            "right": null,
            "top": null,
            "visibility": null,
            "width": null
          }
        },
        "3d4ef3262eec4c9ba0b51866f07480fd": {
          "model_module": "@jupyter-widgets/controls",
          "model_name": "ProgressStyleModel",
          "model_module_version": "1.5.0",
          "state": {
            "_model_module": "@jupyter-widgets/controls",
            "_model_module_version": "1.5.0",
            "_model_name": "ProgressStyleModel",
            "_view_count": null,
            "_view_module": "@jupyter-widgets/base",
            "_view_module_version": "1.2.0",
            "_view_name": "StyleView",
            "bar_color": null,
            "description_width": ""
          }
        },
        "7cab908b146e4c77be44876fad725508": {
          "model_module": "@jupyter-widgets/base",
          "model_name": "LayoutModel",
          "model_module_version": "1.2.0",
          "state": {
            "_model_module": "@jupyter-widgets/base",
            "_model_module_version": "1.2.0",
            "_model_name": "LayoutModel",
            "_view_count": null,
            "_view_module": "@jupyter-widgets/base",
            "_view_module_version": "1.2.0",
            "_view_name": "LayoutView",
            "align_content": null,
            "align_items": null,
            "align_self": null,
            "border": null,
            "bottom": null,
            "display": null,
            "flex": null,
            "flex_flow": null,
            "grid_area": null,
            "grid_auto_columns": null,
            "grid_auto_flow": null,
            "grid_auto_rows": null,
            "grid_column": null,
            "grid_gap": null,
            "grid_row": null,
            "grid_template_areas": null,
            "grid_template_columns": null,
            "grid_template_rows": null,
            "height": null,
            "justify_content": null,
            "justify_items": null,
            "left": null,
            "margin": null,
            "max_height": null,
            "max_width": null,
            "min_height": null,
            "min_width": null,
            "object_fit": null,
            "object_position": null,
            "order": null,
            "overflow": null,
            "overflow_x": null,
            "overflow_y": null,
            "padding": null,
            "right": null,
            "top": null,
            "visibility": null,
            "width": null
          }
        },
        "8419e94b307a42c9a19809ec569b71ab": {
          "model_module": "@jupyter-widgets/controls",
          "model_name": "DescriptionStyleModel",
          "model_module_version": "1.5.0",
          "state": {
            "_model_module": "@jupyter-widgets/controls",
            "_model_module_version": "1.5.0",
            "_model_name": "DescriptionStyleModel",
            "_view_count": null,
            "_view_module": "@jupyter-widgets/base",
            "_view_module_version": "1.2.0",
            "_view_name": "StyleView",
            "description_width": ""
          }
        },
        "f2f9674cf3e64716982460ae20b444f0": {
          "model_module": "@jupyter-widgets/controls",
          "model_name": "HBoxModel",
          "model_module_version": "1.5.0",
          "state": {
            "_dom_classes": [],
            "_model_module": "@jupyter-widgets/controls",
            "_model_module_version": "1.5.0",
            "_model_name": "HBoxModel",
            "_view_count": null,
            "_view_module": "@jupyter-widgets/controls",
            "_view_module_version": "1.5.0",
            "_view_name": "HBoxView",
            "box_style": "",
            "children": [
              "IPY_MODEL_4b55432cb936483eb68ce119e0870035",
              "IPY_MODEL_b14431f0b0e74ba2b0888e13ea8c3f69",
              "IPY_MODEL_af6a185476894ee1a009c504b696ccd2"
            ],
            "layout": "IPY_MODEL_e31cbc0b4e784e46b1218bfec2d28b33"
          }
        },
        "4b55432cb936483eb68ce119e0870035": {
          "model_module": "@jupyter-widgets/controls",
          "model_name": "HTMLModel",
          "model_module_version": "1.5.0",
          "state": {
            "_dom_classes": [],
            "_model_module": "@jupyter-widgets/controls",
            "_model_module_version": "1.5.0",
            "_model_name": "HTMLModel",
            "_view_count": null,
            "_view_module": "@jupyter-widgets/controls",
            "_view_module_version": "1.5.0",
            "_view_name": "HTMLView",
            "description": "",
            "description_tooltip": null,
            "layout": "IPY_MODEL_5c1fb456614d4054b51d6ad29b73af50",
            "placeholder": "​",
            "style": "IPY_MODEL_e3da80fddaf44b26b7022b5d1e0c4639",
            "value": "Downloading data: 100%"
          }
        },
        "b14431f0b0e74ba2b0888e13ea8c3f69": {
          "model_module": "@jupyter-widgets/controls",
          "model_name": "FloatProgressModel",
          "model_module_version": "1.5.0",
          "state": {
            "_dom_classes": [],
            "_model_module": "@jupyter-widgets/controls",
            "_model_module_version": "1.5.0",
            "_model_name": "FloatProgressModel",
            "_view_count": null,
            "_view_module": "@jupyter-widgets/controls",
            "_view_module_version": "1.5.0",
            "_view_name": "ProgressView",
            "bar_style": "success",
            "description": "",
            "description_tooltip": null,
            "layout": "IPY_MODEL_fe88208f12044a1081c1c9a4e777cf93",
            "max": 1342,
            "min": 0,
            "orientation": "horizontal",
            "style": "IPY_MODEL_1b32055e25e7423890dc6f4c050f365f",
            "value": 1342
          }
        },
        "af6a185476894ee1a009c504b696ccd2": {
          "model_module": "@jupyter-widgets/controls",
          "model_name": "HTMLModel",
          "model_module_version": "1.5.0",
          "state": {
            "_dom_classes": [],
            "_model_module": "@jupyter-widgets/controls",
            "_model_module_version": "1.5.0",
            "_model_name": "HTMLModel",
            "_view_count": null,
            "_view_module": "@jupyter-widgets/controls",
            "_view_module_version": "1.5.0",
            "_view_name": "HTMLView",
            "description": "",
            "description_tooltip": null,
            "layout": "IPY_MODEL_bd4d7df4e16c4731b50928e40c9b71b3",
            "placeholder": "​",
            "style": "IPY_MODEL_d1b6dbbfbfd84f2fb1c1d5d11157bfc5",
            "value": " 1342/1342 [00:00&lt;00:00, 8751.49files/s]"
          }
        },
        "e31cbc0b4e784e46b1218bfec2d28b33": {
          "model_module": "@jupyter-widgets/base",
          "model_name": "LayoutModel",
          "model_module_version": "1.2.0",
          "state": {
            "_model_module": "@jupyter-widgets/base",
            "_model_module_version": "1.2.0",
            "_model_name": "LayoutModel",
            "_view_count": null,
            "_view_module": "@jupyter-widgets/base",
            "_view_module_version": "1.2.0",
            "_view_name": "LayoutView",
            "align_content": null,
            "align_items": null,
            "align_self": null,
            "border": null,
            "bottom": null,
            "display": null,
            "flex": null,
            "flex_flow": null,
            "grid_area": null,
            "grid_auto_columns": null,
            "grid_auto_flow": null,
            "grid_auto_rows": null,
            "grid_column": null,
            "grid_gap": null,
            "grid_row": null,
            "grid_template_areas": null,
            "grid_template_columns": null,
            "grid_template_rows": null,
            "height": null,
            "justify_content": null,
            "justify_items": null,
            "left": null,
            "margin": null,
            "max_height": null,
            "max_width": null,
            "min_height": null,
            "min_width": null,
            "object_fit": null,
            "object_position": null,
            "order": null,
            "overflow": null,
            "overflow_x": null,
            "overflow_y": null,
            "padding": null,
            "right": null,
            "top": null,
            "visibility": null,
            "width": null
          }
        },
        "5c1fb456614d4054b51d6ad29b73af50": {
          "model_module": "@jupyter-widgets/base",
          "model_name": "LayoutModel",
          "model_module_version": "1.2.0",
          "state": {
            "_model_module": "@jupyter-widgets/base",
            "_model_module_version": "1.2.0",
            "_model_name": "LayoutModel",
            "_view_count": null,
            "_view_module": "@jupyter-widgets/base",
            "_view_module_version": "1.2.0",
            "_view_name": "LayoutView",
            "align_content": null,
            "align_items": null,
            "align_self": null,
            "border": null,
            "bottom": null,
            "display": null,
            "flex": null,
            "flex_flow": null,
            "grid_area": null,
            "grid_auto_columns": null,
            "grid_auto_flow": null,
            "grid_auto_rows": null,
            "grid_column": null,
            "grid_gap": null,
            "grid_row": null,
            "grid_template_areas": null,
            "grid_template_columns": null,
            "grid_template_rows": null,
            "height": null,
            "justify_content": null,
            "justify_items": null,
            "left": null,
            "margin": null,
            "max_height": null,
            "max_width": null,
            "min_height": null,
            "min_width": null,
            "object_fit": null,
            "object_position": null,
            "order": null,
            "overflow": null,
            "overflow_x": null,
            "overflow_y": null,
            "padding": null,
            "right": null,
            "top": null,
            "visibility": null,
            "width": null
          }
        },
        "e3da80fddaf44b26b7022b5d1e0c4639": {
          "model_module": "@jupyter-widgets/controls",
          "model_name": "DescriptionStyleModel",
          "model_module_version": "1.5.0",
          "state": {
            "_model_module": "@jupyter-widgets/controls",
            "_model_module_version": "1.5.0",
            "_model_name": "DescriptionStyleModel",
            "_view_count": null,
            "_view_module": "@jupyter-widgets/base",
            "_view_module_version": "1.2.0",
            "_view_name": "StyleView",
            "description_width": ""
          }
        },
        "fe88208f12044a1081c1c9a4e777cf93": {
          "model_module": "@jupyter-widgets/base",
          "model_name": "LayoutModel",
          "model_module_version": "1.2.0",
          "state": {
            "_model_module": "@jupyter-widgets/base",
            "_model_module_version": "1.2.0",
            "_model_name": "LayoutModel",
            "_view_count": null,
            "_view_module": "@jupyter-widgets/base",
            "_view_module_version": "1.2.0",
            "_view_name": "LayoutView",
            "align_content": null,
            "align_items": null,
            "align_self": null,
            "border": null,
            "bottom": null,
            "display": null,
            "flex": null,
            "flex_flow": null,
            "grid_area": null,
            "grid_auto_columns": null,
            "grid_auto_flow": null,
            "grid_auto_rows": null,
            "grid_column": null,
            "grid_gap": null,
            "grid_row": null,
            "grid_template_areas": null,
            "grid_template_columns": null,
            "grid_template_rows": null,
            "height": null,
            "justify_content": null,
            "justify_items": null,
            "left": null,
            "margin": null,
            "max_height": null,
            "max_width": null,
            "min_height": null,
            "min_width": null,
            "object_fit": null,
            "object_position": null,
            "order": null,
            "overflow": null,
            "overflow_x": null,
            "overflow_y": null,
            "padding": null,
            "right": null,
            "top": null,
            "visibility": null,
            "width": null
          }
        },
        "1b32055e25e7423890dc6f4c050f365f": {
          "model_module": "@jupyter-widgets/controls",
          "model_name": "ProgressStyleModel",
          "model_module_version": "1.5.0",
          "state": {
            "_model_module": "@jupyter-widgets/controls",
            "_model_module_version": "1.5.0",
            "_model_name": "ProgressStyleModel",
            "_view_count": null,
            "_view_module": "@jupyter-widgets/base",
            "_view_module_version": "1.2.0",
            "_view_name": "StyleView",
            "bar_color": null,
            "description_width": ""
          }
        },
        "bd4d7df4e16c4731b50928e40c9b71b3": {
          "model_module": "@jupyter-widgets/base",
          "model_name": "LayoutModel",
          "model_module_version": "1.2.0",
          "state": {
            "_model_module": "@jupyter-widgets/base",
            "_model_module_version": "1.2.0",
            "_model_name": "LayoutModel",
            "_view_count": null,
            "_view_module": "@jupyter-widgets/base",
            "_view_module_version": "1.2.0",
            "_view_name": "LayoutView",
            "align_content": null,
            "align_items": null,
            "align_self": null,
            "border": null,
            "bottom": null,
            "display": null,
            "flex": null,
            "flex_flow": null,
            "grid_area": null,
            "grid_auto_columns": null,
            "grid_auto_flow": null,
            "grid_auto_rows": null,
            "grid_column": null,
            "grid_gap": null,
            "grid_row": null,
            "grid_template_areas": null,
            "grid_template_columns": null,
            "grid_template_rows": null,
            "height": null,
            "justify_content": null,
            "justify_items": null,
            "left": null,
            "margin": null,
            "max_height": null,
            "max_width": null,
            "min_height": null,
            "min_width": null,
            "object_fit": null,
            "object_position": null,
            "order": null,
            "overflow": null,
            "overflow_x": null,
            "overflow_y": null,
            "padding": null,
            "right": null,
            "top": null,
            "visibility": null,
            "width": null
          }
        },
        "d1b6dbbfbfd84f2fb1c1d5d11157bfc5": {
          "model_module": "@jupyter-widgets/controls",
          "model_name": "DescriptionStyleModel",
          "model_module_version": "1.5.0",
          "state": {
            "_model_module": "@jupyter-widgets/controls",
            "_model_module_version": "1.5.0",
            "_model_name": "DescriptionStyleModel",
            "_view_count": null,
            "_view_module": "@jupyter-widgets/base",
            "_view_module_version": "1.2.0",
            "_view_name": "StyleView",
            "description_width": ""
          }
        },
        "d42af75de9044c428ced4980bfa505e2": {
          "model_module": "@jupyter-widgets/controls",
          "model_name": "HBoxModel",
          "model_module_version": "1.5.0",
          "state": {
            "_dom_classes": [],
            "_model_module": "@jupyter-widgets/controls",
            "_model_module_version": "1.5.0",
            "_model_name": "HBoxModel",
            "_view_count": null,
            "_view_module": "@jupyter-widgets/controls",
            "_view_module_version": "1.5.0",
            "_view_name": "HBoxView",
            "box_style": "",
            "children": [
              "IPY_MODEL_aeb4f8097ec34f9eac360f30f29a2611",
              "IPY_MODEL_87dcea6c81a244a08dde958ba9825c59",
              "IPY_MODEL_6ca1aec9fdb444219b2f63b66c316412"
            ],
            "layout": "IPY_MODEL_b0448df6748a468387a1af085afaec9d"
          }
        },
        "aeb4f8097ec34f9eac360f30f29a2611": {
          "model_module": "@jupyter-widgets/controls",
          "model_name": "HTMLModel",
          "model_module_version": "1.5.0",
          "state": {
            "_dom_classes": [],
            "_model_module": "@jupyter-widgets/controls",
            "_model_module_version": "1.5.0",
            "_model_name": "HTMLModel",
            "_view_count": null,
            "_view_module": "@jupyter-widgets/controls",
            "_view_module_version": "1.5.0",
            "_view_name": "HTMLView",
            "description": "",
            "description_tooltip": null,
            "layout": "IPY_MODEL_55bf3ff519584e0f91a673c17eb95778",
            "placeholder": "​",
            "style": "IPY_MODEL_08698bd73c824c8fb7c0c0d389370036",
            "value": "Generating train split: "
          }
        },
        "87dcea6c81a244a08dde958ba9825c59": {
          "model_module": "@jupyter-widgets/controls",
          "model_name": "FloatProgressModel",
          "model_module_version": "1.5.0",
          "state": {
            "_dom_classes": [],
            "_model_module": "@jupyter-widgets/controls",
            "_model_module_version": "1.5.0",
            "_model_name": "FloatProgressModel",
            "_view_count": null,
            "_view_module": "@jupyter-widgets/controls",
            "_view_module_version": "1.5.0",
            "_view_name": "ProgressView",
            "bar_style": "success",
            "description": "",
            "description_tooltip": null,
            "layout": "IPY_MODEL_2e0c8eb666164ee992c9571f80051cc5",
            "max": 1,
            "min": 0,
            "orientation": "horizontal",
            "style": "IPY_MODEL_c71454f13a74426fb56ee2a7d1e7e2c8",
            "value": 1
          }
        },
        "6ca1aec9fdb444219b2f63b66c316412": {
          "model_module": "@jupyter-widgets/controls",
          "model_name": "HTMLModel",
          "model_module_version": "1.5.0",
          "state": {
            "_dom_classes": [],
            "_model_module": "@jupyter-widgets/controls",
            "_model_module_version": "1.5.0",
            "_model_name": "HTMLModel",
            "_view_count": null,
            "_view_module": "@jupyter-widgets/controls",
            "_view_module_version": "1.5.0",
            "_view_name": "HTMLView",
            "description": "",
            "description_tooltip": null,
            "layout": "IPY_MODEL_f88285b9c8e349fcbfbe3422150794b4",
            "placeholder": "​",
            "style": "IPY_MODEL_884e2af0a0844b95a291e3b0a24347ed",
            "value": " 4710/0 [00:00&lt;00:00, 12798.19 examples/s]"
          }
        },
        "b0448df6748a468387a1af085afaec9d": {
          "model_module": "@jupyter-widgets/base",
          "model_name": "LayoutModel",
          "model_module_version": "1.2.0",
          "state": {
            "_model_module": "@jupyter-widgets/base",
            "_model_module_version": "1.2.0",
            "_model_name": "LayoutModel",
            "_view_count": null,
            "_view_module": "@jupyter-widgets/base",
            "_view_module_version": "1.2.0",
            "_view_name": "LayoutView",
            "align_content": null,
            "align_items": null,
            "align_self": null,
            "border": null,
            "bottom": null,
            "display": null,
            "flex": null,
            "flex_flow": null,
            "grid_area": null,
            "grid_auto_columns": null,
            "grid_auto_flow": null,
            "grid_auto_rows": null,
            "grid_column": null,
            "grid_gap": null,
            "grid_row": null,
            "grid_template_areas": null,
            "grid_template_columns": null,
            "grid_template_rows": null,
            "height": null,
            "justify_content": null,
            "justify_items": null,
            "left": null,
            "margin": null,
            "max_height": null,
            "max_width": null,
            "min_height": null,
            "min_width": null,
            "object_fit": null,
            "object_position": null,
            "order": null,
            "overflow": null,
            "overflow_x": null,
            "overflow_y": null,
            "padding": null,
            "right": null,
            "top": null,
            "visibility": null,
            "width": null
          }
        },
        "55bf3ff519584e0f91a673c17eb95778": {
          "model_module": "@jupyter-widgets/base",
          "model_name": "LayoutModel",
          "model_module_version": "1.2.0",
          "state": {
            "_model_module": "@jupyter-widgets/base",
            "_model_module_version": "1.2.0",
            "_model_name": "LayoutModel",
            "_view_count": null,
            "_view_module": "@jupyter-widgets/base",
            "_view_module_version": "1.2.0",
            "_view_name": "LayoutView",
            "align_content": null,
            "align_items": null,
            "align_self": null,
            "border": null,
            "bottom": null,
            "display": null,
            "flex": null,
            "flex_flow": null,
            "grid_area": null,
            "grid_auto_columns": null,
            "grid_auto_flow": null,
            "grid_auto_rows": null,
            "grid_column": null,
            "grid_gap": null,
            "grid_row": null,
            "grid_template_areas": null,
            "grid_template_columns": null,
            "grid_template_rows": null,
            "height": null,
            "justify_content": null,
            "justify_items": null,
            "left": null,
            "margin": null,
            "max_height": null,
            "max_width": null,
            "min_height": null,
            "min_width": null,
            "object_fit": null,
            "object_position": null,
            "order": null,
            "overflow": null,
            "overflow_x": null,
            "overflow_y": null,
            "padding": null,
            "right": null,
            "top": null,
            "visibility": null,
            "width": null
          }
        },
        "08698bd73c824c8fb7c0c0d389370036": {
          "model_module": "@jupyter-widgets/controls",
          "model_name": "DescriptionStyleModel",
          "model_module_version": "1.5.0",
          "state": {
            "_model_module": "@jupyter-widgets/controls",
            "_model_module_version": "1.5.0",
            "_model_name": "DescriptionStyleModel",
            "_view_count": null,
            "_view_module": "@jupyter-widgets/base",
            "_view_module_version": "1.2.0",
            "_view_name": "StyleView",
            "description_width": ""
          }
        },
        "2e0c8eb666164ee992c9571f80051cc5": {
          "model_module": "@jupyter-widgets/base",
          "model_name": "LayoutModel",
          "model_module_version": "1.2.0",
          "state": {
            "_model_module": "@jupyter-widgets/base",
            "_model_module_version": "1.2.0",
            "_model_name": "LayoutModel",
            "_view_count": null,
            "_view_module": "@jupyter-widgets/base",
            "_view_module_version": "1.2.0",
            "_view_name": "LayoutView",
            "align_content": null,
            "align_items": null,
            "align_self": null,
            "border": null,
            "bottom": null,
            "display": null,
            "flex": null,
            "flex_flow": null,
            "grid_area": null,
            "grid_auto_columns": null,
            "grid_auto_flow": null,
            "grid_auto_rows": null,
            "grid_column": null,
            "grid_gap": null,
            "grid_row": null,
            "grid_template_areas": null,
            "grid_template_columns": null,
            "grid_template_rows": null,
            "height": null,
            "justify_content": null,
            "justify_items": null,
            "left": null,
            "margin": null,
            "max_height": null,
            "max_width": null,
            "min_height": null,
            "min_width": null,
            "object_fit": null,
            "object_position": null,
            "order": null,
            "overflow": null,
            "overflow_x": null,
            "overflow_y": null,
            "padding": null,
            "right": null,
            "top": null,
            "visibility": null,
            "width": "20px"
          }
        },
        "c71454f13a74426fb56ee2a7d1e7e2c8": {
          "model_module": "@jupyter-widgets/controls",
          "model_name": "ProgressStyleModel",
          "model_module_version": "1.5.0",
          "state": {
            "_model_module": "@jupyter-widgets/controls",
            "_model_module_version": "1.5.0",
            "_model_name": "ProgressStyleModel",
            "_view_count": null,
            "_view_module": "@jupyter-widgets/base",
            "_view_module_version": "1.2.0",
            "_view_name": "StyleView",
            "bar_color": null,
            "description_width": ""
          }
        },
        "f88285b9c8e349fcbfbe3422150794b4": {
          "model_module": "@jupyter-widgets/base",
          "model_name": "LayoutModel",
          "model_module_version": "1.2.0",
          "state": {
            "_model_module": "@jupyter-widgets/base",
            "_model_module_version": "1.2.0",
            "_model_name": "LayoutModel",
            "_view_count": null,
            "_view_module": "@jupyter-widgets/base",
            "_view_module_version": "1.2.0",
            "_view_name": "LayoutView",
            "align_content": null,
            "align_items": null,
            "align_self": null,
            "border": null,
            "bottom": null,
            "display": null,
            "flex": null,
            "flex_flow": null,
            "grid_area": null,
            "grid_auto_columns": null,
            "grid_auto_flow": null,
            "grid_auto_rows": null,
            "grid_column": null,
            "grid_gap": null,
            "grid_row": null,
            "grid_template_areas": null,
            "grid_template_columns": null,
            "grid_template_rows": null,
            "height": null,
            "justify_content": null,
            "justify_items": null,
            "left": null,
            "margin": null,
            "max_height": null,
            "max_width": null,
            "min_height": null,
            "min_width": null,
            "object_fit": null,
            "object_position": null,
            "order": null,
            "overflow": null,
            "overflow_x": null,
            "overflow_y": null,
            "padding": null,
            "right": null,
            "top": null,
            "visibility": null,
            "width": null
          }
        },
        "884e2af0a0844b95a291e3b0a24347ed": {
          "model_module": "@jupyter-widgets/controls",
          "model_name": "DescriptionStyleModel",
          "model_module_version": "1.5.0",
          "state": {
            "_model_module": "@jupyter-widgets/controls",
            "_model_module_version": "1.5.0",
            "_model_name": "DescriptionStyleModel",
            "_view_count": null,
            "_view_module": "@jupyter-widgets/base",
            "_view_module_version": "1.2.0",
            "_view_name": "StyleView",
            "description_width": ""
          }
        },
        "83bcf370d29649a184385dcc8ebd0db3": {
          "model_module": "@jupyter-widgets/controls",
          "model_name": "HBoxModel",
          "model_module_version": "1.5.0",
          "state": {
            "_dom_classes": [],
            "_model_module": "@jupyter-widgets/controls",
            "_model_module_version": "1.5.0",
            "_model_name": "HBoxModel",
            "_view_count": null,
            "_view_module": "@jupyter-widgets/controls",
            "_view_module_version": "1.5.0",
            "_view_name": "HBoxView",
            "box_style": "",
            "children": [
              "IPY_MODEL_abe8cb6cee3c4033b30266c84bd1c014",
              "IPY_MODEL_2aaafbf386884de6bf4ca0c0732ecc1c",
              "IPY_MODEL_4f8a54f1204f47c9adadf4897b5b6835"
            ],
            "layout": "IPY_MODEL_f6bbe2fbd8e04188b78bac3792b30c81"
          }
        },
        "abe8cb6cee3c4033b30266c84bd1c014": {
          "model_module": "@jupyter-widgets/controls",
          "model_name": "HTMLModel",
          "model_module_version": "1.5.0",
          "state": {
            "_dom_classes": [],
            "_model_module": "@jupyter-widgets/controls",
            "_model_module_version": "1.5.0",
            "_model_name": "HTMLModel",
            "_view_count": null,
            "_view_module": "@jupyter-widgets/controls",
            "_view_module_version": "1.5.0",
            "_view_name": "HTMLView",
            "description": "",
            "description_tooltip": null,
            "layout": "IPY_MODEL_b6f84fe156354101a5f5018243adef81",
            "placeholder": "​",
            "style": "IPY_MODEL_35ead204d2614a3dbe7cb07f5ae9f412",
            "value": "Generating validation split: "
          }
        },
        "2aaafbf386884de6bf4ca0c0732ecc1c": {
          "model_module": "@jupyter-widgets/controls",
          "model_name": "FloatProgressModel",
          "model_module_version": "1.5.0",
          "state": {
            "_dom_classes": [],
            "_model_module": "@jupyter-widgets/controls",
            "_model_module_version": "1.5.0",
            "_model_name": "FloatProgressModel",
            "_view_count": null,
            "_view_module": "@jupyter-widgets/controls",
            "_view_module_version": "1.5.0",
            "_view_name": "ProgressView",
            "bar_style": "success",
            "description": "",
            "description_tooltip": null,
            "layout": "IPY_MODEL_6c8bd9e725f0425d9f5dd705523d218e",
            "max": 1,
            "min": 0,
            "orientation": "horizontal",
            "style": "IPY_MODEL_faec26e8f5aa4fb6afde8de62edeaa9c",
            "value": 1
          }
        },
        "4f8a54f1204f47c9adadf4897b5b6835": {
          "model_module": "@jupyter-widgets/controls",
          "model_name": "HTMLModel",
          "model_module_version": "1.5.0",
          "state": {
            "_dom_classes": [],
            "_model_module": "@jupyter-widgets/controls",
            "_model_module_version": "1.5.0",
            "_model_name": "HTMLModel",
            "_view_count": null,
            "_view_module": "@jupyter-widgets/controls",
            "_view_module_version": "1.5.0",
            "_view_name": "HTMLView",
            "description": "",
            "description_tooltip": null,
            "layout": "IPY_MODEL_ab15b5dc0e1944ea8588238500710654",
            "placeholder": "​",
            "style": "IPY_MODEL_d593b685a6b3492798a1588d9afc0cbc",
            "value": " 672/0 [00:00&lt;00:00, 10350.34 examples/s]"
          }
        },
        "f6bbe2fbd8e04188b78bac3792b30c81": {
          "model_module": "@jupyter-widgets/base",
          "model_name": "LayoutModel",
          "model_module_version": "1.2.0",
          "state": {
            "_model_module": "@jupyter-widgets/base",
            "_model_module_version": "1.2.0",
            "_model_name": "LayoutModel",
            "_view_count": null,
            "_view_module": "@jupyter-widgets/base",
            "_view_module_version": "1.2.0",
            "_view_name": "LayoutView",
            "align_content": null,
            "align_items": null,
            "align_self": null,
            "border": null,
            "bottom": null,
            "display": null,
            "flex": null,
            "flex_flow": null,
            "grid_area": null,
            "grid_auto_columns": null,
            "grid_auto_flow": null,
            "grid_auto_rows": null,
            "grid_column": null,
            "grid_gap": null,
            "grid_row": null,
            "grid_template_areas": null,
            "grid_template_columns": null,
            "grid_template_rows": null,
            "height": null,
            "justify_content": null,
            "justify_items": null,
            "left": null,
            "margin": null,
            "max_height": null,
            "max_width": null,
            "min_height": null,
            "min_width": null,
            "object_fit": null,
            "object_position": null,
            "order": null,
            "overflow": null,
            "overflow_x": null,
            "overflow_y": null,
            "padding": null,
            "right": null,
            "top": null,
            "visibility": null,
            "width": null
          }
        },
        "b6f84fe156354101a5f5018243adef81": {
          "model_module": "@jupyter-widgets/base",
          "model_name": "LayoutModel",
          "model_module_version": "1.2.0",
          "state": {
            "_model_module": "@jupyter-widgets/base",
            "_model_module_version": "1.2.0",
            "_model_name": "LayoutModel",
            "_view_count": null,
            "_view_module": "@jupyter-widgets/base",
            "_view_module_version": "1.2.0",
            "_view_name": "LayoutView",
            "align_content": null,
            "align_items": null,
            "align_self": null,
            "border": null,
            "bottom": null,
            "display": null,
            "flex": null,
            "flex_flow": null,
            "grid_area": null,
            "grid_auto_columns": null,
            "grid_auto_flow": null,
            "grid_auto_rows": null,
            "grid_column": null,
            "grid_gap": null,
            "grid_row": null,
            "grid_template_areas": null,
            "grid_template_columns": null,
            "grid_template_rows": null,
            "height": null,
            "justify_content": null,
            "justify_items": null,
            "left": null,
            "margin": null,
            "max_height": null,
            "max_width": null,
            "min_height": null,
            "min_width": null,
            "object_fit": null,
            "object_position": null,
            "order": null,
            "overflow": null,
            "overflow_x": null,
            "overflow_y": null,
            "padding": null,
            "right": null,
            "top": null,
            "visibility": null,
            "width": null
          }
        },
        "35ead204d2614a3dbe7cb07f5ae9f412": {
          "model_module": "@jupyter-widgets/controls",
          "model_name": "DescriptionStyleModel",
          "model_module_version": "1.5.0",
          "state": {
            "_model_module": "@jupyter-widgets/controls",
            "_model_module_version": "1.5.0",
            "_model_name": "DescriptionStyleModel",
            "_view_count": null,
            "_view_module": "@jupyter-widgets/base",
            "_view_module_version": "1.2.0",
            "_view_name": "StyleView",
            "description_width": ""
          }
        },
        "6c8bd9e725f0425d9f5dd705523d218e": {
          "model_module": "@jupyter-widgets/base",
          "model_name": "LayoutModel",
          "model_module_version": "1.2.0",
          "state": {
            "_model_module": "@jupyter-widgets/base",
            "_model_module_version": "1.2.0",
            "_model_name": "LayoutModel",
            "_view_count": null,
            "_view_module": "@jupyter-widgets/base",
            "_view_module_version": "1.2.0",
            "_view_name": "LayoutView",
            "align_content": null,
            "align_items": null,
            "align_self": null,
            "border": null,
            "bottom": null,
            "display": null,
            "flex": null,
            "flex_flow": null,
            "grid_area": null,
            "grid_auto_columns": null,
            "grid_auto_flow": null,
            "grid_auto_rows": null,
            "grid_column": null,
            "grid_gap": null,
            "grid_row": null,
            "grid_template_areas": null,
            "grid_template_columns": null,
            "grid_template_rows": null,
            "height": null,
            "justify_content": null,
            "justify_items": null,
            "left": null,
            "margin": null,
            "max_height": null,
            "max_width": null,
            "min_height": null,
            "min_width": null,
            "object_fit": null,
            "object_position": null,
            "order": null,
            "overflow": null,
            "overflow_x": null,
            "overflow_y": null,
            "padding": null,
            "right": null,
            "top": null,
            "visibility": null,
            "width": "20px"
          }
        },
        "faec26e8f5aa4fb6afde8de62edeaa9c": {
          "model_module": "@jupyter-widgets/controls",
          "model_name": "ProgressStyleModel",
          "model_module_version": "1.5.0",
          "state": {
            "_model_module": "@jupyter-widgets/controls",
            "_model_module_version": "1.5.0",
            "_model_name": "ProgressStyleModel",
            "_view_count": null,
            "_view_module": "@jupyter-widgets/base",
            "_view_module_version": "1.2.0",
            "_view_name": "StyleView",
            "bar_color": null,
            "description_width": ""
          }
        },
        "ab15b5dc0e1944ea8588238500710654": {
          "model_module": "@jupyter-widgets/base",
          "model_name": "LayoutModel",
          "model_module_version": "1.2.0",
          "state": {
            "_model_module": "@jupyter-widgets/base",
            "_model_module_version": "1.2.0",
            "_model_name": "LayoutModel",
            "_view_count": null,
            "_view_module": "@jupyter-widgets/base",
            "_view_module_version": "1.2.0",
            "_view_name": "LayoutView",
            "align_content": null,
            "align_items": null,
            "align_self": null,
            "border": null,
            "bottom": null,
            "display": null,
            "flex": null,
            "flex_flow": null,
            "grid_area": null,
            "grid_auto_columns": null,
            "grid_auto_flow": null,
            "grid_auto_rows": null,
            "grid_column": null,
            "grid_gap": null,
            "grid_row": null,
            "grid_template_areas": null,
            "grid_template_columns": null,
            "grid_template_rows": null,
            "height": null,
            "justify_content": null,
            "justify_items": null,
            "left": null,
            "margin": null,
            "max_height": null,
            "max_width": null,
            "min_height": null,
            "min_width": null,
            "object_fit": null,
            "object_position": null,
            "order": null,
            "overflow": null,
            "overflow_x": null,
            "overflow_y": null,
            "padding": null,
            "right": null,
            "top": null,
            "visibility": null,
            "width": null
          }
        },
        "d593b685a6b3492798a1588d9afc0cbc": {
          "model_module": "@jupyter-widgets/controls",
          "model_name": "DescriptionStyleModel",
          "model_module_version": "1.5.0",
          "state": {
            "_model_module": "@jupyter-widgets/controls",
            "_model_module_version": "1.5.0",
            "_model_name": "DescriptionStyleModel",
            "_view_count": null,
            "_view_module": "@jupyter-widgets/base",
            "_view_module_version": "1.2.0",
            "_view_name": "StyleView",
            "description_width": ""
          }
        },
        "8e331264ba4148308867d94caa46f284": {
          "model_module": "@jupyter-widgets/controls",
          "model_name": "HBoxModel",
          "model_module_version": "1.5.0",
          "state": {
            "_dom_classes": [],
            "_model_module": "@jupyter-widgets/controls",
            "_model_module_version": "1.5.0",
            "_model_name": "HBoxModel",
            "_view_count": null,
            "_view_module": "@jupyter-widgets/controls",
            "_view_module_version": "1.5.0",
            "_view_name": "HBoxView",
            "box_style": "",
            "children": [
              "IPY_MODEL_830096703a2442169444411c73224c00",
              "IPY_MODEL_82e17e1adc704213b0843e7eec635452",
              "IPY_MODEL_e3a3df16ec55435cad8b3aa4a3a5d556"
            ],
            "layout": "IPY_MODEL_431f04ddcd8849b4ab8e79e61451dd41"
          }
        },
        "830096703a2442169444411c73224c00": {
          "model_module": "@jupyter-widgets/controls",
          "model_name": "HTMLModel",
          "model_module_version": "1.5.0",
          "state": {
            "_dom_classes": [],
            "_model_module": "@jupyter-widgets/controls",
            "_model_module_version": "1.5.0",
            "_model_name": "HTMLModel",
            "_view_count": null,
            "_view_module": "@jupyter-widgets/controls",
            "_view_module_version": "1.5.0",
            "_view_name": "HTMLView",
            "description": "",
            "description_tooltip": null,
            "layout": "IPY_MODEL_1a4653ae88794c66acf14d59918efa59",
            "placeholder": "​",
            "style": "IPY_MODEL_4565f36d52794117886a45cc36bb4300",
            "value": "Generating test split: "
          }
        },
        "82e17e1adc704213b0843e7eec635452": {
          "model_module": "@jupyter-widgets/controls",
          "model_name": "FloatProgressModel",
          "model_module_version": "1.5.0",
          "state": {
            "_dom_classes": [],
            "_model_module": "@jupyter-widgets/controls",
            "_model_module_version": "1.5.0",
            "_model_name": "FloatProgressModel",
            "_view_count": null,
            "_view_module": "@jupyter-widgets/controls",
            "_view_module_version": "1.5.0",
            "_view_name": "ProgressView",
            "bar_style": "success",
            "description": "",
            "description_tooltip": null,
            "layout": "IPY_MODEL_743cc299ad71406781b5acdb8a15e5f0",
            "max": 1,
            "min": 0,
            "orientation": "horizontal",
            "style": "IPY_MODEL_a33d73aba8034f1497af3be2eade5aaf",
            "value": 1
          }
        },
        "e3a3df16ec55435cad8b3aa4a3a5d556": {
          "model_module": "@jupyter-widgets/controls",
          "model_name": "HTMLModel",
          "model_module_version": "1.5.0",
          "state": {
            "_dom_classes": [],
            "_model_module": "@jupyter-widgets/controls",
            "_model_module_version": "1.5.0",
            "_model_name": "HTMLModel",
            "_view_count": null,
            "_view_module": "@jupyter-widgets/controls",
            "_view_module_version": "1.5.0",
            "_view_name": "HTMLView",
            "description": "",
            "description_tooltip": null,
            "layout": "IPY_MODEL_12b94d567ba340e1b95b9de9c2634d17",
            "placeholder": "​",
            "style": "IPY_MODEL_621d3c343190452dbaa8482159e47b43",
            "value": " 1342/0 [00:00&lt;00:00, 11922.71 examples/s]"
          }
        },
        "431f04ddcd8849b4ab8e79e61451dd41": {
          "model_module": "@jupyter-widgets/base",
          "model_name": "LayoutModel",
          "model_module_version": "1.2.0",
          "state": {
            "_model_module": "@jupyter-widgets/base",
            "_model_module_version": "1.2.0",
            "_model_name": "LayoutModel",
            "_view_count": null,
            "_view_module": "@jupyter-widgets/base",
            "_view_module_version": "1.2.0",
            "_view_name": "LayoutView",
            "align_content": null,
            "align_items": null,
            "align_self": null,
            "border": null,
            "bottom": null,
            "display": null,
            "flex": null,
            "flex_flow": null,
            "grid_area": null,
            "grid_auto_columns": null,
            "grid_auto_flow": null,
            "grid_auto_rows": null,
            "grid_column": null,
            "grid_gap": null,
            "grid_row": null,
            "grid_template_areas": null,
            "grid_template_columns": null,
            "grid_template_rows": null,
            "height": null,
            "justify_content": null,
            "justify_items": null,
            "left": null,
            "margin": null,
            "max_height": null,
            "max_width": null,
            "min_height": null,
            "min_width": null,
            "object_fit": null,
            "object_position": null,
            "order": null,
            "overflow": null,
            "overflow_x": null,
            "overflow_y": null,
            "padding": null,
            "right": null,
            "top": null,
            "visibility": null,
            "width": null
          }
        },
        "1a4653ae88794c66acf14d59918efa59": {
          "model_module": "@jupyter-widgets/base",
          "model_name": "LayoutModel",
          "model_module_version": "1.2.0",
          "state": {
            "_model_module": "@jupyter-widgets/base",
            "_model_module_version": "1.2.0",
            "_model_name": "LayoutModel",
            "_view_count": null,
            "_view_module": "@jupyter-widgets/base",
            "_view_module_version": "1.2.0",
            "_view_name": "LayoutView",
            "align_content": null,
            "align_items": null,
            "align_self": null,
            "border": null,
            "bottom": null,
            "display": null,
            "flex": null,
            "flex_flow": null,
            "grid_area": null,
            "grid_auto_columns": null,
            "grid_auto_flow": null,
            "grid_auto_rows": null,
            "grid_column": null,
            "grid_gap": null,
            "grid_row": null,
            "grid_template_areas": null,
            "grid_template_columns": null,
            "grid_template_rows": null,
            "height": null,
            "justify_content": null,
            "justify_items": null,
            "left": null,
            "margin": null,
            "max_height": null,
            "max_width": null,
            "min_height": null,
            "min_width": null,
            "object_fit": null,
            "object_position": null,
            "order": null,
            "overflow": null,
            "overflow_x": null,
            "overflow_y": null,
            "padding": null,
            "right": null,
            "top": null,
            "visibility": null,
            "width": null
          }
        },
        "4565f36d52794117886a45cc36bb4300": {
          "model_module": "@jupyter-widgets/controls",
          "model_name": "DescriptionStyleModel",
          "model_module_version": "1.5.0",
          "state": {
            "_model_module": "@jupyter-widgets/controls",
            "_model_module_version": "1.5.0",
            "_model_name": "DescriptionStyleModel",
            "_view_count": null,
            "_view_module": "@jupyter-widgets/base",
            "_view_module_version": "1.2.0",
            "_view_name": "StyleView",
            "description_width": ""
          }
        },
        "743cc299ad71406781b5acdb8a15e5f0": {
          "model_module": "@jupyter-widgets/base",
          "model_name": "LayoutModel",
          "model_module_version": "1.2.0",
          "state": {
            "_model_module": "@jupyter-widgets/base",
            "_model_module_version": "1.2.0",
            "_model_name": "LayoutModel",
            "_view_count": null,
            "_view_module": "@jupyter-widgets/base",
            "_view_module_version": "1.2.0",
            "_view_name": "LayoutView",
            "align_content": null,
            "align_items": null,
            "align_self": null,
            "border": null,
            "bottom": null,
            "display": null,
            "flex": null,
            "flex_flow": null,
            "grid_area": null,
            "grid_auto_columns": null,
            "grid_auto_flow": null,
            "grid_auto_rows": null,
            "grid_column": null,
            "grid_gap": null,
            "grid_row": null,
            "grid_template_areas": null,
            "grid_template_columns": null,
            "grid_template_rows": null,
            "height": null,
            "justify_content": null,
            "justify_items": null,
            "left": null,
            "margin": null,
            "max_height": null,
            "max_width": null,
            "min_height": null,
            "min_width": null,
            "object_fit": null,
            "object_position": null,
            "order": null,
            "overflow": null,
            "overflow_x": null,
            "overflow_y": null,
            "padding": null,
            "right": null,
            "top": null,
            "visibility": null,
            "width": "20px"
          }
        },
        "a33d73aba8034f1497af3be2eade5aaf": {
          "model_module": "@jupyter-widgets/controls",
          "model_name": "ProgressStyleModel",
          "model_module_version": "1.5.0",
          "state": {
            "_model_module": "@jupyter-widgets/controls",
            "_model_module_version": "1.5.0",
            "_model_name": "ProgressStyleModel",
            "_view_count": null,
            "_view_module": "@jupyter-widgets/base",
            "_view_module_version": "1.2.0",
            "_view_name": "StyleView",
            "bar_color": null,
            "description_width": ""
          }
        },
        "12b94d567ba340e1b95b9de9c2634d17": {
          "model_module": "@jupyter-widgets/base",
          "model_name": "LayoutModel",
          "model_module_version": "1.2.0",
          "state": {
            "_model_module": "@jupyter-widgets/base",
            "_model_module_version": "1.2.0",
            "_model_name": "LayoutModel",
            "_view_count": null,
            "_view_module": "@jupyter-widgets/base",
            "_view_module_version": "1.2.0",
            "_view_name": "LayoutView",
            "align_content": null,
            "align_items": null,
            "align_self": null,
            "border": null,
            "bottom": null,
            "display": null,
            "flex": null,
            "flex_flow": null,
            "grid_area": null,
            "grid_auto_columns": null,
            "grid_auto_flow": null,
            "grid_auto_rows": null,
            "grid_column": null,
            "grid_gap": null,
            "grid_row": null,
            "grid_template_areas": null,
            "grid_template_columns": null,
            "grid_template_rows": null,
            "height": null,
            "justify_content": null,
            "justify_items": null,
            "left": null,
            "margin": null,
            "max_height": null,
            "max_width": null,
            "min_height": null,
            "min_width": null,
            "object_fit": null,
            "object_position": null,
            "order": null,
            "overflow": null,
            "overflow_x": null,
            "overflow_y": null,
            "padding": null,
            "right": null,
            "top": null,
            "visibility": null,
            "width": null
          }
        },
        "621d3c343190452dbaa8482159e47b43": {
          "model_module": "@jupyter-widgets/controls",
          "model_name": "DescriptionStyleModel",
          "model_module_version": "1.5.0",
          "state": {
            "_model_module": "@jupyter-widgets/controls",
            "_model_module_version": "1.5.0",
            "_model_name": "DescriptionStyleModel",
            "_view_count": null,
            "_view_module": "@jupyter-widgets/base",
            "_view_module_version": "1.2.0",
            "_view_name": "StyleView",
            "description_width": ""
          }
        }
      }
    }
  },
  "nbformat": 4,
  "nbformat_minor": 0
}